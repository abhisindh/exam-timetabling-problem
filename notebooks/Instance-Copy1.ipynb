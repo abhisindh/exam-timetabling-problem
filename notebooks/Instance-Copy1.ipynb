{
 "cells": [
  {
   "cell_type": "code",
   "execution_count": 10,
   "id": "34e0e1d9",
   "metadata": {},
   "outputs": [],
   "source": [
    "import pandas as pd\n",
    "import numpy as np\n",
    "from tqdm.notebook import tqdm\n",
    "from scipy.sparse import csr_matrix\n",
    "import time\n",
    "import csv"
   ]
  },
  {
   "cell_type": "code",
   "execution_count": 11,
   "id": "6980d43a",
   "metadata": {},
   "outputs": [],
   "source": [
    "# To print big matrices as whole\n",
    "np.set_printoptions(linewidth=np.inf, threshold=np.inf)"
   ]
  },
  {
   "cell_type": "code",
   "execution_count": 12,
   "id": "ed688233",
   "metadata": {},
   "outputs": [],
   "source": [
    "instance_list = ['car-s-91','car-f-92','ear-f-83', 'hec-s-92', 'kfu-s-93', 'lse-f-91', 'pur-s-93', 'rye-s-93', 'sta-f-83', 'tre-s-92', 'uta-s-92', 'ute-s-92', 'yor-f-83']"
   ]
  },
  {
   "cell_type": "code",
   "execution_count": 18,
   "id": "f23b1d0e",
   "metadata": {},
   "outputs": [],
   "source": [
    "data_folder = '../data'\n",
    "class Instance():\n",
    "    def __init__(self, file_name):\n",
    "        self.file_name = file_name\n",
    "        self.get_room_data()\n",
    "        self.get_room_preference()\n",
    "        self.get_course_data()\n",
    "        self.get_dates()\n",
    "        self.get_times()\n",
    "        self.get_datetime_preference()\n",
    "        self.get_student_data()\n",
    "        self.max_violation_dict = {\"overlap violation\" : 1, #self.numCourses,\n",
    "                                    \"capacity violation\" : 1, #self.numRooms * self.numDateTime,\n",
    "                                    \"facility violation\" : 1, #self.numCourses,\n",
    "                                    \"proximity penalty\" : 1, #np.triu(self.conflict_boolean, k=1).sum() * (2**5),\n",
    "                                    \"date time penalty\" : 1, #2**5 * self.numCourses,\n",
    "                                    \"room penalty\" : 1 #2**5 *self.numCourses\n",
    "                                    }\n",
    "        print(f\"Created instance {file_name}.\")\n",
    "        print(f\"number of courses = {self.numCourses}, number of students = {self.numStudents}\")\n",
    "        print(f\"number of timeslots = {self.numDateTime}, number of rooms = {self.numRooms}\")\n",
    "        \n",
    "    def get_room_data(self):\n",
    "        self.room_df = pd.read_csv(f\"{data_folder}/{self.file_name}/room_data.csv\")\n",
    "        self.capacityList = self.room_df['Capacity'].to_numpy(int)\n",
    "        self.roomList = self.room_df['RoomId'].to_numpy()\n",
    "        self.numRooms = len(self.roomList)\n",
    "        self.r_f_matrix = self.room_df.drop(['RoomId', 'Capacity'], axis=1).to_numpy(int)\n",
    "        self.roomIndex = {room: idx for idx, room in enumerate(self.roomList)}\n",
    "        \n",
    "    def get_room_preference(self):\n",
    "        self.room_preference_df = pd.read_csv(f\"{data_folder}/{self.file_name}/room_preference.csv\")\n",
    "        self.r_pref_matrix = self.room_preference_df.drop(['courseId'], axis=1).to_numpy(int)\n",
    "        \n",
    "    def get_course_data(self):\n",
    "        self.course_df = pd.read_csv(f\"{data_folder}/{self.file_name}/course_data.csv\")\n",
    "        self.courseList = self.course_df['courseId'].to_numpy()\n",
    "        self.numCourses = len(self.courseList)\n",
    "        self.courseIndex = {course: idx for idx, course in enumerate(self.courseList)}\n",
    "        self.numStudentsList = self.course_df['numStudents'].to_numpy(int)\n",
    "        self.c_f_matrix = self.course_df.drop(['courseId', 'numStudents'], axis=1).to_numpy(int)\n",
    "        self.c_r_feasible = self.create_c_r_feasibility().astype(int)\n",
    "        \n",
    "    def get_dates(self):\n",
    "        self.date_df = pd.read_csv(f\"{data_folder}/{self.file_name}/dates.csv\")\n",
    "        self.dateList = self.date_df['Date'].to_numpy()\n",
    "        self.tDayList = self.date_df['T-Day'].to_numpy()\n",
    "        self.numDays = len(self.dateList)\n",
    "        \n",
    "    def get_times(self):\n",
    "        self.time_df = pd.read_csv(f\"{data_folder}/{self.file_name}/times.csv\")\n",
    "        self.timeList = self.time_df['Time'].to_numpy()\n",
    "        self.numTime = len(self.timeList)\n",
    "        self.dateTimeList = np.array([date + 'T' + time for date in self.dateList for time in self.timeList])\n",
    "        self.numDateTime = len(self.dateTimeList)\n",
    "        self.datetime_tday = {self.dateTimeList[i]:self.tDayList[i//self.numTime] for i in range(self.numDateTime)}\n",
    "        \n",
    "    def get_datetime_preference(self):\n",
    "        self.datetime_preference_df = pd.read_csv(f\"{data_folder}/{self.file_name}/datetime_preference.csv\")\n",
    "        self.d_pref_matrix = self.datetime_preference_df.drop(['courseId'], axis=1).to_numpy(int)              \n",
    "        \n",
    "    def get_student_data(self):\n",
    "        self.student_df = pd.read_csv(f\"{data_folder}/{self.file_name}/student_data.csv\")\n",
    "        self.studentList = self.student_df['rollNum'].to_numpy()\n",
    "        self.student_df.set_index('rollNum', inplace=True)\n",
    "        self.numStudents = len(self.studentList)\n",
    "        self.studentIndex = {student: idx for idx, student in enumerate(self.studentList)}\n",
    "        self.s_c_matrix =  self.create_s_c_matrix().astype(int)\n",
    "        self.s_c_sparse = csr_matrix(self.s_c_matrix) # converting to sparse matrix due to large size\n",
    "        self.conflict_matrix = self.s_c_sparse.T.dot(self.s_c_sparse).toarray()\n",
    "        self.conflict_boolean = self.conflict_matrix.astype(bool)\n",
    "        \n",
    "    def create_s_c_matrix(self):\n",
    "        s_c_matrix = np.zeros((self.numStudents, self.numCourses), dtype=int) # Student- Course boolean matrix from dataset\n",
    "        for student in self.studentList:\n",
    "            courses = self.student_df.at[student, 'coursesEnrolled'].split()\n",
    "            s_id = self.studentIndex[student]\n",
    "            for course in courses:\n",
    "                c_id = self.courseIndex[course]\n",
    "                s_c_matrix[s_id, c_id] = 1\n",
    "        return s_c_matrix\n",
    "    \n",
    "    def create_c_r_feasibility(self):\n",
    "        total_facilities_required = self.c_f_matrix.sum(axis=1)[:,np.newaxis]\n",
    "        total_facilities_available = np.dot(self.c_f_matrix, self.r_f_matrix.T)\n",
    "        self.c_r_facility = (total_facilities_available >= total_facilities_required).astype(int)\n",
    "        \n",
    "        capacity_required = self.numStudentsList[:,np.newaxis]\n",
    "        capacity_available = self.capacityList\n",
    "        self.c_r_capacity = (capacity_available >= capacity_required).astype(int)\n",
    "        \n",
    "        return self.c_r_facility & self.c_r_capacity"
   ]
  },
  {
   "cell_type": "code",
   "execution_count": 19,
   "id": "193d5fdd",
   "metadata": {},
   "outputs": [],
   "source": [
    "class Timetable():\n",
    "    \n",
    "    def __init__(self, instance, r_a, d_a):\n",
    "        self.instance = instance\n",
    "        self.r_a = r_a\n",
    "        self.d_a = d_a\n",
    "        self.get_instance_values()\n",
    "        self.create_matrices()\n",
    "        self.penalty_dict = {\"overlap violation\" : self.create_overlap_check().sum(),\n",
    "                            \"capacity violation\" : self.create_capacity_check().sum(),\n",
    "                            \"facility violation\" : self.create_facility_check().sum(),\n",
    "                            \"proximity penalty\" : self.create_proximity_matrix().sum(),\n",
    "                            \"date time penalty\" : self.create_date_penalty_matrix().sum(),\n",
    "                            \"room penalty\" : self.create_room_penalty_matrix().sum()\n",
    "                            }\n",
    "        self.normalized_penalty = {name : self.penalty_dict[name]/ instance.max_violation_dict[name] for name in self.penalty_dict}\n",
    "        self.soft_penalty = sum(list(self.normalized_penalty.values())[3:])\n",
    "        self.hard_penalty = sum(list(self.normalized_penalty.values())[:3])\n",
    "        \n",
    "    def get_instance_values(self):\n",
    "        self.numCourses = self.instance.numCourses\n",
    "        self.numRooms = self.instance.numRooms\n",
    "        self.numDateTime = self.instance.numDateTime\n",
    "        \n",
    "    def create_matrices(self):\n",
    "        self.c_d_matrix = np.eye(self.numDateTime, dtype=int)[self.d_a]\n",
    "        self.c_r_matrix = np.eye(self.numRooms, dtype=int)[self.r_a]\n",
    "        #self.s_d_matrix =  (csr_matrix(self.instance.s_c_matrix).dot(csr_matrix(self.c_d_matrix))).toarray()  #np.dot(self.instance.s_c_matrix, self.c_d_matrix) #self.s_c_sparse.T.dot(self.s_c_sparse).toarray()\n",
    "        \n",
    "        self.overlap_check = self.create_overlap_check()\n",
    "        self.capacity_check = self.create_capacity_check()\n",
    "        self.facility_check = self.create_facility_check()\n",
    "        self.proximity_matrix = self.create_proximity_matrix()\n",
    "        \n",
    "    def create_overlap_check(self):\n",
    "        return ((np.dot(self.instance.conflict_boolean, self.c_d_matrix)-1) * self.c_d_matrix).sum(axis=1).astype(bool)\n",
    "    \n",
    "    def create_capacity_check(self):\n",
    "        c_r_student = self.c_r_matrix * self.instance.numStudentsList[:,None] # in course-room binary matrix, change 1 to number of students writng that exma\n",
    "        r_d_student = (csr_matrix(c_r_student).T.dot(csr_matrix(self.c_d_matrix))).toarray()                            #np.dot(c_r_student.T, self.c_d_matrix)\n",
    "        return (r_d_student > self.instance.capacityList[:,np.newaxis] ).astype(int)\n",
    "    \n",
    "    def create_facility_check(self):\n",
    "        required_facility = self.instance.c_f_matrix\n",
    "        available_facility = self.instance.r_f_matrix[self.r_a, :]\n",
    "        return (required_facility > available_facility).sum(axis=1).astype(bool)\n",
    "\n",
    "    def create_proximity_matrix(timetable):\n",
    "        # upper triangular matrix of size (numCourse x numCourse) that shows proximity of two courses if they have conflict\n",
    "        tdayAssigned = timetable.instance.tDayList[timetable.d_a // timetable.instance.numTime]  # Calculate tday assignments\n",
    "        diff_matrix = np.abs(tdayAssigned[:, None] - tdayAssigned)  # Calculate absolute differences\n",
    "        proximity_matrix = np.triu(np.where(diff_matrix < 5, np.power(2, abs(5 - diff_matrix)), 0), k=1)  # Calculate proximity penalty\n",
    "        return proximity_matrix*timetable.instance.conflict_boolean\n",
    "    \n",
    "    def create_date_penalty_matrix(timetable):\n",
    "        c_d_preference = timetable.c_d_matrix* timetable.instance.d_pref_matrix\n",
    "        return np.where((c_d_preference==5) | (c_d_preference==0), 0 , 2**(5-c_d_preference))\n",
    "    \n",
    "    def create_room_penalty_matrix(timetable):\n",
    "        return timetable.c_r_matrix*np.where(timetable.instance.r_pref_matrix==5, 0, 2**(5-timetable.instance.r_pref_matrix))\n",
    "    \n",
    "    def display(self):\n",
    "        data = {\"courses\" : self.instance.courseList,\n",
    "                \"room\" : [self.instance.roomList[room] for room in self.r_a],\n",
    "                \"datetime\" : [self.instance.dateTimeList[datetime] for datetime in self.d_a]\n",
    "                }\n",
    "        return pd.DataFrame(data)\n",
    "    def student_index_timetable(self, index):\n",
    "        print(f\"Timetable for student with roll number {self.instance.studentList[index]} \")\n",
    "        return self.display()[self.instance.s_c_matrix[index].astype(bool)].sort_values(by=['datetime'])"
   ]
  },
  {
   "cell_type": "code",
   "execution_count": 20,
   "id": "7a71f080",
   "metadata": {},
   "outputs": [],
   "source": [
    "def create_timetable(instance, heuristic='random'):\n",
    "    numCourses = instance.numCourses\n",
    "    numDateTime = instance.numDateTime\n",
    "    numRooms = instance.numRooms\n",
    "    shuffledDatetimeList = np.random.permutation(np.arange(numDateTime))\n",
    "    \n",
    "    # Initialize assignments\n",
    "    d_a = np.full(numCourses, -1)\n",
    "    r_a = np.full(numCourses, -1)\n",
    "    r_d_capacity = np.tile(instance.capacityList, (numDateTime, 1))\n",
    "    \n",
    "    # Initialize course order based on heuristic\n",
    "    \n",
    "    if heuristic == 'conflict_count':\n",
    "        conflict_count = instance.conflict_boolean.sum(axis=1)\n",
    "        sorted_courses = np.argsort(conflict_count)[::-1]\n",
    "    elif heuristic == 'conflict_degree':\n",
    "        conflict_degree = instance.conflict_matrix.sum(axis=1)\n",
    "        sorted_courses = np.argsort(conflict_degree)[::-1]\n",
    "    else:\n",
    "        raise ValueError(f\"Unknown heuristic: {heuristic}\")\n",
    "\n",
    "    datetime_course = {dt: [] for dt in range(numDateTime)}\n",
    "    \n",
    "    # Assign courses to datetimes and rooms\n",
    "    for course in sorted_courses:\n",
    "        required_capacity = instance.numStudentsList[course]\n",
    "        \n",
    "        # Find available datetimes with no conflicts\n",
    "        available_datetimes = []\n",
    "        for dt in shuffledDatetimeList:\n",
    "            if all(not instance.conflict_boolean[course, other_course] for other_course in datetime_course[dt]):\n",
    "                available_datetimes.append(dt)\n",
    "        \n",
    "        if not available_datetimes:\n",
    "            return None, None\n",
    "\n",
    "        # Find available rooms for the selected datetime\n",
    "        room_assigned = False\n",
    "        for chosen_dt in available_datetimes:\n",
    "            available_rooms = [room for room in range(numRooms) \n",
    "                               if instance.c_r_facility[course, room] and r_d_capacity[chosen_dt, room] >= required_capacity]\n",
    "            if available_rooms:\n",
    "                chosen_room = np.random.choice(available_rooms)\n",
    "                d_a[course] = chosen_dt\n",
    "                r_a[course] = chosen_room\n",
    "                r_d_capacity[chosen_dt, chosen_room] -= required_capacity\n",
    "                datetime_course[chosen_dt].append(course)\n",
    "                room_assigned = True\n",
    "                break\n",
    "        \n",
    "        if not room_assigned:\n",
    "            return None, None\n",
    "    \n",
    "    return r_a, d_a\n"
   ]
  },
  {
   "cell_type": "code",
   "execution_count": 155,
   "id": "5a542226",
   "metadata": {},
   "outputs": [],
   "source": [
    "def create_population(instance, heuristic='conflict_count', size=100, leave = True):\n",
    "    population = []\n",
    "    for _ in tqdm(range(size), leave = leave):\n",
    "        r_a = d_a = None\n",
    "        while r_a is None:\n",
    "            r_a, d_a = create_timetable(instance, heuristic )\n",
    "        timetable = Timetable(instance, r_a, d_a)\n",
    "        population.append(timetable)\n",
    "    return population"
   ]
  },
  {
   "cell_type": "code",
   "execution_count": 156,
   "id": "974699e5",
   "metadata": {},
   "outputs": [],
   "source": [
    "def create_random_population(instance, size=100, leave=True):\n",
    "    population = []\n",
    "    for _ in tqdm(range(size), leave = leave):\n",
    "        d_a = np.random.randint(low=0, high=instance.numDateTime, size=instance.numCourses)\n",
    "        r_a = np.random.randint(low=0, high=instance.numRooms, size=instance.numCourses)\n",
    "        population.append(Timetable(instance, r_a, d_a))\n",
    "    return population"
   ]
  },
  {
   "cell_type": "code",
   "execution_count": 23,
   "id": "32035fe8",
   "metadata": {},
   "outputs": [],
   "source": [
    "def tournament_selection(population, pool_size, k=3):\n",
    "    population = np.array(population)\n",
    "    selected = []\n",
    "    for i in range(pool_size):\n",
    "        tournament_indices = np.random.choice(len(population), size=k, replace=False)\n",
    "        tournament = population[tournament_indices]\n",
    "        winner = min(tournament, key=lambda x: x.soft_penalty)\n",
    "        selected.append(winner)\n",
    "    return selected"
   ]
  },
  {
   "cell_type": "code",
   "execution_count": 24,
   "id": "a275e184",
   "metadata": {},
   "outputs": [],
   "source": [
    "def crossover(parent1, parent2, crossover_prob = 0.8):\n",
    "    # if np.random.random() > crossover_prob:\n",
    "    #     return parent1, parent2\n",
    "    \n",
    "    instance = parent1.instance\n",
    "    numCourses = instance.numCourses\n",
    "    ra_1 = parent1.r_a\n",
    "    ra_2 = parent2.r_a\n",
    "    da_1 = parent1.d_a\n",
    "    da_2 = parent2.d_a\n",
    "\n",
    "    r_crossover = np.random.randint(1, numCourses)\n",
    "    ra_3 = np.concatenate((ra_1[:r_crossover], ra_2[r_crossover:]))\n",
    "    ra_4 = np.concatenate((ra_2[:r_crossover], ra_1[r_crossover:]))\n",
    "\n",
    "    d_crossover = np.random.randint(1, numCourses)\n",
    "    da_3 = np.concatenate((da_1[:d_crossover], da_2[d_crossover:]))\n",
    "    da_4 = np.concatenate((da_2[:d_crossover], da_1[d_crossover:]))\n",
    "\n",
    "    return Timetable(instance, ra_3, da_3), Timetable(instance, ra_4, da_4)"
   ]
  },
  {
   "cell_type": "code",
   "execution_count": 25,
   "id": "82caa8f4",
   "metadata": {},
   "outputs": [],
   "source": [
    "def mutation(parent, mutation_rate = 0.5):\n",
    "    # room\n",
    "    instance = parent.instance\n",
    "    mutated_room = parent.r_a.copy()\n",
    "    random_numbers = np.random.rand(instance.numCourses)\n",
    "    mutate_mask = random_numbers < mutation_rate\n",
    "    mutated_room[mutate_mask] = np.random.randint(instance.numRooms, size = mutate_mask.sum())\n",
    "    #datetime\n",
    "    mutated_datetime = parent.d_a.copy()\n",
    "    random_numbers = np.random.rand(instance.numCourses)\n",
    "    mutate_mask = random_numbers < mutation_rate\n",
    "    mutated_datetime[mutate_mask] = np.random.randint(instance.numDateTime, size = mutate_mask.sum())\n",
    "\n",
    "    return Timetable(instance, mutated_room, mutated_datetime)"
   ]
  },
  {
   "cell_type": "code",
   "execution_count": 26,
   "id": "c109e708",
   "metadata": {},
   "outputs": [],
   "source": [
    "def weighted_penalty(timetable, weight= 100):\n",
    "    return timetable.soft_penalty + timetable.hard_penalty*weight"
   ]
  },
  {
   "cell_type": "code",
   "execution_count": 27,
   "id": "5e8504f5",
   "metadata": {},
   "outputs": [],
   "source": [
    "def euclidean_distance(sol1, sol2):\n",
    "    room_distance = np.sum((sol1.r_a - sol2.r_a)**2)\n",
    "    datetime_distance = np.sum((sol1.d_a - sol2.d_a)**2)\n",
    "    return np.sqrt(room_distance + datetime_distance)"
   ]
  },
  {
   "cell_type": "code",
   "execution_count": 28,
   "id": "2106c39e",
   "metadata": {},
   "outputs": [],
   "source": [
    "def repair(input_solution, feasible_solutions, curr_depth=0, verbose=False):\n",
    "    instance = input_solution.instance\n",
    "    \n",
    "    print(verbose * f\"Repairing: depth={curr_depth}, hard_penalty={input_solution.hard_penalty}\\n\", end='')\n",
    "    \n",
    "    if input_solution.hard_penalty == 0 or curr_depth > 50:\n",
    "        print(verbose * f\"Returning solution: depth={curr_depth}, hard_penalty={input_solution.hard_penalty}\\n\", end='')\n",
    "        return input_solution\n",
    "\n",
    "    best_donor = min(feasible_solutions, key=lambda sol: euclidean_distance(input_solution, sol))\n",
    "    print(verbose * f\"Best donor selected: {best_donor}\\n\", end='')\n",
    "        \n",
    "    for i in range(instance.numRooms):\n",
    "        if input_solution.overlap_check[i] or input_solution.facility_check[i] or input_solution.capacity_check[input_solution.r_a[i], input_solution.d_a[i]]:\n",
    "            r_a_copy = input_solution.r_a[:]\n",
    "            d_a_copy = input_solution.d_a[:]\n",
    "            d_a_copy[i] = best_donor.d_a[i]  # exchange date with best donor\n",
    "            solution_copy = Timetable(instance, r_a_copy, d_a_copy)\n",
    "            \n",
    "            print(verbose * f\"Trying date exchange: index={i}, donor date={best_donor.d_a[i]}\\n\", end='')\n",
    "            \n",
    "            if solution_copy.hard_penalty < input_solution.hard_penalty:  # check for reduction in hard penalty\n",
    "                print(verbose * f\"Date exchange improved solution: index={i}, new hard_penalty={solution_copy.hard_penalty}\\n\", end='')\n",
    "                return repair(solution_copy, feasible_solutions, curr_depth+1, verbose)\n",
    "            else:\n",
    "                r_a_copy[i] = best_donor.r_a[i]  # exchange room with best donor\n",
    "                solution_copy = Timetable(instance, r_a_copy, d_a_copy)\n",
    "                \n",
    "                print(verbose * f\"Trying room exchange: index={i}, donor room={best_donor.r_a[i]}\\n\", end='')\n",
    "                \n",
    "                if solution_copy.hard_penalty < input_solution.hard_penalty:  # check for reduction in hard penalty\n",
    "                    print(verbose * f\"Room exchange improved solution: index={i}, new hard_penalty={solution_copy.hard_penalty}\\n\", end='')\n",
    "                    return repair(solution_copy, feasible_solutions, curr_depth+1, verbose)\n",
    "                else:\n",
    "                    d_a_copy[i] = input_solution.d_a[i]  # revert date back to original\n",
    "                    solution_copy = Timetable(instance, r_a_copy, d_a_copy)\n",
    "                    \n",
    "                    print(verbose * f\"Reverting date: index={i}, original date={input_solution.d_a[i]}\\n\", end='')\n",
    "                    \n",
    "                    if solution_copy.hard_penalty < input_solution.hard_penalty:  # check for reduction in hard penalty\n",
    "                        print(verbose * f\"Reversion improved solution: index={i}, new hard_penalty={solution_copy.hard_penalty}\\n\", end='')\n",
    "                        return repair(solution_copy, feasible_solutions, curr_depth+1, verbose)\n",
    "                \n",
    "    print(verbose * f\"No improvement found at depth {curr_depth}\\n\", end='')\n",
    "    return input_solution\n"
   ]
  },
  {
   "cell_type": "code",
   "execution_count": 139,
   "id": "4bc51d34",
   "metadata": {},
   "outputs": [],
   "source": [
    "# Criteria function\n",
    "criteria = lambda sol : sol.soft_penalty + 1e9 * sol.hard_penalty\n",
    "\n",
    "def genetic_algorithm(instance, initial_population, generations=100, pop_size=100, pool_size=50, track=False):\n",
    "    population = initial_population\n",
    "\n",
    "    # Parameters\n",
    "    crossover_rate = 0.8\n",
    "    mutation_rate = 0.5\n",
    "    tournament_size = 5\n",
    "    elitism_count = 2\n",
    "\n",
    "    # Lists to store penalties and timing for each generation\n",
    "    if track:\n",
    "        best_fitness = {}\n",
    "        worst_fitness = {}\n",
    "        generation_times = {}\n",
    "\n",
    "    start_time = time.time()\n",
    "\n",
    "    for generation in tqdm(range(generations)):\n",
    "\n",
    "        # Selection\n",
    "        mating_pool = tournament_selection(population, pool_size, tournament_size)\n",
    "        \n",
    "        # Crossover and Mutation\n",
    "        offsprings = []\n",
    "        for i in range(0, pool_size-1, 2):\n",
    "            parent1 = mating_pool[i]\n",
    "            parent2 = mating_pool[(i+1) % pool_size]\n",
    "            child1, child2 = crossover(parent1, parent2, crossover_rate)\n",
    "            \n",
    "            if np.random.rand() < mutation_rate:\n",
    "                child1 = mutation(child1, mutation_rate)\n",
    "            if np.random.rand() < mutation_rate:\n",
    "                child2 = mutation(child2, mutation_rate)\n",
    "            \n",
    "            offsprings.extend([child1, child2])\n",
    "        \n",
    "        top_offspring = repair(sorted(offsprings, key=lambda sol: sol.soft_penalty)[0], population, verbose=False)\n",
    "        offsprings.append(top_offspring)\n",
    "        \n",
    "        # Combine and Select Next Generation\n",
    "        combined_population = population + offsprings\n",
    "        combined_population = sorted(combined_population, key=criteria)\n",
    "        population = combined_population[:pop_size]\n",
    "        \n",
    "        # Track the best and worst penalties for each generation\n",
    "        best_fitness[f\"BF {generation}\"] = criteria(population[0])\n",
    "        worst_fitness[f\"WF {generation}\"] = criteria(population[-1])\n",
    "        generation_times[f\"T {generation}\"] = time.time() - start_time\n",
    "        \n",
    "        \n",
    "        if criteria(population[0]) == criteria(population[-1]): # if premature convergence add diversity\n",
    "            print(f\"Generation {generation}: Avoiding premature convergence\")\n",
    "            population = population[:10] + create_random_population(instance, 90, leave=False)\n",
    "        \n",
    "        if generation % (generations//10) == 0 or generation == generations:\n",
    "            print(f\"Generation {generation}: Best = {criteria(population[0])}, Worst = {criteria(population[-1])}\")\n",
    "\n",
    "        \n",
    "    if track:\n",
    "        return population, best_fitness, worst_fitness, generation_times\n",
    "    \n",
    "    return population\n",
    "\n"
   ]
  },
  {
   "cell_type": "code",
   "execution_count": 140,
   "id": "7da0a048",
   "metadata": {},
   "outputs": [],
   "source": [
    "instance_list = ['car-s-91','car-f-92','ear-f-83', 'hec-s-92', 'kfu-s-93', 'lse-f-91', 'pur-s-93', 'rye-s-93', 'sta-f-83', 'tre-s-92', 'uta-s-92', 'ute-s-92', 'yor-f-83']"
   ]
  },
  {
   "cell_type": "code",
   "execution_count": 141,
   "id": "6e1bb374",
   "metadata": {},
   "outputs": [
    {
     "name": "stdout",
     "output_type": "stream",
     "text": [
      "Created instance hec-s-92.\n",
      "number of courses = 81, number of students = 2823\n",
      "number of timeslots = 22, number of rooms = 18\n"
     ]
    }
   ],
   "source": [
    "instance = Instance(instance_list[3])"
   ]
  },
  {
   "cell_type": "code",
   "execution_count": 158,
   "id": "79a2e7f0",
   "metadata": {},
   "outputs": [
    {
     "data": {
      "application/vnd.jupyter.widget-view+json": {
       "model_id": "",
       "version_major": 2,
       "version_minor": 0
      },
      "text/plain": [
       "  0%|          | 0/10 [00:00<?, ?it/s]"
      ]
     },
     "metadata": {},
     "output_type": "display_data"
    },
    {
     "data": {
      "application/vnd.jupyter.widget-view+json": {
       "model_id": "e4a34c46ce83430aa18bd9893d16f858",
       "version_major": 2,
       "version_minor": 0
      },
      "text/plain": [
       "  0%|          | 0/90 [00:00<?, ?it/s]"
      ]
     },
     "metadata": {},
     "output_type": "display_data"
    }
   ],
   "source": [
    "feasible_population = create_population(instance, size=10)\n",
    "infeasible_population = create_random_population(instance, 90)\n",
    "initial_population = feasible_population+infeasible_population"
   ]
  },
  {
   "cell_type": "code",
   "execution_count": 143,
   "id": "e8815417",
   "metadata": {},
   "outputs": [
    {
     "data": {
      "application/vnd.jupyter.widget-view+json": {
       "model_id": "6348d8a2402241a0bc662b425b713f39",
       "version_major": 2,
       "version_minor": 0
      },
      "text/plain": [
       "  0%|          | 0/100 [00:00<?, ?it/s]"
      ]
     },
     "metadata": {},
     "output_type": "display_data"
    },
    {
     "name": "stdout",
     "output_type": "stream",
     "text": [
      "Generation 0: Best = 7472.0, Worst = 98000010272.0\n",
      "Generation 10: Best = 7472.0, Worst = 8000007404.0\n",
      "Generation 20: Best = 7446.0, Worst = 2000007428.0\n",
      "Generation 30: Best = 7428.0, Worst = 1000007422.0\n",
      "Generation 40: Best = 7416.0, Worst = 7496.0\n",
      "Generation 49: Avoiding premature convergence\n"
     ]
    },
    {
     "data": {
      "application/vnd.jupyter.widget-view+json": {
       "model_id": "a2b0a2b3869e4ddb946ec1f59ff8b7d0",
       "version_major": 2,
       "version_minor": 0
      },
      "text/plain": [
       "  0%|          | 0/90 [00:00<?, ?it/s]"
      ]
     },
     "metadata": {},
     "output_type": "display_data"
    },
    {
     "name": "stdout",
     "output_type": "stream",
     "text": [
      "Generation 50: Best = 7410.0, Worst = 97000009484.0\n",
      "Generation 54: Avoiding premature convergence\n"
     ]
    },
    {
     "data": {
      "application/vnd.jupyter.widget-view+json": {
       "model_id": "2e7e861474634d1eaed9cf2799e36dd0",
       "version_major": 2,
       "version_minor": 0
      },
      "text/plain": [
       "  0%|          | 0/90 [00:00<?, ?it/s]"
      ]
     },
     "metadata": {},
     "output_type": "display_data"
    },
    {
     "name": "stdout",
     "output_type": "stream",
     "text": [
      "Generation 60: Avoiding premature convergence\n"
     ]
    },
    {
     "data": {
      "application/vnd.jupyter.widget-view+json": {
       "model_id": "635584e5c99b4d8aadea9ff285054f0a",
       "version_major": 2,
       "version_minor": 0
      },
      "text/plain": [
       "  0%|          | 0/90 [00:00<?, ?it/s]"
      ]
     },
     "metadata": {},
     "output_type": "display_data"
    },
    {
     "name": "stdout",
     "output_type": "stream",
     "text": [
      "Generation 60: Best = 7410.0, Worst = 99000010172.0\n",
      "Generation 66: Avoiding premature convergence\n"
     ]
    },
    {
     "data": {
      "application/vnd.jupyter.widget-view+json": {
       "model_id": "2617c6ccc4d8425992bae17d57bf0c31",
       "version_major": 2,
       "version_minor": 0
      },
      "text/plain": [
       "  0%|          | 0/90 [00:00<?, ?it/s]"
      ]
     },
     "metadata": {},
     "output_type": "display_data"
    },
    {
     "name": "stdout",
     "output_type": "stream",
     "text": [
      "Generation 70: Best = 7410.0, Worst = 63000009746.0\n",
      "Generation 72: Avoiding premature convergence\n"
     ]
    },
    {
     "data": {
      "application/vnd.jupyter.widget-view+json": {
       "model_id": "3bce61de81f04fba9b82dffdbd59dd9f",
       "version_major": 2,
       "version_minor": 0
      },
      "text/plain": [
       "  0%|          | 0/90 [00:00<?, ?it/s]"
      ]
     },
     "metadata": {},
     "output_type": "display_data"
    },
    {
     "name": "stdout",
     "output_type": "stream",
     "text": [
      "Generation 77: Avoiding premature convergence\n"
     ]
    },
    {
     "data": {
      "application/vnd.jupyter.widget-view+json": {
       "model_id": "db1746cf02344dbd8eb0244d5bfbe31f",
       "version_major": 2,
       "version_minor": 0
      },
      "text/plain": [
       "  0%|          | 0/90 [00:00<?, ?it/s]"
      ]
     },
     "metadata": {},
     "output_type": "display_data"
    },
    {
     "name": "stdout",
     "output_type": "stream",
     "text": [
      "Generation 80: Best = 7410.0, Worst = 74000009060.0\n",
      "Generation 83: Avoiding premature convergence\n"
     ]
    },
    {
     "data": {
      "application/vnd.jupyter.widget-view+json": {
       "model_id": "de6cfa6fb45f44b7a6d59a1f2926b644",
       "version_major": 2,
       "version_minor": 0
      },
      "text/plain": [
       "  0%|          | 0/90 [00:00<?, ?it/s]"
      ]
     },
     "metadata": {},
     "output_type": "display_data"
    },
    {
     "name": "stdout",
     "output_type": "stream",
     "text": [
      "Generation 89: Avoiding premature convergence\n"
     ]
    },
    {
     "data": {
      "application/vnd.jupyter.widget-view+json": {
       "model_id": "0753288cc4c649fd9e73bbbd31653627",
       "version_major": 2,
       "version_minor": 0
      },
      "text/plain": [
       "  0%|          | 0/90 [00:00<?, ?it/s]"
      ]
     },
     "metadata": {},
     "output_type": "display_data"
    },
    {
     "name": "stdout",
     "output_type": "stream",
     "text": [
      "Generation 90: Best = 7410.0, Worst = 99000010438.0\n",
      "Generation 94: Avoiding premature convergence\n"
     ]
    },
    {
     "data": {
      "application/vnd.jupyter.widget-view+json": {
       "model_id": "aa12d404c08f47f7946211abdc9cb90c",
       "version_major": 2,
       "version_minor": 0
      },
      "text/plain": [
       "  0%|          | 0/90 [00:00<?, ?it/s]"
      ]
     },
     "metadata": {},
     "output_type": "display_data"
    }
   ],
   "source": [
    "population, best_fitness, worst_fitness, generation_times = genetic_algorithm(instance, initial_population, track=True)"
   ]
  },
  {
   "cell_type": "code",
   "execution_count": 144,
   "id": "d024547a",
   "metadata": {},
   "outputs": [
    {
     "data": {
      "text/plain": [
       "{'overlap violation': 62,\n",
       " 'capacity violation': 23,\n",
       " 'facility violation': 16,\n",
       " 'proximity penalty': 8854,\n",
       " 'date time penalty': 408,\n",
       " 'room penalty': 1450}"
      ]
     },
     "execution_count": 144,
     "metadata": {},
     "output_type": "execute_result"
    }
   ],
   "source": [
    "infeasible_population[0].penalty_dict"
   ]
  },
  {
   "cell_type": "code",
   "execution_count": 145,
   "id": "6629a3e3",
   "metadata": {},
   "outputs": [
    {
     "data": {
      "text/plain": [
       "100"
      ]
     },
     "execution_count": 145,
     "metadata": {},
     "output_type": "execute_result"
    }
   ],
   "source": [
    "len(generation_times)"
   ]
  },
  {
   "cell_type": "code",
   "execution_count": 146,
   "id": "5b1d1648",
   "metadata": {},
   "outputs": [
    {
     "data": {
      "text/plain": [
       "{'BF 0': 7472.0,\n",
       " 'BF 1': 7472.0,\n",
       " 'BF 2': 7472.0,\n",
       " 'BF 3': 7472.0,\n",
       " 'BF 4': 7472.0,\n",
       " 'BF 5': 7472.0,\n",
       " 'BF 6': 7472.0,\n",
       " 'BF 7': 7472.0,\n",
       " 'BF 8': 7472.0,\n",
       " 'BF 9': 7472.0,\n",
       " 'BF 10': 7472.0,\n",
       " 'BF 11': 7472.0,\n",
       " 'BF 12': 7472.0,\n",
       " 'BF 13': 7472.0,\n",
       " 'BF 14': 7472.0,\n",
       " 'BF 15': 7472.0,\n",
       " 'BF 16': 7472.0,\n",
       " 'BF 17': 7446.0,\n",
       " 'BF 18': 7446.0,\n",
       " 'BF 19': 7446.0,\n",
       " 'BF 20': 7446.0,\n",
       " 'BF 21': 7446.0,\n",
       " 'BF 22': 7446.0,\n",
       " 'BF 23': 7446.0,\n",
       " 'BF 24': 7446.0,\n",
       " 'BF 25': 7446.0,\n",
       " 'BF 26': 7446.0,\n",
       " 'BF 27': 7428.0,\n",
       " 'BF 28': 7428.0,\n",
       " 'BF 29': 7428.0,\n",
       " 'BF 30': 7428.0,\n",
       " 'BF 31': 7428.0,\n",
       " 'BF 32': 7428.0,\n",
       " 'BF 33': 7428.0,\n",
       " 'BF 34': 7428.0,\n",
       " 'BF 35': 7428.0,\n",
       " 'BF 36': 7426.0,\n",
       " 'BF 37': 7426.0,\n",
       " 'BF 38': 7422.0,\n",
       " 'BF 39': 7422.0,\n",
       " 'BF 40': 7416.0,\n",
       " 'BF 41': 7416.0,\n",
       " 'BF 42': 7410.0,\n",
       " 'BF 43': 7410.0,\n",
       " 'BF 44': 7410.0,\n",
       " 'BF 45': 7410.0,\n",
       " 'BF 46': 7410.0,\n",
       " 'BF 47': 7410.0,\n",
       " 'BF 48': 7410.0,\n",
       " 'BF 49': 7410.0,\n",
       " 'BF 50': 7410.0,\n",
       " 'BF 51': 7410.0,\n",
       " 'BF 52': 7410.0,\n",
       " 'BF 53': 7410.0,\n",
       " 'BF 54': 7410.0,\n",
       " 'BF 55': 7410.0,\n",
       " 'BF 56': 7410.0,\n",
       " 'BF 57': 7410.0,\n",
       " 'BF 58': 7410.0,\n",
       " 'BF 59': 7410.0,\n",
       " 'BF 60': 7410.0,\n",
       " 'BF 61': 7410.0,\n",
       " 'BF 62': 7410.0,\n",
       " 'BF 63': 7410.0,\n",
       " 'BF 64': 7410.0,\n",
       " 'BF 65': 7410.0,\n",
       " 'BF 66': 7410.0,\n",
       " 'BF 67': 7410.0,\n",
       " 'BF 68': 7410.0,\n",
       " 'BF 69': 7410.0,\n",
       " 'BF 70': 7410.0,\n",
       " 'BF 71': 7410.0,\n",
       " 'BF 72': 7410.0,\n",
       " 'BF 73': 7410.0,\n",
       " 'BF 74': 7410.0,\n",
       " 'BF 75': 7410.0,\n",
       " 'BF 76': 7410.0,\n",
       " 'BF 77': 7410.0,\n",
       " 'BF 78': 7410.0,\n",
       " 'BF 79': 7410.0,\n",
       " 'BF 80': 7410.0,\n",
       " 'BF 81': 7410.0,\n",
       " 'BF 82': 7410.0,\n",
       " 'BF 83': 7410.0,\n",
       " 'BF 84': 7410.0,\n",
       " 'BF 85': 7410.0,\n",
       " 'BF 86': 7410.0,\n",
       " 'BF 87': 7410.0,\n",
       " 'BF 88': 7410.0,\n",
       " 'BF 89': 7410.0,\n",
       " 'BF 90': 7410.0,\n",
       " 'BF 91': 7410.0,\n",
       " 'BF 92': 7410.0,\n",
       " 'BF 93': 7410.0,\n",
       " 'BF 94': 7410.0,\n",
       " 'BF 95': 7410.0,\n",
       " 'BF 96': 7410.0,\n",
       " 'BF 97': 7410.0,\n",
       " 'BF 98': 7410.0,\n",
       " 'BF 99': 7410.0}"
      ]
     },
     "execution_count": 146,
     "metadata": {},
     "output_type": "execute_result"
    }
   ],
   "source": [
    "best_fitness"
   ]
  },
  {
   "cell_type": "code",
   "execution_count": 154,
   "id": "57fff8c8",
   "metadata": {},
   "outputs": [
    {
     "data": {
      "image/png": "[encoded data removed]",
      "text/plain": [
       "<Figure size 1000x600 with 1 Axes>"
      ]
     },
     "metadata": {},
     "output_type": "display_data"
    }
   ],
   "source": [
    "import matplotlib.pyplot as plt\n",
    "\n",
    "# Example data\n",
    "x = generation_times.values()\n",
    "y = best_fitness.values()\n",
    "\n",
    "# Create the plot\n",
    "plt.figure(figsize=(10, 6))\n",
    "plt.plot(x, y, marker='o', linestyle='-', color='b', label='Line 1')\n",
    "\n",
    "# Add titles and labels\n",
    "plt.title('Line Graph Example')\n",
    "plt.xlabel('time (second)')\n",
    "plt.ylabel('soft penalty violation')\n",
    "plt.legend()\n",
    "\n",
    "# Show the plot\n",
    "plt.grid(True)\n",
    "plt.show()\n"
   ]
  },
  {
   "cell_type": "code",
   "execution_count": 153,
   "id": "5053ca00",
   "metadata": {},
   "outputs": [
    {
     "name": "stdout",
     "output_type": "stream",
     "text": [
      "Created instance hec-s-92.\n",
      "number of courses = 81, number of students = 2823\n",
      "number of timeslots = 22, number of rooms = 18\n"
     ]
    },
    {
     "data": {
      "application/vnd.jupyter.widget-view+json": {
       "model_id": "c7ff57a4bd004282957436787ea74936",
       "version_major": 2,
       "version_minor": 0
      },
      "text/plain": [
       "  0%|          | 0/10 [00:00<?, ?it/s]"
      ]
     },
     "metadata": {},
     "output_type": "display_data"
    },
    {
     "data": {
      "application/vnd.jupyter.widget-view+json": {
       "model_id": "82147c7004b64938a57b01a19bb8552d",
       "version_major": 2,
       "version_minor": 0
      },
      "text/plain": [
       "  0%|          | 0/90 [00:00<?, ?it/s]"
      ]
     },
     "metadata": {},
     "output_type": "display_data"
    },
    {
     "data": {
      "application/vnd.jupyter.widget-view+json": {
       "model_id": "8e60b1bf9c2240638bb68fece8e1ac33",
       "version_major": 2,
       "version_minor": 0
      },
      "text/plain": [
       "  0%|          | 0/100 [00:00<?, ?it/s]"
      ]
     },
     "metadata": {},
     "output_type": "display_data"
    },
    {
     "name": "stdout",
     "output_type": "stream",
     "text": [
      "Generation 0: Best = 7442.0, Worst = 98000010694.0\n",
      "Generation 10: Best = 7370.0, Worst = 8000007462.0\n",
      "Generation 20: Best = 7334.0, Worst = 7370.0\n",
      "Generation 24: Avoiding premature convergence\n"
     ]
    },
    {
     "data": {
      "application/vnd.jupyter.widget-view+json": {
       "model_id": "1772df992986437e988058fb819bf5fc",
       "version_major": 2,
       "version_minor": 0
      },
      "text/plain": [
       "  0%|          | 0/90 [00:00<?, ?it/s]"
      ]
     },
     "metadata": {},
     "output_type": "display_data"
    },
    {
     "name": "stdout",
     "output_type": "stream",
     "text": [
      "Generation 30: Best = 7286.0, Worst = 7334.0\n",
      "Generation 36: Avoiding premature convergence\n"
     ]
    },
    {
     "data": {
      "application/vnd.jupyter.widget-view+json": {
       "model_id": "b6e9a4ce71a94e71970c53bcba3d66ba",
       "version_major": 2,
       "version_minor": 0
      },
      "text/plain": [
       "  0%|          | 0/90 [00:00<?, ?it/s]"
      ]
     },
     "metadata": {},
     "output_type": "display_data"
    },
    {
     "name": "stdout",
     "output_type": "stream",
     "text": [
      "Generation 40: Best = 7286.0, Worst = 69000008960.0\n",
      "Generation 42: Avoiding premature convergence\n"
     ]
    },
    {
     "data": {
      "application/vnd.jupyter.widget-view+json": {
       "model_id": "c414e5af2f1848b4ad398a749f150403",
       "version_major": 2,
       "version_minor": 0
      },
      "text/plain": [
       "  0%|          | 0/90 [00:00<?, ?it/s]"
      ]
     },
     "metadata": {},
     "output_type": "display_data"
    },
    {
     "name": "stdout",
     "output_type": "stream",
     "text": [
      "Generation 47: Avoiding premature convergence\n"
     ]
    },
    {
     "data": {
      "application/vnd.jupyter.widget-view+json": {
       "model_id": "1ece40671da44f39b410fd8f1f1036bd",
       "version_major": 2,
       "version_minor": 0
      },
      "text/plain": [
       "  0%|          | 0/90 [00:00<?, ?it/s]"
      ]
     },
     "metadata": {},
     "output_type": "display_data"
    },
    {
     "name": "stdout",
     "output_type": "stream",
     "text": [
      "Generation 50: Best = 7286.0, Worst = 79000009478.0\n",
      "Generation 53: Avoiding premature convergence\n"
     ]
    },
    {
     "data": {
      "application/vnd.jupyter.widget-view+json": {
       "model_id": "fed4e68d049a40a4baf5649cd0429ad7",
       "version_major": 2,
       "version_minor": 0
      },
      "text/plain": [
       "  0%|          | 0/90 [00:00<?, ?it/s]"
      ]
     },
     "metadata": {},
     "output_type": "display_data"
    },
    {
     "name": "stdout",
     "output_type": "stream",
     "text": [
      "Generation 59: Avoiding premature convergence\n"
     ]
    },
    {
     "data": {
      "application/vnd.jupyter.widget-view+json": {
       "model_id": "487d4f2638b44076a73a0b8cccd18fa0",
       "version_major": 2,
       "version_minor": 0
      },
      "text/plain": [
       "  0%|          | 0/90 [00:00<?, ?it/s]"
      ]
     },
     "metadata": {},
     "output_type": "display_data"
    },
    {
     "name": "stdout",
     "output_type": "stream",
     "text": [
      "Generation 60: Best = 7286.0, Worst = 98000010646.0\n",
      "Generation 64: Avoiding premature convergence\n"
     ]
    },
    {
     "data": {
      "application/vnd.jupyter.widget-view+json": {
       "model_id": "5fca05fbd6c5459bbb4571925b2cd1b7",
       "version_major": 2,
       "version_minor": 0
      },
      "text/plain": [
       "  0%|          | 0/90 [00:00<?, ?it/s]"
      ]
     },
     "metadata": {},
     "output_type": "display_data"
    },
    {
     "name": "stdout",
     "output_type": "stream",
     "text": [
      "Generation 70: Avoiding premature convergence\n"
     ]
    },
    {
     "data": {
      "application/vnd.jupyter.widget-view+json": {
       "model_id": "336b128f04354494804ed939486aa6bb",
       "version_major": 2,
       "version_minor": 0
      },
      "text/plain": [
       "  0%|          | 0/90 [00:00<?, ?it/s]"
      ]
     },
     "metadata": {},
     "output_type": "display_data"
    },
    {
     "name": "stdout",
     "output_type": "stream",
     "text": [
      "Generation 70: Best = 7286.0, Worst = 97000010296.0\n",
      "Generation 76: Avoiding premature convergence\n"
     ]
    },
    {
     "data": {
      "application/vnd.jupyter.widget-view+json": {
       "model_id": "3788e268129a4aa8be1ee3c08d012e25",
       "version_major": 2,
       "version_minor": 0
      },
      "text/plain": [
       "  0%|          | 0/90 [00:00<?, ?it/s]"
      ]
     },
     "metadata": {},
     "output_type": "display_data"
    },
    {
     "name": "stdout",
     "output_type": "stream",
     "text": [
      "Generation 80: Best = 7286.0, Worst = 66000009184.0\n",
      "Generation 82: Avoiding premature convergence\n"
     ]
    },
    {
     "data": {
      "application/vnd.jupyter.widget-view+json": {
       "model_id": "cc76633a061949fb83bc6bb751c52eb0",
       "version_major": 2,
       "version_minor": 0
      },
      "text/plain": [
       "  0%|          | 0/90 [00:00<?, ?it/s]"
      ]
     },
     "metadata": {},
     "output_type": "display_data"
    },
    {
     "name": "stdout",
     "output_type": "stream",
     "text": [
      "Generation 88: Avoiding premature convergence\n"
     ]
    },
    {
     "data": {
      "application/vnd.jupyter.widget-view+json": {
       "model_id": "554f2f2860ed4fef82f5cba24ff6caae",
       "version_major": 2,
       "version_minor": 0
      },
      "text/plain": [
       "  0%|          | 0/90 [00:00<?, ?it/s]"
      ]
     },
     "metadata": {},
     "output_type": "display_data"
    },
    {
     "name": "stdout",
     "output_type": "stream",
     "text": [
      "Generation 90: Best = 7286.0, Worst = 90000010196.0\n",
      "Generation 95: Avoiding premature convergence\n"
     ]
    },
    {
     "data": {
      "application/vnd.jupyter.widget-view+json": {
       "model_id": "4e8a2a999e1e42878e2258931158210d",
       "version_major": 2,
       "version_minor": 0
      },
      "text/plain": [
       "  0%|          | 0/90 [00:00<?, ?it/s]"
      ]
     },
     "metadata": {},
     "output_type": "display_data"
    },
    {
     "name": "stdout",
     "output_type": "stream",
     "text": [
      "Data saved to ../docs/performance_tracking/hec-s-92.csv\n",
      "Created instance hec-s-92.\n",
      "number of courses = 81, number of students = 2823\n",
      "number of timeslots = 22, number of rooms = 18\n"
     ]
    },
    {
     "data": {
      "application/vnd.jupyter.widget-view+json": {
       "model_id": "16ccce1aff204cff8daebd906e3021ba",
       "version_major": 2,
       "version_minor": 0
      },
      "text/plain": [
       "  0%|          | 0/10 [00:00<?, ?it/s]"
      ]
     },
     "metadata": {},
     "output_type": "display_data"
    },
    {
     "data": {
      "application/vnd.jupyter.widget-view+json": {
       "model_id": "cce3c961433c42a9a6e9e5640415c935",
       "version_major": 2,
       "version_minor": 0
      },
      "text/plain": [
       "  0%|          | 0/90 [00:00<?, ?it/s]"
      ]
     },
     "metadata": {},
     "output_type": "display_data"
    },
    {
     "data": {
      "application/vnd.jupyter.widget-view+json": {
       "model_id": "a980bc67d6b24a03ac2f478fa3515318",
       "version_major": 2,
       "version_minor": 0
      },
      "text/plain": [
       "  0%|          | 0/100 [00:00<?, ?it/s]"
      ]
     },
     "metadata": {},
     "output_type": "display_data"
    },
    {
     "name": "stdout",
     "output_type": "stream",
     "text": [
      "Generation 0: Best = 7316.0, Worst = 99000009848.0\n",
      "Generation 10: Best = 7288.0, Worst = 1000007306.0\n",
      "Generation 12: Avoiding premature convergence\n"
     ]
    },
    {
     "data": {
      "application/vnd.jupyter.widget-view+json": {
       "model_id": "144c8a04f6ab4e79891601ba978e9eb1",
       "version_major": 2,
       "version_minor": 0
      },
      "text/plain": [
       "  0%|          | 0/90 [00:00<?, ?it/s]"
      ]
     },
     "metadata": {},
     "output_type": "display_data"
    },
    {
     "name": "stdout",
     "output_type": "stream",
     "text": [
      "Generation 17: Avoiding premature convergence\n"
     ]
    },
    {
     "data": {
      "application/vnd.jupyter.widget-view+json": {
       "model_id": "e127bfb16c5d49649176527de37fdbc5",
       "version_major": 2,
       "version_minor": 0
      },
      "text/plain": [
       "  0%|          | 0/90 [00:00<?, ?it/s]"
      ]
     },
     "metadata": {},
     "output_type": "display_data"
    },
    {
     "name": "stdout",
     "output_type": "stream",
     "text": [
      "Generation 20: Best = 7288.0, Worst = 73000009296.0\n",
      "Generation 22: Avoiding premature convergence\n"
     ]
    },
    {
     "data": {
      "application/vnd.jupyter.widget-view+json": {
       "model_id": "5c0d1f680ed44c2aa83a1ee34f9068d5",
       "version_major": 2,
       "version_minor": 0
      },
      "text/plain": [
       "  0%|          | 0/90 [00:00<?, ?it/s]"
      ]
     },
     "metadata": {},
     "output_type": "display_data"
    },
    {
     "name": "stdout",
     "output_type": "stream",
     "text": [
      "Generation 27: Avoiding premature convergence\n"
     ]
    },
    {
     "data": {
      "application/vnd.jupyter.widget-view+json": {
       "model_id": "fd2f703fdd29480c93f457a3f6f70b7c",
       "version_major": 2,
       "version_minor": 0
      },
      "text/plain": [
       "  0%|          | 0/90 [00:00<?, ?it/s]"
      ]
     },
     "metadata": {},
     "output_type": "display_data"
    },
    {
     "name": "stdout",
     "output_type": "stream",
     "text": [
      "Generation 30: Best = 7288.0, Worst = 79000009264.0\n",
      "Generation 32: Avoiding premature convergence\n"
     ]
    },
    {
     "data": {
      "application/vnd.jupyter.widget-view+json": {
       "model_id": "94d9dd4106dd425a8a470c600fc96590",
       "version_major": 2,
       "version_minor": 0
      },
      "text/plain": [
       "  0%|          | 0/90 [00:00<?, ?it/s]"
      ]
     },
     "metadata": {},
     "output_type": "display_data"
    },
    {
     "name": "stdout",
     "output_type": "stream",
     "text": [
      "Generation 37: Avoiding premature convergence\n"
     ]
    },
    {
     "data": {
      "application/vnd.jupyter.widget-view+json": {
       "model_id": "050b08b0f0bb44a58e41ea634ddba81e",
       "version_major": 2,
       "version_minor": 0
      },
      "text/plain": [
       "  0%|          | 0/90 [00:00<?, ?it/s]"
      ]
     },
     "metadata": {},
     "output_type": "display_data"
    },
    {
     "name": "stdout",
     "output_type": "stream",
     "text": [
      "Generation 40: Best = 7288.0, Worst = 78000008992.0\n",
      "Generation 43: Avoiding premature convergence\n"
     ]
    },
    {
     "data": {
      "application/vnd.jupyter.widget-view+json": {
       "model_id": "2696c55f9a3f4174a355c915f6601a8f",
       "version_major": 2,
       "version_minor": 0
      },
      "text/plain": [
       "  0%|          | 0/90 [00:00<?, ?it/s]"
      ]
     },
     "metadata": {},
     "output_type": "display_data"
    },
    {
     "name": "stdout",
     "output_type": "stream",
     "text": [
      "Generation 50: Avoiding premature convergence\n"
     ]
    },
    {
     "data": {
      "application/vnd.jupyter.widget-view+json": {
       "model_id": "997c626e0f304eb1a31d43606badb3f3",
       "version_major": 2,
       "version_minor": 0
      },
      "text/plain": [
       "  0%|          | 0/90 [00:00<?, ?it/s]"
      ]
     },
     "metadata": {},
     "output_type": "display_data"
    },
    {
     "name": "stdout",
     "output_type": "stream",
     "text": [
      "Generation 50: Best = 7288.0, Worst = 100000010560.0\n",
      "Generation 56: Avoiding premature convergence\n"
     ]
    },
    {
     "data": {
      "application/vnd.jupyter.widget-view+json": {
       "model_id": "47f8db1de0ff4f2c84a640e33378e3a1",
       "version_major": 2,
       "version_minor": 0
      },
      "text/plain": [
       "  0%|          | 0/90 [00:00<?, ?it/s]"
      ]
     },
     "metadata": {},
     "output_type": "display_data"
    },
    {
     "name": "stdout",
     "output_type": "stream",
     "text": [
      "Generation 60: Best = 7288.0, Worst = 71000009606.0\n",
      "Generation 63: Avoiding premature convergence\n"
     ]
    },
    {
     "data": {
      "application/vnd.jupyter.widget-view+json": {
       "model_id": "67cb9e4254e14d6187203eba89a92ff0",
       "version_major": 2,
       "version_minor": 0
      },
      "text/plain": [
       "  0%|          | 0/90 [00:00<?, ?it/s]"
      ]
     },
     "metadata": {},
     "output_type": "display_data"
    },
    {
     "name": "stdout",
     "output_type": "stream",
     "text": [
      "Generation 69: Avoiding premature convergence\n"
     ]
    },
    {
     "data": {
      "application/vnd.jupyter.widget-view+json": {
       "model_id": "a0443eb7f59746b2817939b50b3deb40",
       "version_major": 2,
       "version_minor": 0
      },
      "text/plain": [
       "  0%|          | 0/90 [00:00<?, ?it/s]"
      ]
     },
     "metadata": {},
     "output_type": "display_data"
    },
    {
     "name": "stdout",
     "output_type": "stream",
     "text": [
      "Generation 70: Best = 7288.0, Worst = 98000010572.0\n",
      "Generation 79: Avoiding premature convergence\n"
     ]
    },
    {
     "data": {
      "application/vnd.jupyter.widget-view+json": {
       "model_id": "db644254961240b79c942e69840737d9",
       "version_major": 2,
       "version_minor": 0
      },
      "text/plain": [
       "  0%|          | 0/90 [00:00<?, ?it/s]"
      ]
     },
     "metadata": {},
     "output_type": "display_data"
    },
    {
     "name": "stdout",
     "output_type": "stream",
     "text": [
      "Generation 80: Best = 7282.0, Worst = 99000011664.0\n",
      "Generation 85: Avoiding premature convergence\n"
     ]
    },
    {
     "data": {
      "application/vnd.jupyter.widget-view+json": {
       "model_id": "74d1307473c14b33bf8407f449179fb6",
       "version_major": 2,
       "version_minor": 0
      },
      "text/plain": [
       "  0%|          | 0/90 [00:00<?, ?it/s]"
      ]
     },
     "metadata": {},
     "output_type": "display_data"
    },
    {
     "name": "stdout",
     "output_type": "stream",
     "text": [
      "Generation 90: Avoiding premature convergence\n"
     ]
    },
    {
     "data": {
      "application/vnd.jupyter.widget-view+json": {
       "model_id": "623f65436270483c956c02fc536c8285",
       "version_major": 2,
       "version_minor": 0
      },
      "text/plain": [
       "  0%|          | 0/90 [00:00<?, ?it/s]"
      ]
     },
     "metadata": {},
     "output_type": "display_data"
    },
    {
     "name": "stdout",
     "output_type": "stream",
     "text": [
      "Generation 90: Best = 7282.0, Worst = 105000010952.0\n",
      "Generation 96: Avoiding premature convergence\n"
     ]
    },
    {
     "data": {
      "application/vnd.jupyter.widget-view+json": {
       "model_id": "f4cb0704d35d4ab08c6714e8cd4748c0",
       "version_major": 2,
       "version_minor": 0
      },
      "text/plain": [
       "  0%|          | 0/90 [00:00<?, ?it/s]"
      ]
     },
     "metadata": {},
     "output_type": "display_data"
    },
    {
     "name": "stdout",
     "output_type": "stream",
     "text": [
      "Data saved to ../docs/performance_tracking/hec-s-92.csv\n",
      "Created instance hec-s-92.\n",
      "number of courses = 81, number of students = 2823\n",
      "number of timeslots = 22, number of rooms = 18\n"
     ]
    },
    {
     "data": {
      "application/vnd.jupyter.widget-view+json": {
       "model_id": "5533448d62de4bb188366b298dc78953",
       "version_major": 2,
       "version_minor": 0
      },
      "text/plain": [
       "  0%|          | 0/10 [00:00<?, ?it/s]"
      ]
     },
     "metadata": {},
     "output_type": "display_data"
    },
    {
     "data": {
      "application/vnd.jupyter.widget-view+json": {
       "model_id": "acb5b4e092f04fdc9f4a278ef6864d2c",
       "version_major": 2,
       "version_minor": 0
      },
      "text/plain": [
       "  0%|          | 0/90 [00:00<?, ?it/s]"
      ]
     },
     "metadata": {},
     "output_type": "display_data"
    },
    {
     "data": {
      "application/vnd.jupyter.widget-view+json": {
       "model_id": "084235c2f4bd42368f25656b9e1838b6",
       "version_major": 2,
       "version_minor": 0
      },
      "text/plain": [
       "  0%|          | 0/100 [00:00<?, ?it/s]"
      ]
     },
     "metadata": {},
     "output_type": "display_data"
    },
    {
     "name": "stdout",
     "output_type": "stream",
     "text": [
      "Generation 0: Best = 7338.0, Worst = 96000010286.0\n",
      "Generation 10: Best = 7330.0, Worst = 7338.0\n",
      "Generation 18: Avoiding premature convergence\n"
     ]
    },
    {
     "data": {
      "application/vnd.jupyter.widget-view+json": {
       "model_id": "654f377787cd468db5e1ef7abf2784c0",
       "version_major": 2,
       "version_minor": 0
      },
      "text/plain": [
       "  0%|          | 0/90 [00:00<?, ?it/s]"
      ]
     },
     "metadata": {},
     "output_type": "display_data"
    },
    {
     "name": "stdout",
     "output_type": "stream",
     "text": [
      "Generation 20: Best = 7322.0, Worst = 90000010112.0\n",
      "Generation 23: Avoiding premature convergence\n"
     ]
    },
    {
     "data": {
      "application/vnd.jupyter.widget-view+json": {
       "model_id": "872fded0c2f442748348b9f1dda95350",
       "version_major": 2,
       "version_minor": 0
      },
      "text/plain": [
       "  0%|          | 0/90 [00:00<?, ?it/s]"
      ]
     },
     "metadata": {},
     "output_type": "display_data"
    },
    {
     "name": "stdout",
     "output_type": "stream",
     "text": [
      "Generation 29: Avoiding premature convergence\n"
     ]
    },
    {
     "data": {
      "application/vnd.jupyter.widget-view+json": {
       "model_id": "7fbe1519e357479f908f20fd8c62f43a",
       "version_major": 2,
       "version_minor": 0
      },
      "text/plain": [
       "  0%|          | 0/90 [00:00<?, ?it/s]"
      ]
     },
     "metadata": {},
     "output_type": "display_data"
    },
    {
     "name": "stdout",
     "output_type": "stream",
     "text": [
      "Generation 30: Best = 7322.0, Worst = 97000009978.0\n",
      "Generation 35: Avoiding premature convergence\n"
     ]
    },
    {
     "data": {
      "application/vnd.jupyter.widget-view+json": {
       "model_id": "c09d6a82e67c4f8a88e512ed5f453cce",
       "version_major": 2,
       "version_minor": 0
      },
      "text/plain": [
       "  0%|          | 0/90 [00:00<?, ?it/s]"
      ]
     },
     "metadata": {},
     "output_type": "display_data"
    },
    {
     "name": "stdout",
     "output_type": "stream",
     "text": [
      "Generation 40: Best = 7322.0, Worst = 4000007428.0\n",
      "Generation 41: Avoiding premature convergence\n"
     ]
    },
    {
     "data": {
      "application/vnd.jupyter.widget-view+json": {
       "model_id": "975d7a26e4db479b827dfb04a67fc145",
       "version_major": 2,
       "version_minor": 0
      },
      "text/plain": [
       "  0%|          | 0/90 [00:00<?, ?it/s]"
      ]
     },
     "metadata": {},
     "output_type": "display_data"
    },
    {
     "name": "stdout",
     "output_type": "stream",
     "text": [
      "Generation 46: Avoiding premature convergence\n"
     ]
    },
    {
     "data": {
      "application/vnd.jupyter.widget-view+json": {
       "model_id": "9efa3c30cff547ce963e26032fbd96ea",
       "version_major": 2,
       "version_minor": 0
      },
      "text/plain": [
       "  0%|          | 0/90 [00:00<?, ?it/s]"
      ]
     },
     "metadata": {},
     "output_type": "display_data"
    },
    {
     "name": "stdout",
     "output_type": "stream",
     "text": [
      "Generation 50: Best = 7322.0, Worst = 64000008436.0\n",
      "Generation 51: Avoiding premature convergence\n"
     ]
    },
    {
     "data": {
      "application/vnd.jupyter.widget-view+json": {
       "model_id": "6889adb48b4a4a2fb132c4829b8bae88",
       "version_major": 2,
       "version_minor": 0
      },
      "text/plain": [
       "  0%|          | 0/90 [00:00<?, ?it/s]"
      ]
     },
     "metadata": {},
     "output_type": "display_data"
    },
    {
     "name": "stdout",
     "output_type": "stream",
     "text": [
      "Generation 57: Avoiding premature convergence\n"
     ]
    },
    {
     "data": {
      "application/vnd.jupyter.widget-view+json": {
       "model_id": "5ba255136e7e442b92d284ef54d799b3",
       "version_major": 2,
       "version_minor": 0
      },
      "text/plain": [
       "  0%|          | 0/90 [00:00<?, ?it/s]"
      ]
     },
     "metadata": {},
     "output_type": "display_data"
    },
    {
     "name": "stdout",
     "output_type": "stream",
     "text": [
      "Generation 60: Best = 7322.0, Worst = 78000010042.0\n",
      "Generation 64: Avoiding premature convergence\n"
     ]
    },
    {
     "data": {
      "application/vnd.jupyter.widget-view+json": {
       "model_id": "9e98dc386b7a4152b7f73579a42c0b90",
       "version_major": 2,
       "version_minor": 0
      },
      "text/plain": [
       "  0%|          | 0/90 [00:00<?, ?it/s]"
      ]
     },
     "metadata": {},
     "output_type": "display_data"
    },
    {
     "name": "stdout",
     "output_type": "stream",
     "text": [
      "Generation 70: Avoiding premature convergence\n"
     ]
    },
    {
     "data": {
      "application/vnd.jupyter.widget-view+json": {
       "model_id": "f3c61368f013411882864a2a2d28c742",
       "version_major": 2,
       "version_minor": 0
      },
      "text/plain": [
       "  0%|          | 0/90 [00:00<?, ?it/s]"
      ]
     },
     "metadata": {},
     "output_type": "display_data"
    },
    {
     "name": "stdout",
     "output_type": "stream",
     "text": [
      "Generation 70: Best = 7322.0, Worst = 88000011122.0\n",
      "Generation 76: Avoiding premature convergence\n"
     ]
    },
    {
     "data": {
      "application/vnd.jupyter.widget-view+json": {
       "model_id": "8d182bf1057e46349c47849a62b6be0f",
       "version_major": 2,
       "version_minor": 0
      },
      "text/plain": [
       "  0%|          | 0/90 [00:00<?, ?it/s]"
      ]
     },
     "metadata": {},
     "output_type": "display_data"
    },
    {
     "name": "stdout",
     "output_type": "stream",
     "text": [
      "Generation 80: Best = 7322.0, Worst = 57000008808.0\n",
      "Generation 82: Avoiding premature convergence\n"
     ]
    },
    {
     "data": {
      "application/vnd.jupyter.widget-view+json": {
       "model_id": "28ffc6905900403c804e5e89902c9885",
       "version_major": 2,
       "version_minor": 0
      },
      "text/plain": [
       "  0%|          | 0/90 [00:00<?, ?it/s]"
      ]
     },
     "metadata": {},
     "output_type": "display_data"
    },
    {
     "name": "stdout",
     "output_type": "stream",
     "text": [
      "Generation 89: Avoiding premature convergence\n"
     ]
    },
    {
     "data": {
      "application/vnd.jupyter.widget-view+json": {
       "model_id": "c790a4ec2faf4b349fe0c90486986c33",
       "version_major": 2,
       "version_minor": 0
      },
      "text/plain": [
       "  0%|          | 0/90 [00:00<?, ?it/s]"
      ]
     },
     "metadata": {},
     "output_type": "display_data"
    },
    {
     "name": "stdout",
     "output_type": "stream",
     "text": [
      "Generation 90: Best = 7322.0, Worst = 98000009330.0\n",
      "Generation 99: Avoiding premature convergence\n"
     ]
    },
    {
     "data": {
      "application/vnd.jupyter.widget-view+json": {
       "model_id": "79a25f09532a4e119700ae925ed51ae1",
       "version_major": 2,
       "version_minor": 0
      },
      "text/plain": [
       "  0%|          | 0/90 [00:00<?, ?it/s]"
      ]
     },
     "metadata": {},
     "output_type": "display_data"
    },
    {
     "name": "stdout",
     "output_type": "stream",
     "text": [
      "Data saved to ../docs/performance_tracking/hec-s-92.csv\n",
      "Created instance hec-s-92.\n",
      "number of courses = 81, number of students = 2823\n",
      "number of timeslots = 22, number of rooms = 18\n"
     ]
    },
    {
     "data": {
      "application/vnd.jupyter.widget-view+json": {
       "model_id": "bc6903b291d54596b0f49c761c3e7ecf",
       "version_major": 2,
       "version_minor": 0
      },
      "text/plain": [
       "  0%|          | 0/10 [00:00<?, ?it/s]"
      ]
     },
     "metadata": {},
     "output_type": "display_data"
    },
    {
     "data": {
      "application/vnd.jupyter.widget-view+json": {
       "model_id": "d9f235dd556f46b687a192ceba89c15a",
       "version_major": 2,
       "version_minor": 0
      },
      "text/plain": [
       "  0%|          | 0/90 [00:00<?, ?it/s]"
      ]
     },
     "metadata": {},
     "output_type": "display_data"
    },
    {
     "data": {
      "application/vnd.jupyter.widget-view+json": {
       "model_id": "61da36f685694d4ea19e5ce8a4d6b995",
       "version_major": 2,
       "version_minor": 0
      },
      "text/plain": [
       "  0%|          | 0/100 [00:00<?, ?it/s]"
      ]
     },
     "metadata": {},
     "output_type": "display_data"
    },
    {
     "name": "stdout",
     "output_type": "stream",
     "text": [
      "Generation 0: Best = 7284.0, Worst = 97000011764.0\n",
      "Generation 10: Best = 7264.0, Worst = 4000007394.0\n",
      "Generation 20: Best = 7264.0, Worst = 1000007226.0\n",
      "Generation 30: Best = 7264.0, Worst = 1000007224.0\n",
      "Generation 40: Best = 7262.0, Worst = 1000007224.0\n",
      "Generation 50: Best = 7262.0, Worst = 1000007224.0\n",
      "Generation 60: Best = 7246.0, Worst = 1000007224.0\n",
      "Generation 70: Best = 7246.0, Worst = 1000007224.0\n",
      "Generation 80: Best = 7246.0, Worst = 1000007224.0\n",
      "Generation 90: Best = 7246.0, Worst = 1000007224.0\n",
      "Data saved to ../docs/performance_tracking/hec-s-92.csv\n",
      "Created instance hec-s-92.\n",
      "number of courses = 81, number of students = 2823\n",
      "number of timeslots = 22, number of rooms = 18\n"
     ]
    },
    {
     "data": {
      "application/vnd.jupyter.widget-view+json": {
       "model_id": "770990e771dc43deb43ce8f5e9a8817f",
       "version_major": 2,
       "version_minor": 0
      },
      "text/plain": [
       "  0%|          | 0/10 [00:00<?, ?it/s]"
      ]
     },
     "metadata": {},
     "output_type": "display_data"
    },
    {
     "data": {
      "application/vnd.jupyter.widget-view+json": {
       "model_id": "be8f65ae94ee496db3d175059971ed2a",
       "version_major": 2,
       "version_minor": 0
      },
      "text/plain": [
       "  0%|          | 0/90 [00:00<?, ?it/s]"
      ]
     },
     "metadata": {},
     "output_type": "display_data"
    },
    {
     "data": {
      "application/vnd.jupyter.widget-view+json": {
       "model_id": "5906a65bf6c442cb9ba5e08c2b247d75",
       "version_major": 2,
       "version_minor": 0
      },
      "text/plain": [
       "  0%|          | 0/100 [00:00<?, ?it/s]"
      ]
     },
     "metadata": {},
     "output_type": "display_data"
    },
    {
     "name": "stdout",
     "output_type": "stream",
     "text": [
      "Generation 0: Best = 7384.0, Worst = 98000010254.0\n",
      "Generation 10: Best = 7384.0, Worst = 3000007612.0\n",
      "Generation 20: Best = 7384.0, Worst = 1000007280.0\n",
      "Generation 30: Best = 7384.0, Worst = 1000007276.0\n",
      "Generation 40: Best = 7384.0, Worst = 1000007276.0\n",
      "Generation 50: Best = 7384.0, Worst = 1000007276.0\n",
      "Generation 60: Best = 7384.0, Worst = 1000007276.0\n",
      "Generation 70: Best = 7384.0, Worst = 1000007276.0\n",
      "Generation 80: Best = 7384.0, Worst = 1000007276.0\n",
      "Generation 90: Best = 7384.0, Worst = 1000007276.0\n",
      "Data saved to ../docs/performance_tracking/hec-s-92.csv\n",
      "Created instance hec-s-92.\n",
      "number of courses = 81, number of students = 2823\n",
      "number of timeslots = 22, number of rooms = 18\n"
     ]
    },
    {
     "data": {
      "application/vnd.jupyter.widget-view+json": {
       "model_id": "8bba92daca254182913ca74d64cc51c4",
       "version_major": 2,
       "version_minor": 0
      },
      "text/plain": [
       "  0%|          | 0/10 [00:00<?, ?it/s]"
      ]
     },
     "metadata": {},
     "output_type": "display_data"
    },
    {
     "data": {
      "application/vnd.jupyter.widget-view+json": {
       "model_id": "0df45eb8ac45485bbf9f2060e3f3b04b",
       "version_major": 2,
       "version_minor": 0
      },
      "text/plain": [
       "  0%|          | 0/90 [00:00<?, ?it/s]"
      ]
     },
     "metadata": {},
     "output_type": "display_data"
    },
    {
     "data": {
      "application/vnd.jupyter.widget-view+json": {
       "model_id": "94ac4a5a878d4091b5aac902a29c226c",
       "version_major": 2,
       "version_minor": 0
      },
      "text/plain": [
       "  0%|          | 0/100 [00:00<?, ?it/s]"
      ]
     },
     "metadata": {},
     "output_type": "display_data"
    },
    {
     "name": "stdout",
     "output_type": "stream",
     "text": [
      "Generation 0: Best = 7584.0, Worst = 98000010178.0\n",
      "Generation 10: Best = 7492.0, Worst = 1000007534.0\n",
      "Generation 20: Avoiding premature convergence\n"
     ]
    },
    {
     "data": {
      "application/vnd.jupyter.widget-view+json": {
       "model_id": "01f06966f20d49e1922efec69c7e53fe",
       "version_major": 2,
       "version_minor": 0
      },
      "text/plain": [
       "  0%|          | 0/90 [00:00<?, ?it/s]"
      ]
     },
     "metadata": {},
     "output_type": "display_data"
    },
    {
     "name": "stdout",
     "output_type": "stream",
     "text": [
      "Generation 20: Best = 7488.0, Worst = 90000010722.0\n",
      "Generation 27: Avoiding premature convergence\n"
     ]
    },
    {
     "data": {
      "application/vnd.jupyter.widget-view+json": {
       "model_id": "2cf3d98373a545a790e302f695df01f2",
       "version_major": 2,
       "version_minor": 0
      },
      "text/plain": [
       "  0%|          | 0/90 [00:00<?, ?it/s]"
      ]
     },
     "metadata": {},
     "output_type": "display_data"
    },
    {
     "name": "stdout",
     "output_type": "stream",
     "text": [
      "Generation 30: Best = 7488.0, Worst = 78000009572.0\n",
      "Generation 33: Avoiding premature convergence\n"
     ]
    },
    {
     "data": {
      "application/vnd.jupyter.widget-view+json": {
       "model_id": "a740484209c746878afa6e4eb098019d",
       "version_major": 2,
       "version_minor": 0
      },
      "text/plain": [
       "  0%|          | 0/90 [00:00<?, ?it/s]"
      ]
     },
     "metadata": {},
     "output_type": "display_data"
    },
    {
     "name": "stdout",
     "output_type": "stream",
     "text": [
      "Generation 39: Avoiding premature convergence\n"
     ]
    },
    {
     "data": {
      "application/vnd.jupyter.widget-view+json": {
       "model_id": "f92b4ce23aad4c278200725a41b5132a",
       "version_major": 2,
       "version_minor": 0
      },
      "text/plain": [
       "  0%|          | 0/90 [00:00<?, ?it/s]"
      ]
     },
     "metadata": {},
     "output_type": "display_data"
    },
    {
     "name": "stdout",
     "output_type": "stream",
     "text": [
      "Generation 40: Best = 7488.0, Worst = 98000010182.0\n",
      "Generation 44: Avoiding premature convergence\n"
     ]
    },
    {
     "data": {
      "application/vnd.jupyter.widget-view+json": {
       "model_id": "f5e3e4d794a04d5a903d4479da9928ae",
       "version_major": 2,
       "version_minor": 0
      },
      "text/plain": [
       "  0%|          | 0/90 [00:00<?, ?it/s]"
      ]
     },
     "metadata": {},
     "output_type": "display_data"
    },
    {
     "name": "stdout",
     "output_type": "stream",
     "text": [
      "Generation 50: Avoiding premature convergence\n"
     ]
    },
    {
     "data": {
      "application/vnd.jupyter.widget-view+json": {
       "model_id": "c89122b944484d30ad4ef67514b83403",
       "version_major": 2,
       "version_minor": 0
      },
      "text/plain": [
       "  0%|          | 0/90 [00:00<?, ?it/s]"
      ]
     },
     "metadata": {},
     "output_type": "display_data"
    },
    {
     "name": "stdout",
     "output_type": "stream",
     "text": [
      "Generation 50: Best = 7488.0, Worst = 110000010604.0\n",
      "Generation 56: Avoiding premature convergence\n"
     ]
    },
    {
     "data": {
      "application/vnd.jupyter.widget-view+json": {
       "model_id": "c57beb1b15934cf68f4f7dc846762263",
       "version_major": 2,
       "version_minor": 0
      },
      "text/plain": [
       "  0%|          | 0/90 [00:00<?, ?it/s]"
      ]
     },
     "metadata": {},
     "output_type": "display_data"
    },
    {
     "name": "stdout",
     "output_type": "stream",
     "text": [
      "Generation 60: Best = 7488.0, Worst = 68000009446.0\n",
      "Generation 62: Avoiding premature convergence\n"
     ]
    },
    {
     "data": {
      "application/vnd.jupyter.widget-view+json": {
       "model_id": "f14a7f3c64da44a1b278e1073484b272",
       "version_major": 2,
       "version_minor": 0
      },
      "text/plain": [
       "  0%|          | 0/90 [00:00<?, ?it/s]"
      ]
     },
     "metadata": {},
     "output_type": "display_data"
    },
    {
     "name": "stdout",
     "output_type": "stream",
     "text": [
      "Generation 68: Avoiding premature convergence\n"
     ]
    },
    {
     "data": {
      "application/vnd.jupyter.widget-view+json": {
       "model_id": "5afa7fb014fa4dd4817e61753725274e",
       "version_major": 2,
       "version_minor": 0
      },
      "text/plain": [
       "  0%|          | 0/90 [00:00<?, ?it/s]"
      ]
     },
     "metadata": {},
     "output_type": "display_data"
    },
    {
     "name": "stdout",
     "output_type": "stream",
     "text": [
      "Generation 70: Best = 7488.0, Worst = 91000009910.0\n",
      "Generation 75: Avoiding premature convergence\n"
     ]
    },
    {
     "data": {
      "application/vnd.jupyter.widget-view+json": {
       "model_id": "9b70776d3f754b459edeac1b0a839de8",
       "version_major": 2,
       "version_minor": 0
      },
      "text/plain": [
       "  0%|          | 0/90 [00:00<?, ?it/s]"
      ]
     },
     "metadata": {},
     "output_type": "display_data"
    },
    {
     "name": "stdout",
     "output_type": "stream",
     "text": [
      "Generation 80: Avoiding premature convergence\n"
     ]
    },
    {
     "data": {
      "application/vnd.jupyter.widget-view+json": {
       "model_id": "ba90078715cf462a9cb36f811a1cad3b",
       "version_major": 2,
       "version_minor": 0
      },
      "text/plain": [
       "  0%|          | 0/90 [00:00<?, ?it/s]"
      ]
     },
     "metadata": {},
     "output_type": "display_data"
    },
    {
     "name": "stdout",
     "output_type": "stream",
     "text": [
      "Generation 80: Best = 7488.0, Worst = 110000011150.0\n",
      "Generation 86: Avoiding premature convergence\n"
     ]
    },
    {
     "data": {
      "application/vnd.jupyter.widget-view+json": {
       "model_id": "ef504f81801a41aa8677956bfbf4d920",
       "version_major": 2,
       "version_minor": 0
      },
      "text/plain": [
       "  0%|          | 0/90 [00:00<?, ?it/s]"
      ]
     },
     "metadata": {},
     "output_type": "display_data"
    },
    {
     "name": "stdout",
     "output_type": "stream",
     "text": [
      "Generation 90: Best = 7488.0, Worst = 62000009628.0\n",
      "Generation 91: Avoiding premature convergence\n"
     ]
    },
    {
     "data": {
      "application/vnd.jupyter.widget-view+json": {
       "model_id": "2e2a72574840455f9bdc562b30bbc804",
       "version_major": 2,
       "version_minor": 0
      },
      "text/plain": [
       "  0%|          | 0/90 [00:00<?, ?it/s]"
      ]
     },
     "metadata": {},
     "output_type": "display_data"
    },
    {
     "name": "stdout",
     "output_type": "stream",
     "text": [
      "Generation 98: Avoiding premature convergence\n"
     ]
    },
    {
     "data": {
      "application/vnd.jupyter.widget-view+json": {
       "model_id": "6955358e25fd47a8b100c1216b774f58",
       "version_major": 2,
       "version_minor": 0
      },
      "text/plain": [
       "  0%|          | 0/90 [00:00<?, ?it/s]"
      ]
     },
     "metadata": {},
     "output_type": "display_data"
    },
    {
     "name": "stdout",
     "output_type": "stream",
     "text": [
      "Data saved to ../docs/performance_tracking/hec-s-92.csv\n",
      "Created instance hec-s-92.\n",
      "number of courses = 81, number of students = 2823\n",
      "number of timeslots = 22, number of rooms = 18\n"
     ]
    },
    {
     "data": {
      "application/vnd.jupyter.widget-view+json": {
       "model_id": "83d922fb4aa4496c9c212402cb65599a",
       "version_major": 2,
       "version_minor": 0
      },
      "text/plain": [
       "  0%|          | 0/10 [00:00<?, ?it/s]"
      ]
     },
     "metadata": {},
     "output_type": "display_data"
    },
    {
     "data": {
      "application/vnd.jupyter.widget-view+json": {
       "model_id": "00f7512e21b44d439a85e1b7e3455c9d",
       "version_major": 2,
       "version_minor": 0
      },
      "text/plain": [
       "  0%|          | 0/90 [00:00<?, ?it/s]"
      ]
     },
     "metadata": {},
     "output_type": "display_data"
    },
    {
     "data": {
      "application/vnd.jupyter.widget-view+json": {
       "model_id": "640d0d58941c4482b24aed203995d83a",
       "version_major": 2,
       "version_minor": 0
      },
      "text/plain": [
       "  0%|          | 0/100 [00:00<?, ?it/s]"
      ]
     },
     "metadata": {},
     "output_type": "display_data"
    },
    {
     "name": "stdout",
     "output_type": "stream",
     "text": [
      "Generation 0: Best = 7736.0, Worst = 98000009852.0\n",
      "Generation 10: Best = 7442.0, Worst = 1000007470.0\n",
      "Generation 20: Best = 7400.0, Worst = 1000007396.0\n",
      "Generation 30: Best = 7400.0, Worst = 1000007396.0\n",
      "Generation 40: Best = 7400.0, Worst = 1000007396.0\n",
      "Generation 50: Best = 7400.0, Worst = 1000007394.0\n",
      "Generation 60: Best = 7400.0, Worst = 1000007394.0\n",
      "Generation 70: Best = 7390.0, Worst = 1000007394.0\n",
      "Generation 74: Avoiding premature convergence\n"
     ]
    },
    {
     "data": {
      "application/vnd.jupyter.widget-view+json": {
       "model_id": "43f7d24d40cb4663a43f50fb1e220758",
       "version_major": 2,
       "version_minor": 0
      },
      "text/plain": [
       "  0%|          | 0/90 [00:00<?, ?it/s]"
      ]
     },
     "metadata": {},
     "output_type": "display_data"
    },
    {
     "name": "stdout",
     "output_type": "stream",
     "text": [
      "Generation 80: Avoiding premature convergence\n"
     ]
    },
    {
     "data": {
      "application/vnd.jupyter.widget-view+json": {
       "model_id": "b6160d134491474ca792a58dfcd9ac2e",
       "version_major": 2,
       "version_minor": 0
      },
      "text/plain": [
       "  0%|          | 0/90 [00:00<?, ?it/s]"
      ]
     },
     "metadata": {},
     "output_type": "display_data"
    },
    {
     "name": "stdout",
     "output_type": "stream",
     "text": [
      "Generation 80: Best = 7390.0, Worst = 91000009890.0\n",
      "Generation 86: Avoiding premature convergence\n"
     ]
    },
    {
     "data": {
      "application/vnd.jupyter.widget-view+json": {
       "model_id": "521b316785ed40899bc1e984940b9ff2",
       "version_major": 2,
       "version_minor": 0
      },
      "text/plain": [
       "  0%|          | 0/90 [00:00<?, ?it/s]"
      ]
     },
     "metadata": {},
     "output_type": "display_data"
    },
    {
     "name": "stdout",
     "output_type": "stream",
     "text": [
      "Generation 90: Best = 7386.0, Worst = 38000008342.0\n",
      "Generation 95: Avoiding premature convergence\n"
     ]
    },
    {
     "data": {
      "application/vnd.jupyter.widget-view+json": {
       "model_id": "da6c8305d16241f5ad1a3218ce618f02",
       "version_major": 2,
       "version_minor": 0
      },
      "text/plain": [
       "  0%|          | 0/90 [00:00<?, ?it/s]"
      ]
     },
     "metadata": {},
     "output_type": "display_data"
    },
    {
     "name": "stdout",
     "output_type": "stream",
     "text": [
      "Data saved to ../docs/performance_tracking/hec-s-92.csv\n",
      "Created instance hec-s-92.\n",
      "number of courses = 81, number of students = 2823\n",
      "number of timeslots = 22, number of rooms = 18\n"
     ]
    },
    {
     "data": {
      "application/vnd.jupyter.widget-view+json": {
       "model_id": "0f4e3c9ccb454956a9ddb23c6f0a5107",
       "version_major": 2,
       "version_minor": 0
      },
      "text/plain": [
       "  0%|          | 0/10 [00:00<?, ?it/s]"
      ]
     },
     "metadata": {},
     "output_type": "display_data"
    },
    {
     "data": {
      "application/vnd.jupyter.widget-view+json": {
       "model_id": "c805026234194d15b54922cb8e02b74a",
       "version_major": 2,
       "version_minor": 0
      },
      "text/plain": [
       "  0%|          | 0/90 [00:00<?, ?it/s]"
      ]
     },
     "metadata": {},
     "output_type": "display_data"
    },
    {
     "data": {
      "application/vnd.jupyter.widget-view+json": {
       "model_id": "64f5a244e76243a4a77770d0113db3df",
       "version_major": 2,
       "version_minor": 0
      },
      "text/plain": [
       "  0%|          | 0/100 [00:00<?, ?it/s]"
      ]
     },
     "metadata": {},
     "output_type": "display_data"
    },
    {
     "name": "stdout",
     "output_type": "stream",
     "text": [
      "Generation 0: Best = 7368.0, Worst = 98000010166.0\n",
      "Generation 10: Best = 7306.0, Worst = 1000007326.0\n",
      "Generation 20: Best = 7298.0, Worst = 7306.0\n",
      "Generation 25: Avoiding premature convergence\n"
     ]
    },
    {
     "data": {
      "application/vnd.jupyter.widget-view+json": {
       "model_id": "3d298c697d27404ab68355d1adf51aae",
       "version_major": 2,
       "version_minor": 0
      },
      "text/plain": [
       "  0%|          | 0/90 [00:00<?, ?it/s]"
      ]
     },
     "metadata": {},
     "output_type": "display_data"
    },
    {
     "name": "stdout",
     "output_type": "stream",
     "text": [
      "Generation 30: Best = 7298.0, Worst = 53000008608.0\n",
      "Generation 31: Avoiding premature convergence\n"
     ]
    },
    {
     "data": {
      "application/vnd.jupyter.widget-view+json": {
       "model_id": "4854355fff3746089e733d4d44b7d4c5",
       "version_major": 2,
       "version_minor": 0
      },
      "text/plain": [
       "  0%|          | 0/90 [00:00<?, ?it/s]"
      ]
     },
     "metadata": {},
     "output_type": "display_data"
    },
    {
     "name": "stdout",
     "output_type": "stream",
     "text": [
      "Generation 37: Avoiding premature convergence\n"
     ]
    },
    {
     "data": {
      "application/vnd.jupyter.widget-view+json": {
       "model_id": "afeebb711a7f4e099457831a3c8a701d",
       "version_major": 2,
       "version_minor": 0
      },
      "text/plain": [
       "  0%|          | 0/90 [00:00<?, ?it/s]"
      ]
     },
     "metadata": {},
     "output_type": "display_data"
    },
    {
     "name": "stdout",
     "output_type": "stream",
     "text": [
      "Generation 40: Best = 7298.0, Worst = 71000009352.0\n",
      "Generation 42: Avoiding premature convergence\n"
     ]
    },
    {
     "data": {
      "application/vnd.jupyter.widget-view+json": {
       "model_id": "dad7562d738849a188d61b5205957139",
       "version_major": 2,
       "version_minor": 0
      },
      "text/plain": [
       "  0%|          | 0/90 [00:00<?, ?it/s]"
      ]
     },
     "metadata": {},
     "output_type": "display_data"
    },
    {
     "name": "stdout",
     "output_type": "stream",
     "text": [
      "Generation 48: Avoiding premature convergence\n"
     ]
    },
    {
     "data": {
      "application/vnd.jupyter.widget-view+json": {
       "model_id": "36cdd29c35604f9b8fa0703c690dc83a",
       "version_major": 2,
       "version_minor": 0
      },
      "text/plain": [
       "  0%|          | 0/90 [00:00<?, ?it/s]"
      ]
     },
     "metadata": {},
     "output_type": "display_data"
    },
    {
     "name": "stdout",
     "output_type": "stream",
     "text": [
      "Generation 50: Best = 7298.0, Worst = 90000010028.0\n",
      "Generation 53: Avoiding premature convergence\n"
     ]
    },
    {
     "data": {
      "application/vnd.jupyter.widget-view+json": {
       "model_id": "3ae053296d1542728327a9065830a1ab",
       "version_major": 2,
       "version_minor": 0
      },
      "text/plain": [
       "  0%|          | 0/90 [00:00<?, ?it/s]"
      ]
     },
     "metadata": {},
     "output_type": "display_data"
    },
    {
     "name": "stdout",
     "output_type": "stream",
     "text": [
      "Generation 58: Avoiding premature convergence\n"
     ]
    },
    {
     "data": {
      "application/vnd.jupyter.widget-view+json": {
       "model_id": "faebec938ca14ef78d865f53bec4832d",
       "version_major": 2,
       "version_minor": 0
      },
      "text/plain": [
       "  0%|          | 0/90 [00:00<?, ?it/s]"
      ]
     },
     "metadata": {},
     "output_type": "display_data"
    },
    {
     "name": "stdout",
     "output_type": "stream",
     "text": [
      "Generation 60: Best = 7298.0, Worst = 92000010174.0\n",
      "Generation 64: Avoiding premature convergence\n"
     ]
    },
    {
     "data": {
      "application/vnd.jupyter.widget-view+json": {
       "model_id": "a6d3b17b0e7b4c51b746479b556d1227",
       "version_major": 2,
       "version_minor": 0
      },
      "text/plain": [
       "  0%|          | 0/90 [00:00<?, ?it/s]"
      ]
     },
     "metadata": {},
     "output_type": "display_data"
    },
    {
     "name": "stdout",
     "output_type": "stream",
     "text": [
      "Generation 69: Avoiding premature convergence\n"
     ]
    },
    {
     "data": {
      "application/vnd.jupyter.widget-view+json": {
       "model_id": "7783f8733f35456dbe34e355158e3c12",
       "version_major": 2,
       "version_minor": 0
      },
      "text/plain": [
       "  0%|          | 0/90 [00:00<?, ?it/s]"
      ]
     },
     "metadata": {},
     "output_type": "display_data"
    },
    {
     "name": "stdout",
     "output_type": "stream",
     "text": [
      "Generation 70: Best = 7298.0, Worst = 98000009740.0\n",
      "Generation 75: Avoiding premature convergence\n"
     ]
    },
    {
     "data": {
      "application/vnd.jupyter.widget-view+json": {
       "model_id": "42988a2155a0485eb3709cb9b2bbca8a",
       "version_major": 2,
       "version_minor": 0
      },
      "text/plain": [
       "  0%|          | 0/90 [00:00<?, ?it/s]"
      ]
     },
     "metadata": {},
     "output_type": "display_data"
    },
    {
     "name": "stdout",
     "output_type": "stream",
     "text": [
      "Generation 80: Best = 7298.0, Worst = 31000007894.0\n",
      "Generation 81: Avoiding premature convergence\n"
     ]
    },
    {
     "data": {
      "application/vnd.jupyter.widget-view+json": {
       "model_id": "334eb04cb073427a882ea93669c14c1d",
       "version_major": 2,
       "version_minor": 0
      },
      "text/plain": [
       "  0%|          | 0/90 [00:00<?, ?it/s]"
      ]
     },
     "metadata": {},
     "output_type": "display_data"
    },
    {
     "name": "stdout",
     "output_type": "stream",
     "text": [
      "Generation 90: Best = 7240.0, Worst = 7298.0\n",
      "Generation 92: Avoiding premature convergence\n"
     ]
    },
    {
     "data": {
      "application/vnd.jupyter.widget-view+json": {
       "model_id": "94316b7ece614c09bc0146fef21bbe8d",
       "version_major": 2,
       "version_minor": 0
      },
      "text/plain": [
       "  0%|          | 0/90 [00:00<?, ?it/s]"
      ]
     },
     "metadata": {},
     "output_type": "display_data"
    },
    {
     "name": "stdout",
     "output_type": "stream",
     "text": [
      "Generation 98: Avoiding premature convergence\n"
     ]
    },
    {
     "data": {
      "application/vnd.jupyter.widget-view+json": {
       "model_id": "e2a71be1126149fca0b9c4e54a122cc6",
       "version_major": 2,
       "version_minor": 0
      },
      "text/plain": [
       "  0%|          | 0/90 [00:00<?, ?it/s]"
      ]
     },
     "metadata": {},
     "output_type": "display_data"
    },
    {
     "name": "stdout",
     "output_type": "stream",
     "text": [
      "Data saved to ../docs/performance_tracking/hec-s-92.csv\n",
      "Created instance hec-s-92.\n",
      "number of courses = 81, number of students = 2823\n",
      "number of timeslots = 22, number of rooms = 18\n"
     ]
    },
    {
     "data": {
      "application/vnd.jupyter.widget-view+json": {
       "model_id": "bb49ec84b8154295811f912a748d568f",
       "version_major": 2,
       "version_minor": 0
      },
      "text/plain": [
       "  0%|          | 0/10 [00:00<?, ?it/s]"
      ]
     },
     "metadata": {},
     "output_type": "display_data"
    },
    {
     "data": {
      "application/vnd.jupyter.widget-view+json": {
       "model_id": "92b521e59e6b4ee9813ca98b8cad9ad5",
       "version_major": 2,
       "version_minor": 0
      },
      "text/plain": [
       "  0%|          | 0/90 [00:00<?, ?it/s]"
      ]
     },
     "metadata": {},
     "output_type": "display_data"
    },
    {
     "data": {
      "application/vnd.jupyter.widget-view+json": {
       "model_id": "29d9c9001d294182bd402b6044171910",
       "version_major": 2,
       "version_minor": 0
      },
      "text/plain": [
       "  0%|          | 0/100 [00:00<?, ?it/s]"
      ]
     },
     "metadata": {},
     "output_type": "display_data"
    },
    {
     "name": "stdout",
     "output_type": "stream",
     "text": [
      "Generation 0: Best = 7202.0, Worst = 98000009430.0\n",
      "Generation 10: Best = 7170.0, Worst = 7000007626.0\n",
      "Generation 18: Avoiding premature convergence\n"
     ]
    },
    {
     "data": {
      "application/vnd.jupyter.widget-view+json": {
       "model_id": "33875362822741f798e5b3e0a27d0c5d",
       "version_major": 2,
       "version_minor": 0
      },
      "text/plain": [
       "  0%|          | 0/90 [00:00<?, ?it/s]"
      ]
     },
     "metadata": {},
     "output_type": "display_data"
    },
    {
     "name": "stdout",
     "output_type": "stream",
     "text": [
      "Generation 20: Best = 7168.0, Worst = 89000010066.0\n",
      "Generation 23: Avoiding premature convergence\n"
     ]
    },
    {
     "data": {
      "application/vnd.jupyter.widget-view+json": {
       "model_id": "2e0a7c674ea14818aafcf19898cb89d0",
       "version_major": 2,
       "version_minor": 0
      },
      "text/plain": [
       "  0%|          | 0/90 [00:00<?, ?it/s]"
      ]
     },
     "metadata": {},
     "output_type": "display_data"
    },
    {
     "name": "stdout",
     "output_type": "stream",
     "text": [
      "Generation 28: Avoiding premature convergence\n"
     ]
    },
    {
     "data": {
      "application/vnd.jupyter.widget-view+json": {
       "model_id": "e7f19d0767be4fa888767a16ee85bd9e",
       "version_major": 2,
       "version_minor": 0
      },
      "text/plain": [
       "  0%|          | 0/90 [00:00<?, ?it/s]"
      ]
     },
     "metadata": {},
     "output_type": "display_data"
    },
    {
     "name": "stdout",
     "output_type": "stream",
     "text": [
      "Generation 30: Best = 7168.0, Worst = 85000010800.0\n",
      "Generation 40: Best = 7164.0, Worst = 7168.0\n",
      "Generation 41: Avoiding premature convergence\n"
     ]
    },
    {
     "data": {
      "application/vnd.jupyter.widget-view+json": {
       "model_id": "5f94187f115349798c697e73b1747da2",
       "version_major": 2,
       "version_minor": 0
      },
      "text/plain": [
       "  0%|          | 0/90 [00:00<?, ?it/s]"
      ]
     },
     "metadata": {},
     "output_type": "display_data"
    },
    {
     "name": "stdout",
     "output_type": "stream",
     "text": [
      "Generation 48: Avoiding premature convergence\n"
     ]
    },
    {
     "data": {
      "application/vnd.jupyter.widget-view+json": {
       "model_id": "80d51dd88a494b8aa937c2fd82e8e94a",
       "version_major": 2,
       "version_minor": 0
      },
      "text/plain": [
       "  0%|          | 0/90 [00:00<?, ?it/s]"
      ]
     },
     "metadata": {},
     "output_type": "display_data"
    },
    {
     "name": "stdout",
     "output_type": "stream",
     "text": [
      "Generation 50: Best = 7164.0, Worst = 90000010218.0\n",
      "Generation 53: Avoiding premature convergence\n"
     ]
    },
    {
     "data": {
      "application/vnd.jupyter.widget-view+json": {
       "model_id": "40fa7414eee64d5d85f58068585a6b44",
       "version_major": 2,
       "version_minor": 0
      },
      "text/plain": [
       "  0%|          | 0/90 [00:00<?, ?it/s]"
      ]
     },
     "metadata": {},
     "output_type": "display_data"
    },
    {
     "name": "stdout",
     "output_type": "stream",
     "text": [
      "Generation 59: Avoiding premature convergence\n"
     ]
    },
    {
     "data": {
      "application/vnd.jupyter.widget-view+json": {
       "model_id": "c31d1c8cce2949339ccec82e959ce943",
       "version_major": 2,
       "version_minor": 0
      },
      "text/plain": [
       "  0%|          | 0/90 [00:00<?, ?it/s]"
      ]
     },
     "metadata": {},
     "output_type": "display_data"
    },
    {
     "name": "stdout",
     "output_type": "stream",
     "text": [
      "Generation 60: Best = 7164.0, Worst = 98000009950.0\n",
      "Generation 65: Avoiding premature convergence\n"
     ]
    },
    {
     "data": {
      "application/vnd.jupyter.widget-view+json": {
       "model_id": "cc95faef058748c2a130455a6cfcc074",
       "version_major": 2,
       "version_minor": 0
      },
      "text/plain": [
       "  0%|          | 0/90 [00:00<?, ?it/s]"
      ]
     },
     "metadata": {},
     "output_type": "display_data"
    },
    {
     "name": "stdout",
     "output_type": "stream",
     "text": [
      "Generation 70: Best = 7164.0, Worst = 36000007930.0\n",
      "Generation 71: Avoiding premature convergence\n"
     ]
    },
    {
     "data": {
      "application/vnd.jupyter.widget-view+json": {
       "model_id": "51c97e8919034330b91d2d70d04d3f40",
       "version_major": 2,
       "version_minor": 0
      },
      "text/plain": [
       "  0%|          | 0/90 [00:00<?, ?it/s]"
      ]
     },
     "metadata": {},
     "output_type": "display_data"
    },
    {
     "name": "stdout",
     "output_type": "stream",
     "text": [
      "Generation 80: Best = 7158.0, Worst = 7164.0\n",
      "Generation 82: Avoiding premature convergence\n"
     ]
    },
    {
     "data": {
      "application/vnd.jupyter.widget-view+json": {
       "model_id": "4d2ce8252cd04fdf864d56585f3b66ec",
       "version_major": 2,
       "version_minor": 0
      },
      "text/plain": [
       "  0%|          | 0/90 [00:00<?, ?it/s]"
      ]
     },
     "metadata": {},
     "output_type": "display_data"
    },
    {
     "name": "stdout",
     "output_type": "stream",
     "text": [
      "Generation 88: Avoiding premature convergence\n"
     ]
    },
    {
     "data": {
      "application/vnd.jupyter.widget-view+json": {
       "model_id": "49f0dee2586d4283a586445e25e80c73",
       "version_major": 2,
       "version_minor": 0
      },
      "text/plain": [
       "  0%|          | 0/90 [00:00<?, ?it/s]"
      ]
     },
     "metadata": {},
     "output_type": "display_data"
    },
    {
     "name": "stdout",
     "output_type": "stream",
     "text": [
      "Generation 90: Best = 7158.0, Worst = 89000009498.0\n",
      "Generation 94: Avoiding premature convergence\n"
     ]
    },
    {
     "data": {
      "application/vnd.jupyter.widget-view+json": {
       "model_id": "0e7c0cf35a884bd2b0c1be929ceaa62e",
       "version_major": 2,
       "version_minor": 0
      },
      "text/plain": [
       "  0%|          | 0/90 [00:00<?, ?it/s]"
      ]
     },
     "metadata": {},
     "output_type": "display_data"
    },
    {
     "name": "stdout",
     "output_type": "stream",
     "text": [
      "Generation 99: Avoiding premature convergence\n"
     ]
    },
    {
     "data": {
      "application/vnd.jupyter.widget-view+json": {
       "model_id": "95b99933d00a404785acbb88cc7fcdbf",
       "version_major": 2,
       "version_minor": 0
      },
      "text/plain": [
       "  0%|          | 0/90 [00:00<?, ?it/s]"
      ]
     },
     "metadata": {},
     "output_type": "display_data"
    },
    {
     "name": "stdout",
     "output_type": "stream",
     "text": [
      "Data saved to ../docs/performance_tracking/hec-s-92.csv\n",
      "Created instance hec-s-92.\n",
      "number of courses = 81, number of students = 2823\n",
      "number of timeslots = 22, number of rooms = 18\n"
     ]
    },
    {
     "data": {
      "application/vnd.jupyter.widget-view+json": {
       "model_id": "58a32e5b2d2b451d9a6ab7ebdca151cf",
       "version_major": 2,
       "version_minor": 0
      },
      "text/plain": [
       "  0%|          | 0/10 [00:00<?, ?it/s]"
      ]
     },
     "metadata": {},
     "output_type": "display_data"
    },
    {
     "data": {
      "application/vnd.jupyter.widget-view+json": {
       "model_id": "06a0000c684545c8b24de96390c8a7d6",
       "version_major": 2,
       "version_minor": 0
      },
      "text/plain": [
       "  0%|          | 0/90 [00:00<?, ?it/s]"
      ]
     },
     "metadata": {},
     "output_type": "display_data"
    },
    {
     "data": {
      "application/vnd.jupyter.widget-view+json": {
       "model_id": "3dcf3e9cc3334f41ac99aee09fb872cc",
       "version_major": 2,
       "version_minor": 0
      },
      "text/plain": [
       "  0%|          | 0/100 [00:00<?, ?it/s]"
      ]
     },
     "metadata": {},
     "output_type": "display_data"
    },
    {
     "name": "stdout",
     "output_type": "stream",
     "text": [
      "Generation 0: Best = 7358.0, Worst = 96000009926.0\n",
      "Generation 10: Best = 7302.0, Worst = 1000007290.0\n",
      "Generation 20: Best = 7286.0, Worst = 7302.0\n",
      "Generation 26: Avoiding premature convergence\n"
     ]
    },
    {
     "data": {
      "application/vnd.jupyter.widget-view+json": {
       "model_id": "a67838dfc7fb41acb970ef3cdc2e606d",
       "version_major": 2,
       "version_minor": 0
      },
      "text/plain": [
       "  0%|          | 0/90 [00:00<?, ?it/s]"
      ]
     },
     "metadata": {},
     "output_type": "display_data"
    },
    {
     "name": "stdout",
     "output_type": "stream",
     "text": [
      "Generation 30: Best = 7280.0, Worst = 66000009142.0\n",
      "Generation 35: Avoiding premature convergence\n"
     ]
    },
    {
     "data": {
      "application/vnd.jupyter.widget-view+json": {
       "model_id": "02f2f99c5250410f959dc067408419e8",
       "version_major": 2,
       "version_minor": 0
      },
      "text/plain": [
       "  0%|          | 0/90 [00:00<?, ?it/s]"
      ]
     },
     "metadata": {},
     "output_type": "display_data"
    },
    {
     "name": "stdout",
     "output_type": "stream",
     "text": [
      "Generation 40: Best = 7280.0, Worst = 43000008238.0\n",
      "Generation 41: Avoiding premature convergence\n"
     ]
    },
    {
     "data": {
      "application/vnd.jupyter.widget-view+json": {
       "model_id": "16bae3c6bc22420688c3e7f3ac64b444",
       "version_major": 2,
       "version_minor": 0
      },
      "text/plain": [
       "  0%|          | 0/90 [00:00<?, ?it/s]"
      ]
     },
     "metadata": {},
     "output_type": "display_data"
    },
    {
     "name": "stdout",
     "output_type": "stream",
     "text": [
      "Generation 47: Avoiding premature convergence\n"
     ]
    },
    {
     "data": {
      "application/vnd.jupyter.widget-view+json": {
       "model_id": "9e71c0ee2dee4ef8a3025da43da7d56c",
       "version_major": 2,
       "version_minor": 0
      },
      "text/plain": [
       "  0%|          | 0/90 [00:00<?, ?it/s]"
      ]
     },
     "metadata": {},
     "output_type": "display_data"
    },
    {
     "name": "stdout",
     "output_type": "stream",
     "text": [
      "Generation 50: Best = 7280.0, Worst = 79000009374.0\n",
      "Generation 53: Avoiding premature convergence\n"
     ]
    },
    {
     "data": {
      "application/vnd.jupyter.widget-view+json": {
       "model_id": "1c62d98c00974cd3a1ed7c562dfb6265",
       "version_major": 2,
       "version_minor": 0
      },
      "text/plain": [
       "  0%|          | 0/90 [00:00<?, ?it/s]"
      ]
     },
     "metadata": {},
     "output_type": "display_data"
    },
    {
     "name": "stdout",
     "output_type": "stream",
     "text": [
      "Generation 60: Best = 7274.0, Worst = 7280.0\n",
      "Generation 63: Avoiding premature convergence\n"
     ]
    },
    {
     "data": {
      "application/vnd.jupyter.widget-view+json": {
       "model_id": "62bb72beae144197a0e2ceeeb64bf865",
       "version_major": 2,
       "version_minor": 0
      },
      "text/plain": [
       "  0%|          | 0/90 [00:00<?, ?it/s]"
      ]
     },
     "metadata": {},
     "output_type": "display_data"
    },
    {
     "name": "stdout",
     "output_type": "stream",
     "text": [
      "Generation 69: Avoiding premature convergence\n"
     ]
    },
    {
     "data": {
      "application/vnd.jupyter.widget-view+json": {
       "model_id": "5c2e0b7efbc246a8a9bc15762921589b",
       "version_major": 2,
       "version_minor": 0
      },
      "text/plain": [
       "  0%|          | 0/90 [00:00<?, ?it/s]"
      ]
     },
     "metadata": {},
     "output_type": "display_data"
    },
    {
     "name": "stdout",
     "output_type": "stream",
     "text": [
      "Generation 70: Best = 7274.0, Worst = 98000009578.0\n",
      "Generation 74: Avoiding premature convergence\n"
     ]
    },
    {
     "data": {
      "application/vnd.jupyter.widget-view+json": {
       "model_id": "1b020dc5be9d416aa2ea307d61f6418a",
       "version_major": 2,
       "version_minor": 0
      },
      "text/plain": [
       "  0%|          | 0/90 [00:00<?, ?it/s]"
      ]
     },
     "metadata": {},
     "output_type": "display_data"
    },
    {
     "name": "stdout",
     "output_type": "stream",
     "text": [
      "Generation 80: Avoiding premature convergence\n"
     ]
    },
    {
     "data": {
      "application/vnd.jupyter.widget-view+json": {
       "model_id": "7fdb2bf8f8c74bea854205f8d8189747",
       "version_major": 2,
       "version_minor": 0
      },
      "text/plain": [
       "  0%|          | 0/90 [00:00<?, ?it/s]"
      ]
     },
     "metadata": {},
     "output_type": "display_data"
    },
    {
     "name": "stdout",
     "output_type": "stream",
     "text": [
      "Generation 80: Best = 7274.0, Worst = 104000011538.0\n",
      "Generation 85: Avoiding premature convergence\n"
     ]
    },
    {
     "data": {
      "application/vnd.jupyter.widget-view+json": {
       "model_id": "70efa8f38549452db49bd400a9cf4a9e",
       "version_major": 2,
       "version_minor": 0
      },
      "text/plain": [
       "  0%|          | 0/90 [00:00<?, ?it/s]"
      ]
     },
     "metadata": {},
     "output_type": "display_data"
    },
    {
     "name": "stdout",
     "output_type": "stream",
     "text": [
      "Generation 90: Best = 7274.0, Worst = 43000008242.0\n",
      "Generation 91: Avoiding premature convergence\n"
     ]
    },
    {
     "data": {
      "application/vnd.jupyter.widget-view+json": {
       "model_id": "cd21a3c565514cb1a50ea79429489adc",
       "version_major": 2,
       "version_minor": 0
      },
      "text/plain": [
       "  0%|          | 0/90 [00:00<?, ?it/s]"
      ]
     },
     "metadata": {},
     "output_type": "display_data"
    },
    {
     "name": "stdout",
     "output_type": "stream",
     "text": [
      "Data saved to ../docs/performance_tracking/hec-s-92.csv\n"
     ]
    }
   ],
   "source": [
    "import csv\n",
    "import os\n",
    "\n",
    "# List of instances and field names for the CSV\n",
    "instance_list = ['car-s-91','car-f-92','ear-f-83', 'hec-s-92', 'kfu-s-93', 'lse-f-91', 'pur-s-93', 'rye-s-93', 'sta-f-83', 'tre-s-92', 'uta-s-92', 'ute-s-92', 'yor-f-83']\n",
    "inst_fieldnames = ['Instance', 'Trial'] + [f\"BF {i}\" for i in range(100)] + [f\"WF {i}\" for i in range(100)] + [f\"T {i}\" for i in range(100)]\n",
    "\n",
    "# Loop through the specific file names and trials\n",
    "for file_name in instance_list[1, 2, ]:\n",
    "    for i in range(10):\n",
    "        # Assume Instance and the functions are defined elsewhere\n",
    "        instance = Instance(file_name)\n",
    "        feasible_population = create_population(instance, size=10)\n",
    "        infeasible_population = create_random_population(instance, 90)\n",
    "        initial_population = feasible_population + infeasible_population\n",
    "        population, best_fitness, worst_fitness, generation_times = genetic_algorithm(instance, initial_population, track=True)\n",
    "        \n",
    "        # Construct the CSV file path\n",
    "        csv_file = f\"../docs/performance_tracking/{file_name}.csv\"\n",
    "        \n",
    "        # Data to be written\n",
    "        dict1 = {'Instance': file_name, 'Trial': i}\n",
    "        data = {**dict1, **best_fitness, **worst_fitness, **generation_times}\n",
    "        \n",
    "        # Check if the file exists\n",
    "        file_exists = os.path.isfile(csv_file)\n",
    "        \n",
    "        # Open the file in append mode and write data\n",
    "        with open(csv_file, mode='a', newline='') as file:\n",
    "            writer = csv.DictWriter(file, fieldnames=inst_fieldnames)\n",
    "            if not file_exists:\n",
    "                writer.writeheader()\n",
    "            writer.writerow(data)\n",
    "            file.flush()\n",
    "        \n",
    "        # Print confirmation message\n",
    "        print(f\"Data saved to {csv_file}\")\n"
   ]
  },
  {
   "cell_type": "code",
   "execution_count": 70,
   "id": "db3241be",
   "metadata": {},
   "outputs": [],
   "source": [
    "import csv\n",
    "import os\n",
    "\n",
    "def save_to_csv(id, list1, list2, list3, list4, int1, int2):\n",
    "    # Construct the file name\n",
    "    file_name = f\"{id}.csv\"\n",
    "    \n",
    "    # Check if the file already exists to decide whether to write a header\n",
    "    file_exists = os.path.isfile(file_name)\n",
    "    \n",
    "    # Open the file in append mode\n",
    "    with open(file_name, mode='a', newline='') as file:\n",
    "        writer = csv.writer(file)\n",
    "        \n",
    "        # If the file does not exist, write the header row\n",
    "        if not file_exists:\n",
    "            header = [\"Int1\", \"Int2\"] + [f\"List1_{i}\" for i in range(1, len(list1) + 1)] + \\\n",
    "                     [f\"List2_{i}\" for i in range(1, len(list2) + 1)] + \\\n",
    "                     [f\"List3_{i}\" for i in range(1, len(list3) + 1)] + \\\n",
    "                     [f\"List4_{i}\" for i in range(1, len(list4) + 1)]\n",
    "            writer.writerow(header)\n",
    "        \n",
    "        # Write the integers and lists to the CSV file in a single row\n",
    "        row = [int1, int2] + list1 + list2 + list3 + list4\n",
    "        writer.writerow(row)\n",
    "\n",
    "# Example usage\n",
    "id = \"example_id\"\n",
    "list1 = [1, 2, 3]\n",
    "list2 = [4, 5, 6]\n",
    "list3 = [7, 8, 9]\n",
    "list4 = [10, 11, 12]\n",
    "int1 = 100\n",
    "int2 = 200\n",
    "\n",
    "save_to_csv(id, list1, list2, list3, list4, int1, int2)\n"
   ]
  },
  {
   "cell_type": "code",
   "execution_count": 123,
   "id": "11acc852",
   "metadata": {},
   "outputs": [
    {
     "data": {
      "text/plain": [
       "['BF 0',\n",
       " 'BF 1',\n",
       " 'BF 2',\n",
       " 'BF 3',\n",
       " 'BF 4',\n",
       " 'BF 5',\n",
       " 'BF 6',\n",
       " 'BF 7',\n",
       " 'BF 8',\n",
       " 'BF 9',\n",
       " 'BF 10',\n",
       " 'BF 11',\n",
       " 'BF 12',\n",
       " 'BF 13',\n",
       " 'BF 14',\n",
       " 'BF 15',\n",
       " 'BF 16',\n",
       " 'BF 17',\n",
       " 'BF 18',\n",
       " 'BF 19',\n",
       " 'BF 20',\n",
       " 'BF 21',\n",
       " 'BF 22',\n",
       " 'BF 23',\n",
       " 'BF 24',\n",
       " 'BF 25',\n",
       " 'BF 26',\n",
       " 'BF 27',\n",
       " 'BF 28',\n",
       " 'BF 29',\n",
       " 'BF 30',\n",
       " 'BF 31',\n",
       " 'BF 32',\n",
       " 'BF 33',\n",
       " 'BF 34',\n",
       " 'BF 35',\n",
       " 'BF 36',\n",
       " 'BF 37',\n",
       " 'BF 38',\n",
       " 'BF 39',\n",
       " 'BF 40',\n",
       " 'BF 41',\n",
       " 'BF 42',\n",
       " 'BF 43',\n",
       " 'BF 44',\n",
       " 'BF 45',\n",
       " 'BF 46',\n",
       " 'BF 47',\n",
       " 'BF 48',\n",
       " 'BF 49',\n",
       " 'BF 50',\n",
       " 'BF 51',\n",
       " 'BF 52',\n",
       " 'BF 53',\n",
       " 'BF 54',\n",
       " 'BF 55',\n",
       " 'BF 56',\n",
       " 'BF 57',\n",
       " 'BF 58',\n",
       " 'BF 59',\n",
       " 'BF 60',\n",
       " 'BF 61',\n",
       " 'BF 62',\n",
       " 'BF 63',\n",
       " 'BF 64',\n",
       " 'BF 65',\n",
       " 'BF 66',\n",
       " 'BF 67',\n",
       " 'BF 68',\n",
       " 'BF 69',\n",
       " 'BF 70',\n",
       " 'BF 71',\n",
       " 'BF 72',\n",
       " 'BF 73',\n",
       " 'BF 74',\n",
       " 'BF 75',\n",
       " 'BF 76',\n",
       " 'BF 77',\n",
       " 'BF 78',\n",
       " 'BF 79',\n",
       " 'BF 80',\n",
       " 'BF 81',\n",
       " 'BF 82',\n",
       " 'BF 83',\n",
       " 'BF 84',\n",
       " 'BF 85',\n",
       " 'BF 86',\n",
       " 'BF 87',\n",
       " 'BF 88',\n",
       " 'BF 89',\n",
       " 'BF 90',\n",
       " 'BF 91',\n",
       " 'BF 92',\n",
       " 'BF 93',\n",
       " 'BF 94',\n",
       " 'BF 95',\n",
       " 'BF 96',\n",
       " 'BF 97',\n",
       " 'BF 98',\n",
       " 'BF 99',\n",
       " 'WF 0',\n",
       " 'WF 1',\n",
       " 'WF 2',\n",
       " 'WF 3',\n",
       " 'WF 4',\n",
       " 'WF 5',\n",
       " 'WF 6',\n",
       " 'WF 7',\n",
       " 'WF 8',\n",
       " 'WF 9',\n",
       " 'WF 10',\n",
       " 'WF 11',\n",
       " 'WF 12',\n",
       " 'WF 13',\n",
       " 'WF 14',\n",
       " 'WF 15',\n",
       " 'WF 16',\n",
       " 'WF 17',\n",
       " 'WF 18',\n",
       " 'WF 19',\n",
       " 'WF 20',\n",
       " 'WF 21',\n",
       " 'WF 22',\n",
       " 'WF 23',\n",
       " 'WF 24',\n",
       " 'WF 25',\n",
       " 'WF 26',\n",
       " 'WF 27',\n",
       " 'WF 28',\n",
       " 'WF 29',\n",
       " 'WF 30',\n",
       " 'WF 31',\n",
       " 'WF 32',\n",
       " 'WF 33',\n",
       " 'WF 34',\n",
       " 'WF 35',\n",
       " 'WF 36',\n",
       " 'WF 37',\n",
       " 'WF 38',\n",
       " 'WF 39',\n",
       " 'WF 40',\n",
       " 'WF 41',\n",
       " 'WF 42',\n",
       " 'WF 43',\n",
       " 'WF 44',\n",
       " 'WF 45',\n",
       " 'WF 46',\n",
       " 'WF 47',\n",
       " 'WF 48',\n",
       " 'WF 49',\n",
       " 'WF 50',\n",
       " 'WF 51',\n",
       " 'WF 52',\n",
       " 'WF 53',\n",
       " 'WF 54',\n",
       " 'WF 55',\n",
       " 'WF 56',\n",
       " 'WF 57',\n",
       " 'WF 58',\n",
       " 'WF 59',\n",
       " 'WF 60',\n",
       " 'WF 61',\n",
       " 'WF 62',\n",
       " 'WF 63',\n",
       " 'WF 64',\n",
       " 'WF 65',\n",
       " 'WF 66',\n",
       " 'WF 67',\n",
       " 'WF 68',\n",
       " 'WF 69',\n",
       " 'WF 70',\n",
       " 'WF 71',\n",
       " 'WF 72',\n",
       " 'WF 73',\n",
       " 'WF 74',\n",
       " 'WF 75',\n",
       " 'WF 76',\n",
       " 'WF 77',\n",
       " 'WF 78',\n",
       " 'WF 79',\n",
       " 'WF 80',\n",
       " 'WF 81',\n",
       " 'WF 82',\n",
       " 'WF 83',\n",
       " 'WF 84',\n",
       " 'WF 85',\n",
       " 'WF 86',\n",
       " 'WF 87',\n",
       " 'WF 88',\n",
       " 'WF 89',\n",
       " 'WF 90',\n",
       " 'WF 91',\n",
       " 'WF 92',\n",
       " 'WF 93',\n",
       " 'WF 94',\n",
       " 'WF 95',\n",
       " 'WF 96',\n",
       " 'WF 97',\n",
       " 'WF 98',\n",
       " 'WF 99',\n",
       " 'T 0',\n",
       " 'T 1',\n",
       " 'T 2',\n",
       " 'T 3',\n",
       " 'T 4',\n",
       " 'T 5',\n",
       " 'T 6',\n",
       " 'T 7',\n",
       " 'T 8',\n",
       " 'T 9',\n",
       " 'T 10',\n",
       " 'T 11',\n",
       " 'T 12',\n",
       " 'T 13',\n",
       " 'T 14',\n",
       " 'T 15',\n",
       " 'T 16',\n",
       " 'T 17',\n",
       " 'T 18',\n",
       " 'T 19',\n",
       " 'T 20',\n",
       " 'T 21',\n",
       " 'T 22',\n",
       " 'T 23',\n",
       " 'T 24',\n",
       " 'T 25',\n",
       " 'T 26',\n",
       " 'T 27',\n",
       " 'T 28',\n",
       " 'T 29',\n",
       " 'T 30',\n",
       " 'T 31',\n",
       " 'T 32',\n",
       " 'T 33',\n",
       " 'T 34',\n",
       " 'T 35',\n",
       " 'T 36',\n",
       " 'T 37',\n",
       " 'T 38',\n",
       " 'T 39',\n",
       " 'T 40',\n",
       " 'T 41',\n",
       " 'T 42',\n",
       " 'T 43',\n",
       " 'T 44',\n",
       " 'T 45',\n",
       " 'T 46',\n",
       " 'T 47',\n",
       " 'T 48',\n",
       " 'T 49',\n",
       " 'T 50',\n",
       " 'T 51',\n",
       " 'T 52',\n",
       " 'T 53',\n",
       " 'T 54',\n",
       " 'T 55',\n",
       " 'T 56',\n",
       " 'T 57',\n",
       " 'T 58',\n",
       " 'T 59',\n",
       " 'T 60',\n",
       " 'T 61',\n",
       " 'T 62',\n",
       " 'T 63',\n",
       " 'T 64',\n",
       " 'T 65',\n",
       " 'T 66',\n",
       " 'T 67',\n",
       " 'T 68',\n",
       " 'T 69',\n",
       " 'T 70',\n",
       " 'T 71',\n",
       " 'T 72',\n",
       " 'T 73',\n",
       " 'T 74',\n",
       " 'T 75',\n",
       " 'T 76',\n",
       " 'T 77',\n",
       " 'T 78',\n",
       " 'T 79',\n",
       " 'T 80',\n",
       " 'T 81',\n",
       " 'T 82',\n",
       " 'T 83',\n",
       " 'T 84',\n",
       " 'T 85',\n",
       " 'T 86',\n",
       " 'T 87',\n",
       " 'T 88',\n",
       " 'T 89',\n",
       " 'T 90',\n",
       " 'T 91',\n",
       " 'T 92',\n",
       " 'T 93',\n",
       " 'T 94',\n",
       " 'T 95',\n",
       " 'T 96',\n",
       " 'T 97',\n",
       " 'T 98',\n",
       " 'T 99']"
      ]
     },
     "execution_count": 123,
     "metadata": {},
     "output_type": "execute_result"
    }
   ],
   "source": [
    "[f\"BF {i}\" for i in range(100)] + [f\"WF {i}\" for i in range(100)] + [f\"T {i}\" for i in range(100)]"
   ]
  },
  {
   "cell_type": "code",
   "execution_count": 159,
   "id": "39ce1fbb",
   "metadata": {},
   "outputs": [
    {
     "ename": "TypeError",
     "evalue": "list indices must be integers or slices, not tuple",
     "output_type": "error",
     "traceback": [
      "\u001b[1;31m---------------------------------------------------------------------------\u001b[0m",
      "\u001b[1;31mTypeError\u001b[0m                                 Traceback (most recent call last)",
      "Cell \u001b[1;32mIn[159], line 1\u001b[0m\n\u001b[1;32m----> 1\u001b[0m \u001b[43minstance_list\u001b[49m\u001b[43m[\u001b[49m\u001b[38;5;241;43m1\u001b[39;49m\u001b[43m,\u001b[49m\u001b[43m \u001b[49m\u001b[38;5;241;43m2\u001b[39;49m\u001b[43m,\u001b[49m\u001b[43m \u001b[49m\u001b[38;5;241;43m4\u001b[39;49m\u001b[43m,\u001b[49m\u001b[43m \u001b[49m\u001b[38;5;241;43m5\u001b[39;49m\u001b[43m,\u001b[49m\u001b[43m \u001b[49m\u001b[38;5;241;43m6\u001b[39;49m\u001b[43m]\u001b[49m\n",
      "\u001b[1;31mTypeError\u001b[0m: list indices must be integers or slices, not tuple"
     ]
    }
   ],
   "source": []
  },
  {
   "cell_type": "code",
   "execution_count": null,
   "id": "851d5902",
   "metadata": {},
   "outputs": [],
   "source": []
  }
 ],
 "metadata": {
  "kernelspec": {
   "display_name": "Python 3 (ipykernel)",
   "language": "python",
   "name": "python3"
  },
  "language_info": {
   "codemirror_mode": {
    "name": "ipython",
    "version": 3
   },
   "file_extension": ".py",
   "mimetype": "text/x-python",
   "name": "python",
   "nbconvert_exporter": "python",
   "pygments_lexer": "ipython3",
   "version": "3.11.2"
  }
 },
 "nbformat": 4,
 "nbformat_minor": 5
}
