{
 "cells": [
  {
   "cell_type": "code",
   "execution_count": 1,
   "id": "52966c05",
   "metadata": {},
   "outputs": [],
   "source": []
  },
  {
   "cell_type": "code",
   "execution_count": 3,
   "id": "208a255d",
   "metadata": {},
   "outputs": [],
   "source": [
    "class Timetable():\n",
    "    def __init__(self,r_a, d_a, instance):\n",
    "        self.r_a = r_a\n",
    "        self.d_a = d_a\n",
    "        self.instance = instance\n",
    "    \n",
    "    def create_matrices(self):\n",
    "        pass\n",
    "    \n",
    "    def calculate_hard_penalty(self):\n",
    "        pass\n",
    "    \n",
    "    def calculate_soft_penalty(self):\n",
    "        pass\n",
    "        "
   ]
  },
  {
   "cell_type": "code",
   "execution_count": 4,
   "id": "baea21d8",
   "metadata": {},
   "outputs": [
    {
     "ename": "NameError",
     "evalue": "name 'timetable' is not defined",
     "output_type": "error",
     "traceback": [
      "\u001b[1;31m---------------------------------------------------------------------------\u001b[0m",
      "\u001b[1;31mNameError\u001b[0m                                 Traceback (most recent call last)",
      "Cell \u001b[1;32mIn[4], line 1\u001b[0m\n\u001b[1;32m----> 1\u001b[0m timetable \u001b[38;5;241m=\u001b[39m \u001b[43mtimetable\u001b[49m\n",
      "\u001b[1;31mNameError\u001b[0m: name 'timetable' is not defined"
     ]
    }
   ],
   "source": [
    "timetable = timetable"
   ]
  },
  {
   "cell_type": "code",
   "execution_count": null,
   "id": "30cd3bfd",
   "metadata": {},
   "outputs": [],
   "source": []
  }
 ],
 "metadata": {
  "kernelspec": {
   "display_name": "Python 3 (ipykernel)",
   "language": "python",
   "name": "python3"
  },
  "language_info": {
   "codemirror_mode": {
    "name": "ipython",
    "version": 3
   },
   "file_extension": ".py",
   "mimetype": "text/x-python",
   "name": "python",
   "nbconvert_exporter": "python",
   "pygments_lexer": "ipython3",
   "version": "3.11.2"
  }
 },
 "nbformat": 4,
 "nbformat_minor": 5
}
