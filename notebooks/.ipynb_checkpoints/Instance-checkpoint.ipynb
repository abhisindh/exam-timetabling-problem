{
 "cells": [
  {
   "cell_type": "code",
   "execution_count": 1,
   "id": "34e0e1d9",
   "metadata": {},
   "outputs": [],
   "source": [
    "import pandas as pd\n",
    "import numpy as np\n",
    "from tqdm.notebook import tqdm\n",
    "from scipy.sparse import csr_matrix"
   ]
  },
  {
   "cell_type": "code",
   "execution_count": 2,
   "id": "6980d43a",
   "metadata": {},
   "outputs": [],
   "source": [
    "# To print big matrices as whole\n",
    "np.set_printoptions(linewidth=np.inf, threshold=np.inf)"
   ]
  },
  {
   "cell_type": "code",
   "execution_count": 3,
   "id": "ed688233",
   "metadata": {},
   "outputs": [],
   "source": [
    "instance_list = ['car-s-91','car-f-92','ear-f-83', 'hec-s-92', 'kfu-s-93', 'lse-f-91', 'pur-s-93', 'rye-s-93', 'sta-f-83', 'tre-s-92', 'uta-s-92', 'ute-s-92', 'yor-f-83']"
   ]
  },
  {
   "cell_type": "code",
   "execution_count": 4,
   "id": "f23b1d0e",
   "metadata": {},
   "outputs": [],
   "source": [
    "data_folder = '../data'\n",
    "class Instance():\n",
    "    def __init__(self, file_name):\n",
    "        self.file_name = file_name\n",
    "        self.get_room_data()\n",
    "        self.get_room_preference()\n",
    "        self.get_course_data()\n",
    "        self.get_dates()\n",
    "        self.get_times()\n",
    "        self.get_datetime_preference()\n",
    "        self.get_student_data()\n",
    "        self.max_violation_dict = {\"overlap violation\" : self.numCourses,\n",
    "                                    \"capacity violation\" : self.numRooms * self.numDateTime,\n",
    "                                    \"facility violation\" : self.numCourses,\n",
    "                                    \"proximity penalty\" : np.triu(self.conflict_boolean, k=1).sum() * (2**5),\n",
    "                                    \"date time penalty\" : 2**5 * self.numCourses,\n",
    "                                    \"room penalty\" : 2**5 *self.numCourses\n",
    "                                    }\n",
    "        print(f\"Created instance {file_name}.\")\n",
    "        print(f\"number of courses = {self.numCourses}, number of students = {self.numStudents}\")\n",
    "        print(f\"number of timeslots = {self.numDateTime}, number of rooms = {self.numRooms}\")\n",
    "        \n",
    "    def get_room_data(self):\n",
    "        self.room_df = pd.read_csv(f\"{data_folder}/{self.file_name}/room_data.csv\")\n",
    "        self.capacityList = self.room_df['Capacity'].to_numpy(int)\n",
    "        self.roomList = self.room_df['RoomId'].to_numpy()\n",
    "        self.numRooms = len(self.roomList)\n",
    "        self.r_f_matrix = self.room_df.drop(['RoomId', 'Capacity'], axis=1).to_numpy(int)\n",
    "        self.roomIndex = {room: idx for idx, room in enumerate(self.roomList)}\n",
    "        \n",
    "    def get_room_preference(self):\n",
    "        self.room_preference_df = pd.read_csv(f\"{data_folder}/{self.file_name}/room_preference.csv\")\n",
    "        self.r_pref_matrix = self.room_preference_df.drop(['courseId'], axis=1).to_numpy(int)\n",
    "        \n",
    "    def get_course_data(self):\n",
    "        self.course_df = pd.read_csv(f\"{data_folder}/{self.file_name}/course_data.csv\")\n",
    "        self.courseList = self.course_df['courseId'].to_numpy()\n",
    "        self.numCourses = len(self.courseList)\n",
    "        self.courseIndex = {course: idx for idx, course in enumerate(self.courseList)}\n",
    "        self.numStudentsList = self.course_df['numStudents'].to_numpy(int)\n",
    "        self.c_f_matrix = self.course_df.drop(['courseId', 'numStudents'], axis=1).to_numpy(int)\n",
    "        self.c_r_feasible = self.create_c_r_feasibility().astype(int)\n",
    "        \n",
    "    def get_dates(self):\n",
    "        self.date_df = pd.read_csv(f\"{data_folder}/{self.file_name}/dates.csv\")\n",
    "        self.dateList = self.date_df['Date'].to_numpy()\n",
    "        self.tDayList = self.date_df['T-Day'].to_numpy()\n",
    "        self.numDays = len(self.dateList)\n",
    "        \n",
    "    def get_times(self):\n",
    "        self.time_df = pd.read_csv(f\"{data_folder}/{self.file_name}/times.csv\")\n",
    "        self.timeList = self.time_df['Time'].to_numpy()\n",
    "        self.numTime = len(self.timeList)\n",
    "        self.dateTimeList = np.array([date + 'T' + time for date in self.dateList for time in self.timeList])\n",
    "        self.numDateTime = len(self.dateTimeList)\n",
    "        self.datetime_tday = {self.dateTimeList[i]:self.tDayList[i//self.numTime] for i in range(self.numDateTime)}\n",
    "        \n",
    "    def get_datetime_preference(self):\n",
    "        self.datetime_preference_df = pd.read_csv(f\"{data_folder}/{self.file_name}/datetime_preference.csv\")\n",
    "        self.d_pref_matrix = self.datetime_preference_df.drop(['courseId'], axis=1).to_numpy(int)              \n",
    "        \n",
    "    def get_student_data(self):\n",
    "        self.student_df = pd.read_csv(f\"{data_folder}/{self.file_name}/student_data.csv\")\n",
    "        self.studentList = self.student_df['rollNum'].to_numpy()\n",
    "        self.student_df.set_index('rollNum', inplace=True)\n",
    "        self.numStudents = len(self.studentList)\n",
    "        self.studentIndex = {student: idx for idx, student in enumerate(self.studentList)}\n",
    "        self.s_c_matrix =  self.create_s_c_matrix().astype(int)\n",
    "        self.s_c_sparse = csr_matrix(self.s_c_matrix) # converting to sparse matrix due to large size\n",
    "        self.conflict_matrix = self.s_c_sparse.T.dot(self.s_c_sparse).toarray()\n",
    "        self.conflict_boolean = self.conflict_matrix.astype(bool)\n",
    "        \n",
    "    def create_s_c_matrix(self):\n",
    "        s_c_matrix = np.zeros((self.numStudents, self.numCourses), dtype=int) # Student- Course boolean matrix from dataset\n",
    "        for student in self.studentList:\n",
    "            courses = self.student_df.at[student, 'coursesEnrolled'].split()\n",
    "            s_id = self.studentIndex[student]\n",
    "            for course in courses:\n",
    "                c_id = self.courseIndex[course]\n",
    "                s_c_matrix[s_id, c_id] = 1\n",
    "        return s_c_matrix\n",
    "    \n",
    "    def create_c_r_feasibility(self):\n",
    "        total_facilities_required = self.c_f_matrix.sum(axis=1)[:,np.newaxis]\n",
    "        total_facilities_available = np.dot(self.c_f_matrix, self.r_f_matrix.T)\n",
    "        self.c_r_facility = (total_facilities_available >= total_facilities_required).astype(int)\n",
    "        \n",
    "        capacity_required = self.numStudentsList[:,np.newaxis]\n",
    "        capacity_available = self.capacityList\n",
    "        self.c_r_capacity = (capacity_available >= capacity_required).astype(int)\n",
    "        \n",
    "        return self.c_r_facility & self.c_r_capacity"
   ]
  },
  {
   "cell_type": "code",
   "execution_count": 5,
   "id": "193d5fdd",
   "metadata": {},
   "outputs": [],
   "source": [
    "class Timetable():\n",
    "    \n",
    "    def __init__(self, instance, r_a, d_a):\n",
    "        self.instance = instance\n",
    "        self.r_a = r_a\n",
    "        self.d_a = d_a\n",
    "        self.get_instance_values()\n",
    "        self.create_matrices()\n",
    "        self.penalty_dict = {\"overlap violation\" : self.create_overlap_check().sum(),\n",
    "                            \"capacity violation\" : self.create_capacity_check().sum(),\n",
    "                            \"facility violation\" : self.create_facility_check().sum(),\n",
    "                            \"proximity penalty\" : self.create_proximity_matrix().sum(),\n",
    "                            \"date time penalty\" : self.create_date_penalty_matrix().sum(),\n",
    "                            \"room penalty\" : self.create_room_penalty_matrix().sum()\n",
    "                            }\n",
    "        self.normalized_penalty = {name : self.penalty_dict[name]/ instance.max_violation_dict[name] for name in self.penalty_dict}\n",
    "        self.soft_penalty = sum(list(self.normalized_penalty.values())[3:])\n",
    "        self.hard_penalty = sum(list(self.normalized_penalty.values())[:3])\n",
    "        \n",
    "    def get_instance_values(self):\n",
    "        self.numCourses = self.instance.numCourses\n",
    "        self.numRooms = self.instance.numRooms\n",
    "        self.numDateTime = self.instance.numDateTime\n",
    "        \n",
    "    def create_matrices(self):\n",
    "        self.c_d_matrix = np.eye(self.numDateTime, dtype=int)[self.d_a]\n",
    "        self.c_r_matrix = np.eye(self.numRooms, dtype=int)[self.r_a]\n",
    "        #self.s_d_matrix =  (csr_matrix(self.instance.s_c_matrix).dot(csr_matrix(self.c_d_matrix))).toarray()  #np.dot(self.instance.s_c_matrix, self.c_d_matrix) #self.s_c_sparse.T.dot(self.s_c_sparse).toarray()\n",
    "        \n",
    "        self.overlap_check = self.create_overlap_check()\n",
    "        self.capacity_check = self.create_capacity_check()\n",
    "        self.facility_check = self.create_facility_check()\n",
    "        self.proximity_matrix = self.create_proximity_matrix()\n",
    "        \n",
    "    def create_overlap_check(self):\n",
    "        return ((np.dot(self.instance.conflict_boolean, self.c_d_matrix)-1) * self.c_d_matrix).sum(axis=1).astype(bool)\n",
    "    \n",
    "    def create_capacity_check(self):\n",
    "        c_r_student = self.c_r_matrix * self.instance.numStudentsList[:,None] # in course-room binary matrix, change 1 to number of students writng that exma\n",
    "        r_d_student = (csr_matrix(c_r_student).T.dot(csr_matrix(self.c_d_matrix))).toarray()                            #np.dot(c_r_student.T, self.c_d_matrix)\n",
    "        return (r_d_student > self.instance.capacityList[:,np.newaxis] ).astype(int)\n",
    "    \n",
    "    def create_facility_check(self):\n",
    "        required_facility = self.instance.c_f_matrix\n",
    "        available_facility = self.instance.r_f_matrix[self.r_a, :]\n",
    "        return (required_facility > available_facility).sum(axis=1).astype(bool)\n",
    "\n",
    "    def create_proximity_matrix(timetable):\n",
    "        # upper triangular matrix of size (numCourse x numCourse) that shows proximity of two courses if they have conflict\n",
    "        tdayAssigned = timetable.instance.tDayList[timetable.d_a // timetable.instance.numTime]  # Calculate tday assignments\n",
    "        diff_matrix = np.abs(tdayAssigned[:, None] - tdayAssigned)  # Calculate absolute differences\n",
    "        proximity_matrix = np.triu(np.where(diff_matrix < 5, np.power(2, abs(5 - diff_matrix)), 0), k=1)  # Calculate proximity penalty\n",
    "        return proximity_matrix*timetable.instance.conflict_matrix\n",
    "    \n",
    "    def create_date_penalty_matrix(timetable):\n",
    "        c_d_preference = timetable.c_d_matrix* timetable.instance.d_pref_matrix\n",
    "        return np.where((c_d_preference==5) | (c_d_preference==0), 0 , 2**(5-c_d_preference))\n",
    "    \n",
    "    def create_room_penalty_matrix(timetable):\n",
    "        return timetable.c_r_matrix*np.where(timetable.instance.r_pref_matrix==5, 0, 2**(5-timetable.instance.r_pref_matrix))\n",
    "    \n",
    "    def display(self):\n",
    "        data = {\"courses\" : self.instance.courseList,\n",
    "                \"room\" : [self.instance.roomList[room] for room in self.r_a],\n",
    "                \"datetime\" : [self.instance.dateTimeList[datetime] for datetime in self.d_a]\n",
    "                }\n",
    "        return pd.DataFrame(data)\n",
    "    def student_index_timetable(self, index):\n",
    "        print(f\"Timetable for student with roll number {self.instance.studentList[index]} \")\n",
    "        return self.display()[self.instance.s_c_matrix[index].astype(bool)].sort_values(by=['datetime'])"
   ]
  },
  {
   "cell_type": "code",
   "execution_count": 6,
   "id": "7a71f080",
   "metadata": {},
   "outputs": [],
   "source": [
    "def create_timetable(instance, heuristic='random'):\n",
    "    numCourses = instance.numCourses\n",
    "    numDateTime = instance.numDateTime\n",
    "    numRooms = instance.numRooms\n",
    "    shuffledDatetimeList = np.random.permutation(np.arange(numDateTime))\n",
    "    \n",
    "    # Initialize assignments\n",
    "    d_a = np.full(numCourses, -1)\n",
    "    r_a = np.full(numCourses, -1)\n",
    "    r_d_capacity = np.tile(instance.capacityList, (numDateTime, 1))\n",
    "    \n",
    "    # Initialize course order based on heuristic\n",
    "    \n",
    "    if heuristic == 'conflict_count':\n",
    "        conflict_count = instance.conflict_boolean.sum(axis=1)\n",
    "        sorted_courses = np.argsort(conflict_count)[::-1]\n",
    "    elif heuristic == 'conflict_degree':\n",
    "        conflict_degree = instance.conflict_matrix.sum(axis=1)\n",
    "        sorted_courses = np.argsort(conflict_degree)[::-1]\n",
    "    else:\n",
    "        raise ValueError(f\"Unknown heuristic: {heuristic}\")\n",
    "\n",
    "    datetime_course = {dt: [] for dt in range(numDateTime)}\n",
    "    \n",
    "    # Assign courses to datetimes and rooms\n",
    "    for course in sorted_courses:\n",
    "        required_capacity = instance.numStudentsList[course]\n",
    "        \n",
    "        # Find available datetimes with no conflicts\n",
    "        available_datetimes = []\n",
    "        for dt in shuffledDatetimeList:\n",
    "            if all(not instance.conflict_boolean[course, other_course] for other_course in datetime_course[dt]):\n",
    "                available_datetimes.append(dt)\n",
    "        \n",
    "        if not available_datetimes:\n",
    "            return None, None\n",
    "\n",
    "        # Find available rooms for the selected datetime\n",
    "        room_assigned = False\n",
    "        for chosen_dt in available_datetimes:\n",
    "            available_rooms = [room for room in range(numRooms) \n",
    "                               if instance.c_r_facility[course, room] and r_d_capacity[chosen_dt, room] >= required_capacity]\n",
    "            if available_rooms:\n",
    "                chosen_room = np.random.choice(available_rooms)\n",
    "                d_a[course] = chosen_dt\n",
    "                r_a[course] = chosen_room\n",
    "                r_d_capacity[chosen_dt, chosen_room] -= required_capacity\n",
    "                datetime_course[chosen_dt].append(course)\n",
    "                room_assigned = True\n",
    "                break\n",
    "        \n",
    "        if not room_assigned:\n",
    "            return None, None\n",
    "    \n",
    "    return r_a, d_a\n"
   ]
  },
  {
   "cell_type": "code",
   "execution_count": 7,
   "id": "5a542226",
   "metadata": {},
   "outputs": [],
   "source": [
    "def create_population(instance, heuristic='conflict_count', size=100):\n",
    "    population = []\n",
    "    for _ in tqdm(range(size)):\n",
    "        r_a = d_a = None\n",
    "        while r_a is None:\n",
    "            r_a, d_a = create_timetable(instance, heuristic )\n",
    "        timetable = Timetable(instance, r_a, d_a)\n",
    "        population.append(timetable)\n",
    "    return population"
   ]
  },
  {
   "cell_type": "code",
   "execution_count": 8,
   "id": "974699e5",
   "metadata": {},
   "outputs": [],
   "source": [
    "def create_random_population(instance, size=100):\n",
    "    population = []\n",
    "    for _ in tqdm(range(size)):\n",
    "        d_a = np.random.randint(low=0, high=instance.numDateTime, size=instance.numCourses)\n",
    "        r_a = np.random.randint(low=0, high=instance.numRooms, size=instance.numCourses)\n",
    "        population.append(Timetable(instance, r_a, d_a))\n",
    "    return population"
   ]
  },
  {
   "cell_type": "code",
   "execution_count": 9,
   "id": "32035fe8",
   "metadata": {},
   "outputs": [],
   "source": [
    "def tournmanet_selection(population, pool_size, k=3):\n",
    "    population = np.array(population)\n",
    "    selected = []\n",
    "    for i in range(pool_size):\n",
    "        tournament_indices = np.random.choice(len(population), size=k, replace=False)\n",
    "        tournament = population[tournament_indices]\n",
    "        winner = min(tournament, key=lambda x: x.soft_penalty)\n",
    "        selected.append(winner)\n",
    "    return selected"
   ]
  },
  {
   "cell_type": "code",
   "execution_count": 10,
   "id": "a275e184",
   "metadata": {},
   "outputs": [],
   "source": [
    "def crossover(parent1, parent2, crossover_prob = 0.8):\n",
    "    # if np.random.random() > crossover_prob:\n",
    "    #     return parent1, parent2\n",
    "    \n",
    "    instance = parent1.instance\n",
    "    numCourses = instance.numCourses\n",
    "    ra_1 = parent1.r_a\n",
    "    ra_2 = parent2.r_a\n",
    "    da_1 = parent1.d_a\n",
    "    da_2 = parent2.d_a\n",
    "\n",
    "    r_crossover = np.random.randint(1, numCourses)\n",
    "    ra_3 = np.concatenate((ra_1[:r_crossover], ra_2[r_crossover:]))\n",
    "    ra_4 = np.concatenate((ra_2[:r_crossover], ra_1[r_crossover:]))\n",
    "\n",
    "    d_crossover = np.random.randint(1, numCourses)\n",
    "    da_3 = np.concatenate((da_1[:d_crossover], da_2[d_crossover:]))\n",
    "    da_4 = np.concatenate((da_2[:d_crossover], da_1[d_crossover:]))\n",
    "\n",
    "    return Timetable(instance, ra_3, da_3), Timetable(instance, ra_4, da_4)"
   ]
  },
  {
   "cell_type": "code",
   "execution_count": 11,
   "id": "82caa8f4",
   "metadata": {},
   "outputs": [],
   "source": [
    "def mutation(parent, mutation_rate = 0.5):\n",
    "    # room\n",
    "    instance = parent.instance\n",
    "    mutated_room = parent.r_a.copy()\n",
    "    random_numbers = np.random.rand(instance.numCourses)\n",
    "    mutate_mask = random_numbers < mutation_rate\n",
    "    mutated_room[mutate_mask] = np.random.randint(instance.numRooms, size = mutate_mask.sum())\n",
    "    #datetime\n",
    "    mutated_datetime = parent.d_a.copy()\n",
    "    random_numbers = np.random.rand(instance.numCourses)\n",
    "    mutate_mask = random_numbers < mutation_rate\n",
    "    mutated_datetime[mutate_mask] = np.random.randint(instance.numDateTime, size = mutate_mask.sum())\n",
    "\n",
    "    return Timetable(instance, mutated_room, mutated_datetime)"
   ]
  },
  {
   "cell_type": "code",
   "execution_count": 12,
   "id": "c109e708",
   "metadata": {},
   "outputs": [],
   "source": [
    "def weighted_penalty(timetable, weight= 100):\n",
    "    return timetable.soft_penalty + timetable.hard_penalty*weight"
   ]
  },
  {
   "cell_type": "code",
   "execution_count": 13,
   "id": "5e8504f5",
   "metadata": {},
   "outputs": [],
   "source": [
    "def euclidean_distance(sol1, sol2):\n",
    "    room_distance = np.sum((sol1.r_a - sol2.r_a)**2)\n",
    "    datetime_distance = np.sum((sol1.d_a - sol2.d_a)**2)\n",
    "    return np.sqrt(room_distance + datetime_distance)"
   ]
  },
  {
   "cell_type": "code",
   "execution_count": 14,
   "id": "2106c39e",
   "metadata": {},
   "outputs": [],
   "source": [
    "def repair(input_solution, feasible_solutions, curr_depth=0, verbose=False):\n",
    "    instance = input_solution.instance\n",
    "    \n",
    "    print(verbose * f\"Repairing: depth={curr_depth}, hard_penalty={input_solution.hard_penalty}\\n\", end='')\n",
    "    \n",
    "    if input_solution.hard_penalty == 0 or curr_depth > 10:\n",
    "        print(verbose * f\"Returning solution: depth={curr_depth}, hard_penalty={input_solution.hard_penalty}\\n\", end='')\n",
    "        return input_solution\n",
    "\n",
    "    best_donor = min(feasible_solutions, key=lambda sol: euclidean_distance(input_solution, sol))\n",
    "    print(verbose * f\"Best donor selected: {best_donor}\\n\", end='')\n",
    "        \n",
    "    for i in range(instance.numRooms):\n",
    "        if input_solution.overlap_check[i] or input_solution.facility_check[i] or input_solution.capacity_check[input_solution.r_a[i], input_solution.d_a[i]]:\n",
    "            r_a_copy = input_solution.r_a[:]\n",
    "            d_a_copy = input_solution.d_a[:]\n",
    "            d_a_copy[i] = best_donor.d_a[i]  # exchange date with best donor\n",
    "            solution_copy = Timetable(instance, r_a_copy, d_a_copy)\n",
    "            \n",
    "            print(verbose * f\"Trying date exchange: index={i}, donor date={best_donor.d_a[i]}\\n\", end='')\n",
    "            \n",
    "            if solution_copy.hard_penalty < input_solution.hard_penalty:  # check for reduction in hard penalty\n",
    "                print(verbose * f\"Date exchange improved solution: index={i}, new hard_penalty={solution_copy.hard_penalty}\\n\", end='')\n",
    "                return repair(solution_copy, feasible_solutions, curr_depth+1, verbose)\n",
    "            else:\n",
    "                r_a_copy[i] = best_donor.r_a[i]  # exchange room with best donor\n",
    "                solution_copy = Timetable(instance, r_a_copy, d_a_copy)\n",
    "                \n",
    "                print(verbose * f\"Trying room exchange: index={i}, donor room={best_donor.r_a[i]}\\n\", end='')\n",
    "                \n",
    "                if solution_copy.hard_penalty < input_solution.hard_penalty:  # check for reduction in hard penalty\n",
    "                    print(verbose * f\"Room exchange improved solution: index={i}, new hard_penalty={solution_copy.hard_penalty}\\n\", end='')\n",
    "                    return repair(solution_copy, feasible_solutions, curr_depth+1, verbose)\n",
    "                else:\n",
    "                    d_a_copy[i] = input_solution.d_a[i]  # revert date back to original\n",
    "                    solution_copy = Timetable(instance, r_a_copy, d_a_copy)\n",
    "                    \n",
    "                    print(verbose * f\"Reverting date: index={i}, original date={input_solution.d_a[i]}\\n\", end='')\n",
    "                    \n",
    "                    if solution_copy.hard_penalty < input_solution.hard_penalty:  # check for reduction in hard penalty\n",
    "                        print(verbose * f\"Reversion improved solution: index={i}, new hard_penalty={solution_copy.hard_penalty}\\n\", end='')\n",
    "                        return repair(solution_copy, feasible_solutions, curr_depth+1, verbose)\n",
    "                \n",
    "    print(verbose * f\"No improvement found at depth {curr_depth}\\n\", end='')\n",
    "    return input_solution\n"
   ]
  },
  {
   "cell_type": "code",
   "execution_count": 15,
   "id": "4bc51d34",
   "metadata": {},
   "outputs": [],
   "source": [
    "criteria = lambda sol : sol.soft_penalty+ 1e9*sol.hard_penalty \n",
    "def genetic_algorithm(instance, initial_population, generations, pop_size, pool_size):\n",
    "    population = initial_population\n",
    "    \n",
    "    # Parameters\n",
    "    crossover_rate = 0.8\n",
    "    mutation_rate = 0.5\n",
    "    tournament_size = 5\n",
    "    elitism_count = 2\n",
    "\n",
    "    for generation in tqdm(range(generations+1)):\n",
    "        # Selection\n",
    "        mating_pool = tournmanet_selection(population, pool_size, tournament_size)\n",
    "        \n",
    "        # Crossover and Mutation\n",
    "        offsprings = []\n",
    "        for i in range(0, pool_size-1, 2):\n",
    "            parent1 = mating_pool[i]\n",
    "            parent2 = mating_pool[(i+1) % pool_size]\n",
    "            child1, child2 = crossover(parent1, parent2, crossover_rate)\n",
    "            \n",
    "            if np.random.rand() < mutation_rate:\n",
    "                child1 = mutation(child1, mutation_rate)\n",
    "            if np.random.rand() < mutation_rate:\n",
    "                child2 = mutation(child2, mutation_rate)\n",
    "            \n",
    "            offsprings.extend([child1, child2])\n",
    "        \n",
    "        top_offspring = repair(sorted(offsprings, key= lambda sol: sol.soft_penalty)[0], population, verbose=False)\n",
    "        offsprings.append(top_offspring)\n",
    "        \n",
    "        # Combine and Select Next Generation\n",
    "        combined_population = population + offsprings\n",
    "        combined_population = sorted(combined_population, key=criteria)\n",
    "        population = combined_population[:pop_size] #combined_population[:pop_size - elitism_count]\n",
    "        \n",
    "        # Add Elitism\n",
    "        # elites = combined_population[:elitism_count]\n",
    "        # population.extend(elites)\n",
    "        \n",
    "            \n",
    "        if criteria(population[0]) == criteria(population[-1]):\n",
    "            print(f\"Generation {generation}: Best = {criteria(population[0])}, Worst = {criteria(population[-1])}\")\n",
    "            break\n",
    "        \n",
    "        if generation % (generations//10) == 0 or generation==generations :\n",
    "            print(f\"Generation {generation}: Best = {criteria(population[0])}, Worst = {criteria(population[-1])}\")\n",
    "            \n",
    "    \n",
    "    return population\n"
   ]
  },
  {
   "cell_type": "markdown",
   "id": "ef5ab262",
   "metadata": {},
   "source": [
    "# Initialization"
   ]
  },
  {
   "cell_type": "code",
   "execution_count": null,
   "id": "d859bef0",
   "metadata": {},
   "outputs": [],
   "source": [
    "instance_list[6]"
   ]
  },
  {
   "cell_type": "code",
   "execution_count": null,
   "id": "ea18e728",
   "metadata": {},
   "outputs": [],
   "source": [
    "instance1 = Instance(instance_list[5])"
   ]
  },
  {
   "cell_type": "code",
   "execution_count": null,
   "id": "ce0727d3",
   "metadata": {},
   "outputs": [],
   "source": [
    "feasible_solutions = create_population(instance1, size=40)\n",
    "infeasible_solutions = create_random_population(instance1, size=60)\n",
    "total_population =  feasible_solutions +infeasible_solutions "
   ]
  },
  {
   "cell_type": "code",
   "execution_count": null,
   "id": "e1cb2200",
   "metadata": {},
   "outputs": [],
   "source": [
    "sorted_population = sorted(total_population, key=criteria)\n",
    "print(f\"Best Initial Soft Penalty: {sorted_population[0].soft_penalty}, Worst Initial Soft Penalty: {sorted_population[-1].soft_penalty}\")\n",
    "print(f\"Best Initial Hard Penalty: {sorted_population[0].hard_penalty}, Worst Initial Hard Penalty: {sorted_population[-1].hard_penalty}\")\n"
   ]
  },
  {
   "cell_type": "code",
   "execution_count": null,
   "id": "bb640da7",
   "metadata": {},
   "outputs": [],
   "source": [
    "improved_population = genetic_algorithm(instance1, total_population, 100, 100, 50)"
   ]
  },
  {
   "cell_type": "code",
   "execution_count": null,
   "id": "ac59d87a",
   "metadata": {},
   "outputs": [],
   "source": [
    "improved_population[0].hard_penalty"
   ]
  },
  {
   "cell_type": "code",
   "execution_count": null,
   "id": "694bbbd6",
   "metadata": {},
   "outputs": [],
   "source": [
    "improved_population[0].soft_penalty"
   ]
  },
  {
   "cell_type": "code",
   "execution_count": null,
   "id": "c81d2f46",
   "metadata": {},
   "outputs": [],
   "source": [
    "tt = feasible_solutions[0]"
   ]
  },
  {
   "cell_type": "code",
   "execution_count": null,
   "id": "4425dc77",
   "metadata": {},
   "outputs": [],
   "source": [
    "df = tt.display()"
   ]
  },
  {
   "cell_type": "code",
   "execution_count": null,
   "id": "168ae2a1",
   "metadata": {},
   "outputs": [],
   "source": [
    "pd.set_option('display.max_rows', instance1.numCourses)\n",
    "df.groupby([df['datetime'], 'room'])['courses'].agg(' '.join).reset_index().sort_values(by=['datetime', 'room'])"
   ]
  },
  {
   "cell_type": "code",
   "execution_count": null,
   "id": "361b4999",
   "metadata": {},
   "outputs": [],
   "source": [
    "tt.student_index_timetable(7)"
   ]
  },
  {
   "cell_type": "code",
   "execution_count": 21,
   "id": "78939d57",
   "metadata": {},
   "outputs": [
    {
     "name": "stdout",
     "output_type": "stream",
     "text": [
      "Selected file: car-s-91\n",
      "Created instance car-s-91.\n",
      "number of courses = 682, number of students = 16925\n",
      "number of timeslots = 36, number of rooms = 25\n",
      "Trial number: 0\n"
     ]
    },
    {
     "data": {
      "application/vnd.jupyter.widget-view+json": {
       "model_id": "f1f5acab16254c9ea286ed9ffb255ae3",
       "version_major": 2,
       "version_minor": 0
      },
      "text/plain": [
       "  0%|          | 0/39 [00:00<?, ?it/s]"
      ]
     },
     "metadata": {},
     "output_type": "display_data"
    },
    {
     "data": {
      "application/vnd.jupyter.widget-view+json": {
       "model_id": "4ceaeda49a2d489f9b66ddf34849594f",
       "version_major": 2,
       "version_minor": 0
      },
      "text/plain": [
       "  0%|          | 0/61 [00:00<?, ?it/s]"
      ]
     },
     "metadata": {},
     "output_type": "display_data"
    },
    {
     "name": "stdout",
     "output_type": "stream",
     "text": [
      "Total population size: 100\n",
      "Population sorted.\n",
      "Initial soft constraints: 0.5844965078698094, Initial hard constraints: 0.0\n"
     ]
    },
    {
     "data": {
      "application/vnd.jupyter.widget-view+json": {
       "model_id": "8b74d3da8219470786272590952a1c45",
       "version_major": 2,
       "version_minor": 0
      },
      "text/plain": [
       "  0%|          | 0/101 [00:00<?, ?it/s]"
      ]
     },
     "metadata": {},
     "output_type": "display_data"
    },
    {
     "name": "stdout",
     "output_type": "stream",
     "text": [
      "Generation 0: Best = 0.5844965078698094, Worst = 1125829261.3185327\n",
      "Generation 10: Best = 0.5844965078698094, Worst = 35555556.13913564\n",
      "Generation 20: Best = 0.5844965078698094, Worst = 17777778.3597083\n",
      "Generation 30: Best = 0.5844965078698094, Worst = 17777778.35769217\n",
      "Generation 40: Best = 0.5844965078698094, Worst = 16666667.246764347\n",
      "Generation 50: Best = 0.5835800855824194, Worst = 11111111.69065894\n",
      "Generation 60: Best = 0.5835800855824194, Worst = 1111111.694874481\n",
      "Generation 64: Best = 0.5835800855824194, Worst = 0.5835800855824194\n",
      "Genetic algorithm applied.\n",
      "Final soft constraints: 0.5835800855824194, Final hard constraints: 0.0\n",
      "Data written to CSV.\n",
      "Selected file: car-f-92\n",
      "Created instance car-f-92.\n",
      "number of courses = 543, number of students = 18419\n",
      "number of timeslots = 32, number of rooms = 22\n",
      "Trial number: 1\n"
     ]
    },
    {
     "data": {
      "application/vnd.jupyter.widget-view+json": {
       "model_id": "8fbc335d62034fdabb4f87e71daad30f",
       "version_major": 2,
       "version_minor": 0
      },
      "text/plain": [
       "  0%|          | 0/95 [00:00<?, ?it/s]"
      ]
     },
     "metadata": {},
     "output_type": "display_data"
    },
    {
     "data": {
      "application/vnd.jupyter.widget-view+json": {
       "model_id": "06bbed9c9c244d1098371e91c570d0b7",
       "version_major": 2,
       "version_minor": 0
      },
      "text/plain": [
       "  0%|          | 0/5 [00:00<?, ?it/s]"
      ]
     },
     "metadata": {},
     "output_type": "display_data"
    },
    {
     "name": "stdout",
     "output_type": "stream",
     "text": [
      "Total population size: 100\n",
      "Population sorted.\n",
      "Initial soft constraints: 0.6873623772914255, Initial hard constraints: 0.0\n"
     ]
    },
    {
     "data": {
      "application/vnd.jupyter.widget-view+json": {
       "model_id": "c23fd16377c1459a90e79272e450d795",
       "version_major": 2,
       "version_minor": 0
      },
      "text/plain": [
       "  0%|          | 0/101 [00:00<?, ?it/s]"
      ]
     },
     "metadata": {},
     "output_type": "display_data"
    },
    {
     "name": "stdout",
     "output_type": "stream",
     "text": [
      "Generation 0: Best = 0.6873623772914255, Worst = 229096037.04376486\n",
      "Generation 10: Best = 0.6873623772914255, Worst = 0.7631172218057678\n",
      "Generation 20: Best = 0.6873623772914255, Worst = 0.6941790775389853\n",
      "Generation 28: Best = 0.6873623772914255, Worst = 0.6873623772914255\n",
      "Genetic algorithm applied.\n",
      "Final soft constraints: 0.6873623772914255, Final hard constraints: 0.0\n",
      "Data written to CSV.\n",
      "Selected file: ear-f-83\n",
      "Created instance ear-f-83.\n",
      "number of courses = 190, number of students = 1125\n",
      "number of timeslots = 24, number of rooms = 18\n",
      "Trial number: 2\n"
     ]
    },
    {
     "data": {
      "application/vnd.jupyter.widget-view+json": {
       "model_id": "ab11a64aa39e438eaea032c725a8322e",
       "version_major": 2,
       "version_minor": 0
      },
      "text/plain": [
       "  0%|          | 0/67 [00:00<?, ?it/s]"
      ]
     },
     "metadata": {},
     "output_type": "display_data"
    },
    {
     "data": {
      "application/vnd.jupyter.widget-view+json": {
       "model_id": "34f69b0b5e2841deb36b7ae802a5cafd",
       "version_major": 2,
       "version_minor": 0
      },
      "text/plain": [
       "  0%|          | 0/33 [00:00<?, ?it/s]"
      ]
     },
     "metadata": {},
     "output_type": "display_data"
    },
    {
     "name": "stdout",
     "output_type": "stream",
     "text": [
      "Total population size: 100\n",
      "Population sorted.\n",
      "Initial soft constraints: 1.035495980981036, Initial hard constraints: 0.0\n"
     ]
    },
    {
     "data": {
      "application/vnd.jupyter.widget-view+json": {
       "model_id": "5f7610a34d374117879393bf9f0d30c8",
       "version_major": 2,
       "version_minor": 0
      },
      "text/plain": [
       "  0%|          | 0/101 [00:00<?, ?it/s]"
      ]
     },
     "metadata": {},
     "output_type": "display_data"
    },
    {
     "name": "stdout",
     "output_type": "stream",
     "text": [
      "Generation 0: Best = 1.035495980981036, Worst = 884819689.5630212\n",
      "Generation 10: Best = 1.035495980981036, Worst = 9259260.276992083\n",
      "Generation 20: Best = 1.035495980981036, Worst = 2314815.845744652\n",
      "Generation 30: Best = 1.0348772057935367, Worst = 1.035495980981036\n",
      "Generation 31: Best = 1.0348772057935367, Worst = 1.0348772057935367\n",
      "Genetic algorithm applied.\n",
      "Final soft constraints: 1.0348772057935367, Final hard constraints: 0.0\n",
      "Data written to CSV.\n",
      "Selected file: kfu-s-93\n",
      "Created instance kfu-s-93.\n",
      "number of courses = 461, number of students = 5349\n",
      "number of timeslots = 20, number of rooms = 15\n",
      "Trial number: 3\n"
     ]
    },
    {
     "data": {
      "application/vnd.jupyter.widget-view+json": {
       "model_id": "6b253df55cfe495092891b2d4c3db2f8",
       "version_major": 2,
       "version_minor": 0
      },
      "text/plain": [
       "  0%|          | 0/40 [00:00<?, ?it/s]"
      ]
     },
     "metadata": {},
     "output_type": "display_data"
    },
    {
     "data": {
      "application/vnd.jupyter.widget-view+json": {
       "model_id": "48d657bf011040508fd296b2d618dae8",
       "version_major": 2,
       "version_minor": 0
      },
      "text/plain": [
       "  0%|          | 0/60 [00:00<?, ?it/s]"
      ]
     },
     "metadata": {},
     "output_type": "display_data"
    },
    {
     "name": "stdout",
     "output_type": "stream",
     "text": [
      "Total population size: 100\n",
      "Population sorted.\n",
      "Initial soft constraints: 1.725682802089173, Initial hard constraints: 0.0\n"
     ]
    },
    {
     "data": {
      "application/vnd.jupyter.widget-view+json": {
       "model_id": "a0c345b4d84c4137ae16b8b172d66f61",
       "version_major": 2,
       "version_minor": 0
      },
      "text/plain": [
       "  0%|          | 0/101 [00:00<?, ?it/s]"
      ]
     },
     "metadata": {},
     "output_type": "display_data"
    },
    {
     "name": "stdout",
     "output_type": "stream",
     "text": [
      "Generation 0: Best = 1.725682802089173, Worst = 745574839.814242\n",
      "Generation 10: Best = 1.7247337782280017, Worst = 30000001.722429007\n",
      "Generation 20: Best = 1.7247337782280017, Worst = 3333335.0582026867\n",
      "Generation 30: Best = 1.7237847543668303, Worst = 1.7240559040414507\n",
      "Generation 31: Best = 1.7237847543668303, Worst = 1.7237847543668303\n",
      "Genetic algorithm applied.\n",
      "Final soft constraints: 1.7237847543668303, Final hard constraints: 0.0\n",
      "Data written to CSV.\n",
      "Selected file: sta-f-83\n",
      "Created instance sta-f-83.\n",
      "number of courses = 139, number of students = 611\n",
      "number of timeslots = 14, number of rooms = 10\n",
      "Trial number: 4\n"
     ]
    },
    {
     "data": {
      "application/vnd.jupyter.widget-view+json": {
       "model_id": "7aa52beccc7143ed947811d56a80f5ac",
       "version_major": 2,
       "version_minor": 0
      },
      "text/plain": [
       "  0%|          | 0/26 [00:00<?, ?it/s]"
      ]
     },
     "metadata": {},
     "output_type": "display_data"
    },
    {
     "data": {
      "application/vnd.jupyter.widget-view+json": {
       "model_id": "6987da3fa1064f9d88ba00848c9058f3",
       "version_major": 2,
       "version_minor": 0
      },
      "text/plain": [
       "  0%|          | 0/74 [00:00<?, ?it/s]"
      ]
     },
     "metadata": {},
     "output_type": "display_data"
    },
    {
     "name": "stdout",
     "output_type": "stream",
     "text": [
      "Total population size: 100\n",
      "Population sorted.\n",
      "Initial soft constraints: 4.294770628102876, Initial hard constraints: 0.0\n"
     ]
    },
    {
     "data": {
      "application/vnd.jupyter.widget-view+json": {
       "model_id": "35d46433981d47ed998d85aaa4337fc4",
       "version_major": 2,
       "version_minor": 0
      },
      "text/plain": [
       "  0%|          | 0/101 [00:00<?, ?it/s]"
      ]
     },
     "metadata": {},
     "output_type": "display_data"
    },
    {
     "name": "stdout",
     "output_type": "stream",
     "text": [
      "Generation 0: Best = 4.294770628102876, Worst = 948458381.1937796\n",
      "Generation 10: Best = 4.294770628102876, Worst = 114285718.5737403\n",
      "Generation 20: Best = 4.294770628102876, Worst = 42857147.14292068\n",
      "Generation 30: Best = 4.294770628102876, Worst = 28571432.85270999\n",
      "Generation 40: Best = 4.294770628102876, Worst = 28571432.85270999\n",
      "Generation 50: Best = 4.294770628102876, Worst = 28571432.85270999\n",
      "Generation 60: Best = 4.294770628102876, Worst = 28571432.85270999\n",
      "Generation 70: Best = 4.294770628102876, Worst = 28571432.85270999\n",
      "Generation 80: Best = 4.294770628102876, Worst = 28571432.85270999\n",
      "Generation 90: Best = 4.294770628102876, Worst = 28571432.85270999\n",
      "Generation 100: Best = 4.294770628102876, Worst = 14285718.571941748\n",
      "Genetic algorithm applied.\n",
      "Final soft constraints: 4.294770628102876, Final hard constraints: 0.0\n",
      "Data written to CSV.\n",
      "Selected file: tre-s-92\n",
      "Created instance tre-s-92.\n",
      "number of courses = 261, number of students = 4360\n",
      "number of timeslots = 24, number of rooms = 21\n",
      "Trial number: 5\n"
     ]
    },
    {
     "data": {
      "application/vnd.jupyter.widget-view+json": {
       "model_id": "71e3881404a54f858cca265c902bce04",
       "version_major": 2,
       "version_minor": 0
      },
      "text/plain": [
       "  0%|          | 0/46 [00:00<?, ?it/s]"
      ]
     },
     "metadata": {},
     "output_type": "display_data"
    },
    {
     "data": {
      "application/vnd.jupyter.widget-view+json": {
       "model_id": "3f25f29acf6b4b688e1b0657cb406b17",
       "version_major": 2,
       "version_minor": 0
      },
      "text/plain": [
       "  0%|          | 0/54 [00:00<?, ?it/s]"
      ]
     },
     "metadata": {},
     "output_type": "display_data"
    },
    {
     "name": "stdout",
     "output_type": "stream",
     "text": [
      "Total population size: 100\n",
      "Population sorted.\n",
      "Initial soft constraints: 0.7993421566550494, Initial hard constraints: 0.0\n"
     ]
    },
    {
     "data": {
      "application/vnd.jupyter.widget-view+json": {
       "model_id": "75aa5b72ca2740f68c48ebb9608194e1",
       "version_major": 2,
       "version_minor": 0
      },
      "text/plain": [
       "  0%|          | 0/101 [00:00<?, ?it/s]"
      ]
     },
     "metadata": {},
     "output_type": "display_data"
    },
    {
     "name": "stdout",
     "output_type": "stream",
     "text": [
      "Generation 0: Best = 0.7993421566550494, Worst = 898399016.0133806\n",
      "Generation 10: Best = 0.7993421566550494, Worst = 0.8503659485023976\n",
      "Generation 12: Best = 0.7993421566550494, Worst = 0.7993421566550494\n",
      "Genetic algorithm applied.\n",
      "Final soft constraints: 0.7993421566550494, Final hard constraints: 0.0\n",
      "Data written to CSV.\n",
      "Selected file: uta-s-92\n",
      "Created instance uta-s-92.\n",
      "number of courses = 622, number of students = 21266\n",
      "number of timeslots = 36, number of rooms = 29\n",
      "Trial number: 6\n"
     ]
    },
    {
     "data": {
      "application/vnd.jupyter.widget-view+json": {
       "model_id": "56ef0e3666a44747a81d26338d2b2955",
       "version_major": 2,
       "version_minor": 0
      },
      "text/plain": [
       "  0%|          | 0/68 [00:00<?, ?it/s]"
      ]
     },
     "metadata": {},
     "output_type": "display_data"
    },
    {
     "data": {
      "application/vnd.jupyter.widget-view+json": {
       "model_id": "b77a57ad102a4f4db3cd513984164062",
       "version_major": 2,
       "version_minor": 0
      },
      "text/plain": [
       "  0%|          | 0/32 [00:00<?, ?it/s]"
      ]
     },
     "metadata": {},
     "output_type": "display_data"
    },
    {
     "name": "stdout",
     "output_type": "stream",
     "text": [
      "Total population size: 100\n",
      "Population sorted.\n",
      "Initial soft constraints: 0.6008571399636065, Initial hard constraints: 0.0\n"
     ]
    },
    {
     "data": {
      "application/vnd.jupyter.widget-view+json": {
       "model_id": "ee0be8b508b9454ea02ec2d7136d5e2a",
       "version_major": 2,
       "version_minor": 0
      },
      "text/plain": [
       "  0%|          | 0/101 [00:00<?, ?it/s]"
      ]
     },
     "metadata": {},
     "output_type": "display_data"
    },
    {
     "name": "stdout",
     "output_type": "stream",
     "text": [
      "Generation 0: Best = 0.6008571399636065, Worst = 817169926.012632\n",
      "Generation 10: Best = 0.6008571399636065, Worst = 0.6364409738313868\n",
      "Generation 12: Best = 0.6008571399636065, Worst = 0.6008571399636065\n",
      "Genetic algorithm applied.\n",
      "Final soft constraints: 0.6008571399636065, Final hard constraints: 0.0\n",
      "Data written to CSV.\n",
      "Selected file: yor-f-83\n",
      "Created instance yor-f-83.\n",
      "number of courses = 181, number of students = 941\n",
      "number of timeslots = 22, number of rooms = 18\n",
      "Trial number: 7\n"
     ]
    },
    {
     "data": {
      "application/vnd.jupyter.widget-view+json": {
       "model_id": "bd2cdbabc4d348cba239caa1c58af92f",
       "version_major": 2,
       "version_minor": 0
      },
      "text/plain": [
       "  0%|          | 0/42 [00:00<?, ?it/s]"
      ]
     },
     "metadata": {},
     "output_type": "display_data"
    },
    {
     "data": {
      "application/vnd.jupyter.widget-view+json": {
       "model_id": "7dd4207dc71e43e9a4cd3460caf45424",
       "version_major": 2,
       "version_minor": 0
      },
      "text/plain": [
       "  0%|          | 0/58 [00:00<?, ?it/s]"
      ]
     },
     "metadata": {},
     "output_type": "display_data"
    },
    {
     "name": "stdout",
     "output_type": "stream",
     "text": [
      "Total population size: 100\n",
      "Population sorted.\n",
      "Initial soft constraints: 0.8426476838079049, Initial hard constraints: 0.0\n"
     ]
    },
    {
     "data": {
      "application/vnd.jupyter.widget-view+json": {
       "model_id": "7c34a5376c0e4b28b2627a2e7ef036ce",
       "version_major": 2,
       "version_minor": 0
      },
      "text/plain": [
       "  0%|          | 0/101 [00:00<?, ?it/s]"
      ]
     },
     "metadata": {},
     "output_type": "display_data"
    },
    {
     "name": "stdout",
     "output_type": "stream",
     "text": [
      "Generation 0: Best = 0.8426476838079049, Worst = 1070860540.3907666\n",
      "Generation 10: Best = 0.8381587335316618, Worst = 0.9695866978325542\n",
      "Generation 19: Best = 0.834015087122822, Worst = 0.834015087122822\n",
      "Genetic algorithm applied.\n",
      "Final soft constraints: 0.834015087122822, Final hard constraints: 0.0\n",
      "Data written to CSV.\n",
      "Selected file: car-s-91\n",
      "Created instance car-s-91.\n",
      "number of courses = 682, number of students = 16925\n",
      "number of timeslots = 36, number of rooms = 25\n",
      "Trial number: 8\n"
     ]
    },
    {
     "data": {
      "application/vnd.jupyter.widget-view+json": {
       "model_id": "f73c0eb919c84086a49e42a5b4e69487",
       "version_major": 2,
       "version_minor": 0
      },
      "text/plain": [
       "  0%|          | 0/45 [00:00<?, ?it/s]"
      ]
     },
     "metadata": {},
     "output_type": "display_data"
    },
    {
     "data": {
      "application/vnd.jupyter.widget-view+json": {
       "model_id": "0d6407dd7b6a41f7bbf78867e1f5aa5e",
       "version_major": 2,
       "version_minor": 0
      },
      "text/plain": [
       "  0%|          | 0/55 [00:00<?, ?it/s]"
      ]
     },
     "metadata": {},
     "output_type": "display_data"
    },
    {
     "name": "stdout",
     "output_type": "stream",
     "text": [
      "Total population size: 100\n",
      "Population sorted.\n",
      "Initial soft constraints: 0.5854071883015852, Initial hard constraints: 0.0\n"
     ]
    },
    {
     "data": {
      "application/vnd.jupyter.widget-view+json": {
       "model_id": "895092f3d3264c0b88475c6efba491b6",
       "version_major": 2,
       "version_minor": 0
      },
      "text/plain": [
       "  0%|          | 0/101 [00:00<?, ?it/s]"
      ]
     },
     "metadata": {},
     "output_type": "display_data"
    },
    {
     "name": "stdout",
     "output_type": "stream",
     "text": [
      "Generation 0: Best = 0.5854071883015852, Worst = 1103743891.497179\n",
      "Generation 10: Best = 0.5854071883015852, Worst = 0.6262957105805752\n",
      "Generation 12: Best = 0.5854071883015852, Worst = 0.5854071883015852\n",
      "Genetic algorithm applied.\n",
      "Final soft constraints: 0.5854071883015852, Final hard constraints: 0.0\n",
      "Data written to CSV.\n",
      "Selected file: car-f-92\n",
      "Created instance car-f-92.\n",
      "number of courses = 543, number of students = 18419\n",
      "number of timeslots = 32, number of rooms = 22\n",
      "Trial number: 9\n"
     ]
    },
    {
     "data": {
      "application/vnd.jupyter.widget-view+json": {
       "model_id": "29d5ce04f33b47eabe25eb69edc9c346",
       "version_major": 2,
       "version_minor": 0
      },
      "text/plain": [
       "  0%|          | 0/42 [00:00<?, ?it/s]"
      ]
     },
     "metadata": {},
     "output_type": "display_data"
    },
    {
     "data": {
      "application/vnd.jupyter.widget-view+json": {
       "model_id": "5a3b66aa636845acacfdb2f39f81b0e0",
       "version_major": 2,
       "version_minor": 0
      },
      "text/plain": [
       "  0%|          | 0/58 [00:00<?, ?it/s]"
      ]
     },
     "metadata": {},
     "output_type": "display_data"
    },
    {
     "name": "stdout",
     "output_type": "stream",
     "text": [
      "Total population size: 100\n",
      "Population sorted.\n",
      "Initial soft constraints: 0.6986123733233929, Initial hard constraints: 0.0\n"
     ]
    },
    {
     "data": {
      "application/vnd.jupyter.widget-view+json": {
       "model_id": "4077f507703743239270bba2aab342c2",
       "version_major": 2,
       "version_minor": 0
      },
      "text/plain": [
       "  0%|          | 0/101 [00:00<?, ?it/s]"
      ]
     },
     "metadata": {},
     "output_type": "display_data"
    },
    {
     "name": "stdout",
     "output_type": "stream",
     "text": [
      "Generation 0: Best = 0.6986123733233929, Worst = 1071221539.6629881\n",
      "Generation 10: Best = 0.6986123733233929, Worst = 184897142.01893207\n",
      "Generation 20: Best = 0.6986123733233929, Worst = 58610100.308621615\n",
      "Generation 30: Best = 0.6986123733233929, Worst = 52928282.12668834\n",
      "Generation 40: Best = 0.6986123733233929, Worst = 29829546.1493263\n",
      "Generation 50: Best = 0.6986123733233929, Worst = 28409091.603756648\n",
      "Generation 60: Best = 0.6986123733233929, Worst = 25568182.50916432\n",
      "Generation 70: Best = 0.6986123733233929, Worst = 24147727.96532119\n",
      "Generation 80: Best = 0.6986123733233929, Worst = 24147727.964055076\n",
      "Generation 90: Best = 0.6986123733233929, Worst = 24147727.96359467\n",
      "Generation 100: Best = 0.6986123733233929, Worst = 24147727.96359467\n",
      "Genetic algorithm applied.\n",
      "Final soft constraints: 0.6986123733233929, Final hard constraints: 0.0\n",
      "Data written to CSV.\n",
      "Selected file: ear-f-83\n",
      "Created instance ear-f-83.\n",
      "number of courses = 190, number of students = 1125\n",
      "number of timeslots = 24, number of rooms = 18\n",
      "Trial number: 10\n"
     ]
    },
    {
     "data": {
      "application/vnd.jupyter.widget-view+json": {
       "model_id": "b3626db255fc404db2c897b6bfd88ec3",
       "version_major": 2,
       "version_minor": 0
      },
      "text/plain": [
       "  0%|          | 0/46 [00:00<?, ?it/s]"
      ]
     },
     "metadata": {},
     "output_type": "display_data"
    },
    {
     "data": {
      "application/vnd.jupyter.widget-view+json": {
       "model_id": "d269c041297245f380b97577e5fef24f",
       "version_major": 2,
       "version_minor": 0
      },
      "text/plain": [
       "  0%|          | 0/54 [00:00<?, ?it/s]"
      ]
     },
     "metadata": {},
     "output_type": "display_data"
    },
    {
     "name": "stdout",
     "output_type": "stream",
     "text": [
      "Total population size: 100\n",
      "Population sorted.\n",
      "Initial soft constraints: 0.9939606278893562, Initial hard constraints: 0.0\n"
     ]
    },
    {
     "data": {
      "application/vnd.jupyter.widget-view+json": {
       "model_id": "dead48dc3fed47488c1d6bf83b0f314f",
       "version_major": 2,
       "version_minor": 0
      },
      "text/plain": [
       "  0%|          | 0/101 [00:00<?, ?it/s]"
      ]
     },
     "metadata": {},
     "output_type": "display_data"
    },
    {
     "name": "stdout",
     "output_type": "stream",
     "text": [
      "Generation 0: Best = 0.9939606278893562, Worst = 1022904485.0927345\n",
      "Generation 10: Best = 0.9939606278893562, Worst = 4629630.626296164\n",
      "Generation 20: Best = 0.9933770602962654, Worst = 0.996995481348897\n",
      "Generation 22: Best = 0.9933770602962654, Worst = 0.9933770602962654\n",
      "Genetic algorithm applied.\n",
      "Final soft constraints: 0.9933770602962654, Final hard constraints: 0.0\n",
      "Data written to CSV.\n",
      "Selected file: kfu-s-93\n",
      "Created instance kfu-s-93.\n",
      "number of courses = 461, number of students = 5349\n",
      "number of timeslots = 20, number of rooms = 15\n",
      "Trial number: 11\n"
     ]
    },
    {
     "data": {
      "application/vnd.jupyter.widget-view+json": {
       "model_id": "fd26a7c3d3184908a6f135828e658bf5",
       "version_major": 2,
       "version_minor": 0
      },
      "text/plain": [
       "  0%|          | 0/86 [00:00<?, ?it/s]"
      ]
     },
     "metadata": {},
     "output_type": "display_data"
    },
    {
     "data": {
      "application/vnd.jupyter.widget-view+json": {
       "model_id": "921c4ff108d342b8b38f9f0a0ebf7688",
       "version_major": 2,
       "version_minor": 0
      },
      "text/plain": [
       "  0%|          | 0/14 [00:00<?, ?it/s]"
      ]
     },
     "metadata": {},
     "output_type": "display_data"
    },
    {
     "name": "stdout",
     "output_type": "stream",
     "text": [
      "Total population size: 100\n",
      "Population sorted.\n",
      "Initial soft constraints: 1.6960434693465132, Initial hard constraints: 0.0\n"
     ]
    },
    {
     "data": {
      "application/vnd.jupyter.widget-view+json": {
       "model_id": "a9edbd3c71a14300b1b483e1fb1b5323",
       "version_major": 2,
       "version_minor": 0
      },
      "text/plain": [
       "  0%|          | 0/101 [00:00<?, ?it/s]"
      ]
     },
     "metadata": {},
     "output_type": "display_data"
    },
    {
     "name": "stdout",
     "output_type": "stream",
     "text": [
      "Generation 0: Best = 1.6960434693465132, Worst = 215227767.50050873\n",
      "Generation 10: Best = 1.6960434693465132, Worst = 31851050.137566894\n",
      "Generation 20: Best = 1.6960434693465132, Worst = 1.703851572309218\n",
      "Generation 27: Best = 1.6960434693465132, Worst = 1.6960434693465132\n",
      "Genetic algorithm applied.\n",
      "Final soft constraints: 1.6960434693465132, Final hard constraints: 0.0\n",
      "Data written to CSV.\n",
      "Selected file: sta-f-83\n",
      "Created instance sta-f-83.\n",
      "number of courses = 139, number of students = 611\n",
      "number of timeslots = 14, number of rooms = 10\n",
      "Trial number: 12\n"
     ]
    },
    {
     "data": {
      "application/vnd.jupyter.widget-view+json": {
       "model_id": "edad7039494f476a9b0bcf693ff16420",
       "version_major": 2,
       "version_minor": 0
      },
      "text/plain": [
       "  0%|          | 0/29 [00:00<?, ?it/s]"
      ]
     },
     "metadata": {},
     "output_type": "display_data"
    },
    {
     "data": {
      "application/vnd.jupyter.widget-view+json": {
       "model_id": "add27404f75f4d5b854dea5038a9f4af",
       "version_major": 2,
       "version_minor": 0
      },
      "text/plain": [
       "  0%|          | 0/71 [00:00<?, ?it/s]"
      ]
     },
     "metadata": {},
     "output_type": "display_data"
    },
    {
     "name": "stdout",
     "output_type": "stream",
     "text": [
      "Total population size: 100\n",
      "Population sorted.\n",
      "Initial soft constraints: 4.340339929359915, Initial hard constraints: 0.0\n"
     ]
    },
    {
     "data": {
      "application/vnd.jupyter.widget-view+json": {
       "model_id": "d5ff31859bd2423581257cb606e6d745",
       "version_major": 2,
       "version_minor": 0
      },
      "text/plain": [
       "  0%|          | 0/101 [00:00<?, ?it/s]"
      ]
     },
     "metadata": {},
     "output_type": "display_data"
    },
    {
     "name": "stdout",
     "output_type": "stream",
     "text": [
      "Generation 0: Best = 4.340339929359915, Worst = 955344302.1349219\n",
      "Generation 10: Best = 4.340339929359915, Worst = 200770816.45126158\n",
      "Generation 19: Best = 4.3362931667699876, Worst = 4.3362931667699876\n",
      "Genetic algorithm applied.\n",
      "Final soft constraints: 4.3362931667699876, Final hard constraints: 0.0\n",
      "Data written to CSV.\n",
      "Selected file: tre-s-92\n",
      "Created instance tre-s-92.\n",
      "number of courses = 261, number of students = 4360\n",
      "number of timeslots = 24, number of rooms = 21\n",
      "Trial number: 13\n"
     ]
    },
    {
     "data": {
      "application/vnd.jupyter.widget-view+json": {
       "model_id": "75abb60847d74fa5b03fc16f54fae468",
       "version_major": 2,
       "version_minor": 0
      },
      "text/plain": [
       "  0%|          | 0/56 [00:00<?, ?it/s]"
      ]
     },
     "metadata": {},
     "output_type": "display_data"
    },
    {
     "data": {
      "application/vnd.jupyter.widget-view+json": {
       "model_id": "a4a41b737e4e43d78f840d061ca999c7",
       "version_major": 2,
       "version_minor": 0
      },
      "text/plain": [
       "  0%|          | 0/44 [00:00<?, ?it/s]"
      ]
     },
     "metadata": {},
     "output_type": "display_data"
    },
    {
     "name": "stdout",
     "output_type": "stream",
     "text": [
      "Total population size: 100\n",
      "Population sorted.\n",
      "Initial soft constraints: 0.7896162083151324, Initial hard constraints: 0.0\n"
     ]
    },
    {
     "data": {
      "application/vnd.jupyter.widget-view+json": {
       "model_id": "410e7d2b9b2349f3be6db56643ef9f5a",
       "version_major": 2,
       "version_minor": 0
      },
      "text/plain": [
       "  0%|          | 0/101 [00:00<?, ?it/s]"
      ]
     },
     "metadata": {},
     "output_type": "display_data"
    },
    {
     "name": "stdout",
     "output_type": "stream",
     "text": [
      "Generation 0: Best = 0.7896162083151324, Worst = 826354680.8911023\n",
      "Generation 10: Best = 0.7896162083151324, Worst = 3968254.7613636265\n",
      "Generation 20: Best = 0.7896162083151324, Worst = 0.7896162083151324\n",
      "Genetic algorithm applied.\n",
      "Final soft constraints: 0.7896162083151324, Final hard constraints: 0.0\n",
      "Data written to CSV.\n",
      "Selected file: uta-s-92\n",
      "Created instance uta-s-92.\n",
      "number of courses = 622, number of students = 21266\n",
      "number of timeslots = 36, number of rooms = 29\n",
      "Trial number: 14\n"
     ]
    },
    {
     "data": {
      "application/vnd.jupyter.widget-view+json": {
       "model_id": "d298414cbc9b4a418389bb782ec2d61a",
       "version_major": 2,
       "version_minor": 0
      },
      "text/plain": [
       "  0%|          | 0/35 [00:00<?, ?it/s]"
      ]
     },
     "metadata": {},
     "output_type": "display_data"
    },
    {
     "data": {
      "application/vnd.jupyter.widget-view+json": {
       "model_id": "43f92bd2c879456fa2160ce268a6d85f",
       "version_major": 2,
       "version_minor": 0
      },
      "text/plain": [
       "  0%|          | 0/65 [00:00<?, ?it/s]"
      ]
     },
     "metadata": {},
     "output_type": "display_data"
    },
    {
     "name": "stdout",
     "output_type": "stream",
     "text": [
      "Total population size: 100\n",
      "Population sorted.\n",
      "Initial soft constraints: 0.5941656575754308, Initial hard constraints: 0.0\n"
     ]
    },
    {
     "data": {
      "application/vnd.jupyter.widget-view+json": {
       "model_id": "f7daa7f69ecc4caeaa4e2cbc71467e91",
       "version_major": 2,
       "version_minor": 0
      },
      "text/plain": [
       "  0%|          | 0/101 [00:00<?, ?it/s]"
      ]
     },
     "metadata": {},
     "output_type": "display_data"
    },
    {
     "name": "stdout",
     "output_type": "stream",
     "text": [
      "Generation 0: Best = 0.5941656575754308, Worst = 992515800.8635027\n",
      "Generation 10: Best = 0.5941656575754308, Worst = 1915709.4025459331\n",
      "Generation 20: Best = 0.5923569759034051, Worst = 0.5941656575754308\n",
      "Generation 30: Best = 0.5920555289580676, Worst = 0.5923569759034051\n",
      "Generation 31: Best = 0.5920555289580676, Worst = 0.5920555289580676\n",
      "Genetic algorithm applied.\n",
      "Final soft constraints: 0.5920555289580676, Final hard constraints: 0.0\n",
      "Data written to CSV.\n",
      "Selected file: yor-f-83\n",
      "Created instance yor-f-83.\n",
      "number of courses = 181, number of students = 941\n",
      "number of timeslots = 22, number of rooms = 18\n",
      "Trial number: 15\n"
     ]
    },
    {
     "data": {
      "application/vnd.jupyter.widget-view+json": {
       "model_id": "18fb14c109864db1b20654b8fb40dfc0",
       "version_major": 2,
       "version_minor": 0
      },
      "text/plain": [
       "  0%|          | 0/40 [00:00<?, ?it/s]"
      ]
     },
     "metadata": {},
     "output_type": "display_data"
    },
    {
     "data": {
      "application/vnd.jupyter.widget-view+json": {
       "model_id": "5c6a0809a97c4eb78016b3c5b75677a2",
       "version_major": 2,
       "version_minor": 0
      },
      "text/plain": [
       "  0%|          | 0/60 [00:00<?, ?it/s]"
      ]
     },
     "metadata": {},
     "output_type": "display_data"
    },
    {
     "name": "stdout",
     "output_type": "stream",
     "text": [
      "Total population size: 100\n",
      "Population sorted.\n",
      "Initial soft constraints: 0.867668933276668, Initial hard constraints: 0.0\n"
     ]
    },
    {
     "data": {
      "application/vnd.jupyter.widget-view+json": {
       "model_id": "e3c7d06837a04cf1aa15dcb80d76ca97",
       "version_major": 2,
       "version_minor": 0
      },
      "text/plain": [
       "  0%|          | 0/101 [00:00<?, ?it/s]"
      ]
     },
     "metadata": {},
     "output_type": "display_data"
    },
    {
     "name": "stdout",
     "output_type": "stream",
     "text": [
      "Generation 0: Best = 0.867668933276668, Worst = 1064707853.2129784\n",
      "Generation 10: Best = 0.867668933276668, Worst = 1.0235470675733107\n",
      "Generation 20: Best = 0.867668933276668, Worst = 0.8719321079473012\n",
      "Generation 30: Best = 0.867668933276668, Worst = 0.867668933276668\n",
      "Genetic algorithm applied.\n",
      "Final soft constraints: 0.867668933276668, Final hard constraints: 0.0\n",
      "Data written to CSV.\n",
      "Selected file: car-s-91\n",
      "Created instance car-s-91.\n",
      "number of courses = 682, number of students = 16925\n",
      "number of timeslots = 36, number of rooms = 25\n",
      "Trial number: 16\n"
     ]
    },
    {
     "data": {
      "application/vnd.jupyter.widget-view+json": {
       "model_id": "e94562f952b544cb81a21b33b17d81ce",
       "version_major": 2,
       "version_minor": 0
      },
      "text/plain": [
       "  0%|          | 0/13 [00:00<?, ?it/s]"
      ]
     },
     "metadata": {},
     "output_type": "display_data"
    },
    {
     "data": {
      "application/vnd.jupyter.widget-view+json": {
       "model_id": "a8bcf0407b474ab99bbef87c2080e7ac",
       "version_major": 2,
       "version_minor": 0
      },
      "text/plain": [
       "  0%|          | 0/87 [00:00<?, ?it/s]"
      ]
     },
     "metadata": {},
     "output_type": "display_data"
    },
    {
     "name": "stdout",
     "output_type": "stream",
     "text": [
      "Total population size: 100\n",
      "Population sorted.\n",
      "Initial soft constraints: 0.6003200291464952, Initial hard constraints: 0.0\n"
     ]
    },
    {
     "data": {
      "application/vnd.jupyter.widget-view+json": {
       "model_id": "b1ff06209dcd4b8a809828940142a9d7",
       "version_major": 2,
       "version_minor": 0
      },
      "text/plain": [
       "  0%|          | 0/101 [00:00<?, ?it/s]"
      ]
     },
     "metadata": {},
     "output_type": "display_data"
    },
    {
     "name": "stdout",
     "output_type": "stream",
     "text": [
      "Generation 0: Best = 0.6003200291464952, Worst = 1144535680.3352334\n",
      "Generation 10: Best = 0.5998618180028001, Worst = 208484849.07217988\n",
      "Generation 20: Best = 0.5998618180028001, Worst = 30000000.59251367\n",
      "Generation 30: Best = 0.5998618180028001, Worst = 15555556.147244444\n",
      "Generation 40: Best = 0.5998618180028001, Worst = 14444445.03430049\n",
      "Generation 50: Best = 0.5998618180028001, Worst = 13333333.92529715\n",
      "Generation 60: Best = 0.5998618180028001, Worst = 13333333.923555948\n",
      "Generation 70: Best = 0.5998618180028001, Worst = 12222222.812811404\n",
      "Generation 80: Best = 0.5998618180028001, Worst = 11111111.707748681\n",
      "Generation 90: Best = 0.5998618180028001, Worst = 3333333.9272384066\n",
      "Generation 100: Best = 0.5989286250707466, Worst = 3333333.9263052135\n",
      "Genetic algorithm applied.\n",
      "Final soft constraints: 0.5989286250707466, Final hard constraints: 0.0\n",
      "Data written to CSV.\n",
      "Selected file: car-f-92\n",
      "Created instance car-f-92.\n",
      "number of courses = 543, number of students = 18419\n",
      "number of timeslots = 32, number of rooms = 22\n",
      "Trial number: 17\n"
     ]
    },
    {
     "data": {
      "application/vnd.jupyter.widget-view+json": {
       "model_id": "74f481c786c4481588e47ff30883bc55",
       "version_major": 2,
       "version_minor": 0
      },
      "text/plain": [
       "  0%|          | 0/62 [00:00<?, ?it/s]"
      ]
     },
     "metadata": {},
     "output_type": "display_data"
    },
    {
     "data": {
      "application/vnd.jupyter.widget-view+json": {
       "model_id": "d1019a99a0d04a4fab3a398fd94de40f",
       "version_major": 2,
       "version_minor": 0
      },
      "text/plain": [
       "  0%|          | 0/38 [00:00<?, ?it/s]"
      ]
     },
     "metadata": {},
     "output_type": "display_data"
    },
    {
     "name": "stdout",
     "output_type": "stream",
     "text": [
      "Total population size: 100\n",
      "Population sorted.\n",
      "Initial soft constraints: 0.6880761016505655, Initial hard constraints: 0.0\n"
     ]
    },
    {
     "data": {
      "application/vnd.jupyter.widget-view+json": {
       "model_id": "00059e73b3a645139d1789893c1c6400",
       "version_major": 2,
       "version_minor": 0
      },
      "text/plain": [
       "  0%|          | 0/101 [00:00<?, ?it/s]"
      ]
     },
     "metadata": {},
     "output_type": "display_data"
    },
    {
     "name": "stdout",
     "output_type": "stream",
     "text": [
      "Generation 0: Best = 0.6880761016505655, Worst = 874332936.6323102\n",
      "Generation 10: Best = 0.6880761016505655, Worst = 0.7926238751761239\n",
      "Generation 14: Best = 0.6880761016505655, Worst = 0.6880761016505655\n",
      "Genetic algorithm applied.\n",
      "Final soft constraints: 0.6880761016505655, Final hard constraints: 0.0\n",
      "Data written to CSV.\n",
      "Selected file: ear-f-83\n",
      "Created instance ear-f-83.\n",
      "number of courses = 190, number of students = 1125\n",
      "number of timeslots = 24, number of rooms = 18\n",
      "Trial number: 18\n"
     ]
    },
    {
     "data": {
      "application/vnd.jupyter.widget-view+json": {
       "model_id": "6080e6d7d13e46eeb0e492f173f27ac5",
       "version_major": 2,
       "version_minor": 0
      },
      "text/plain": [
       "  0%|          | 0/65 [00:00<?, ?it/s]"
      ]
     },
     "metadata": {},
     "output_type": "display_data"
    },
    {
     "data": {
      "application/vnd.jupyter.widget-view+json": {
       "model_id": "20ec6e353c604151b72b4e7b401e219e",
       "version_major": 2,
       "version_minor": 0
      },
      "text/plain": [
       "  0%|          | 0/35 [00:00<?, ?it/s]"
      ]
     },
     "metadata": {},
     "output_type": "display_data"
    },
    {
     "name": "stdout",
     "output_type": "stream",
     "text": [
      "Total population size: 100\n",
      "Population sorted.\n",
      "Initial soft constraints: 1.0263149659042243, Initial hard constraints: 0.0\n"
     ]
    },
    {
     "data": {
      "application/vnd.jupyter.widget-view+json": {
       "model_id": "d6e098aac2aa4209ba97947727c5c8c1",
       "version_major": 2,
       "version_minor": 0
      },
      "text/plain": [
       "  0%|          | 0/101 [00:00<?, ?it/s]"
      ]
     },
     "metadata": {},
     "output_type": "display_data"
    },
    {
     "name": "stdout",
     "output_type": "stream",
     "text": [
      "Generation 0: Best = 1.0263149659042243, Worst = 883552633.0363647\n",
      "Generation 10: Best = 1.0238428162781248, Worst = 64839182.36799146\n",
      "Generation 20: Best = 1.0218691320675986, Worst = 1.0221980794360197\n",
      "Generation 21: Best = 1.0218691320675986, Worst = 1.0218691320675986\n",
      "Genetic algorithm applied.\n",
      "Final soft constraints: 1.0218691320675986, Final hard constraints: 0.0\n",
      "Data written to CSV.\n",
      "Selected file: kfu-s-93\n",
      "Created instance kfu-s-93.\n",
      "number of courses = 461, number of students = 5349\n",
      "number of timeslots = 20, number of rooms = 15\n",
      "Trial number: 19\n"
     ]
    },
    {
     "data": {
      "application/vnd.jupyter.widget-view+json": {
       "model_id": "a4229894a24246d8811bbab174b3daf9",
       "version_major": 2,
       "version_minor": 0
      },
      "text/plain": [
       "  0%|          | 0/20 [00:00<?, ?it/s]"
      ]
     },
     "metadata": {},
     "output_type": "display_data"
    },
    {
     "data": {
      "application/vnd.jupyter.widget-view+json": {
       "model_id": "c5abd945c0284488b72e0dea0a0c3a46",
       "version_major": 2,
       "version_minor": 0
      },
      "text/plain": [
       "  0%|          | 0/80 [00:00<?, ?it/s]"
      ]
     },
     "metadata": {},
     "output_type": "display_data"
    },
    {
     "name": "stdout",
     "output_type": "stream",
     "text": [
      "Total population size: 100\n",
      "Population sorted.\n",
      "Initial soft constraints: 1.7075462799534578, Initial hard constraints: 0.0\n"
     ]
    },
    {
     "data": {
      "application/vnd.jupyter.widget-view+json": {
       "model_id": "a9b3442e8b714183b90a357d98b1aaac",
       "version_major": 2,
       "version_minor": 0
      },
      "text/plain": [
       "  0%|          | 0/101 [00:00<?, ?it/s]"
      ]
     },
     "metadata": {},
     "output_type": "display_data"
    },
    {
     "name": "stdout",
     "output_type": "stream",
     "text": [
      "Generation 0: Best = 1.7075462799534578, Worst = 773774405.9219495\n",
      "Generation 10: Best = 1.7068684057669068, Worst = 13333335.037083518\n",
      "Generation 20: Best = 1.7068684057669068, Worst = 10000001.70361461\n",
      "Generation 30: Best = 1.7068684057669068, Worst = 10000001.70361461\n",
      "Generation 40: Best = 1.7061905315803558, Worst = 10000001.70361461\n",
      "Generation 50: Best = 1.7037501845087721, Worst = 1.7061905315803558\n",
      "Generation 55: Best = 1.7037501845087721, Worst = 1.7037501845087721\n",
      "Genetic algorithm applied.\n",
      "Final soft constraints: 1.7037501845087721, Final hard constraints: 0.0\n",
      "Data written to CSV.\n",
      "Selected file: sta-f-83\n",
      "Created instance sta-f-83.\n",
      "number of courses = 139, number of students = 611\n",
      "number of timeslots = 14, number of rooms = 10\n",
      "Trial number: 20\n"
     ]
    },
    {
     "data": {
      "application/vnd.jupyter.widget-view+json": {
       "model_id": "72d2213d142d4d5c924c6c5fb227d2bc",
       "version_major": 2,
       "version_minor": 0
      },
      "text/plain": [
       "  0%|          | 0/2 [00:00<?, ?it/s]"
      ]
     },
     "metadata": {},
     "output_type": "display_data"
    },
    {
     "data": {
      "application/vnd.jupyter.widget-view+json": {
       "model_id": "5a507bffb9cf4af689bc9f38994cbfdd",
       "version_major": 2,
       "version_minor": 0
      },
      "text/plain": [
       "  0%|          | 0/98 [00:00<?, ?it/s]"
      ]
     },
     "metadata": {},
     "output_type": "display_data"
    },
    {
     "name": "stdout",
     "output_type": "stream",
     "text": [
      "Total population size: 100\n",
      "Population sorted.\n",
      "Initial soft constraints: 4.562054266796555, Initial hard constraints: 0.0\n"
     ]
    },
    {
     "data": {
      "application/vnd.jupyter.widget-view+json": {
       "model_id": "d1b4f713e97f4de3834a556a4258ede5",
       "version_major": 2,
       "version_minor": 0
      },
      "text/plain": [
       "  0%|          | 0/101 [00:00<?, ?it/s]"
      ]
     },
     "metadata": {},
     "output_type": "display_data"
    },
    {
     "name": "stdout",
     "output_type": "stream",
     "text": [
      "Generation 0: Best = 4.562054266796555, Worst = 991469686.8409169\n",
      "Generation 10: Best = 4.562054266796555, Worst = 4.562054266796555\n",
      "Genetic algorithm applied.\n",
      "Final soft constraints: 4.562054266796555, Final hard constraints: 0.0\n",
      "Data written to CSV.\n",
      "Selected file: tre-s-92\n",
      "Created instance tre-s-92.\n",
      "number of courses = 261, number of students = 4360\n",
      "number of timeslots = 24, number of rooms = 21\n",
      "Trial number: 21\n"
     ]
    },
    {
     "data": {
      "application/vnd.jupyter.widget-view+json": {
       "model_id": "91c4b870c37245f79f56947943aa8c32",
       "version_major": 2,
       "version_minor": 0
      },
      "text/plain": [
       "  0%|          | 0/9 [00:00<?, ?it/s]"
      ]
     },
     "metadata": {},
     "output_type": "display_data"
    },
    {
     "data": {
      "application/vnd.jupyter.widget-view+json": {
       "model_id": "3562207d055a41f1804287fdf4a31c2d",
       "version_major": 2,
       "version_minor": 0
      },
      "text/plain": [
       "  0%|          | 0/91 [00:00<?, ?it/s]"
      ]
     },
     "metadata": {},
     "output_type": "display_data"
    },
    {
     "name": "stdout",
     "output_type": "stream",
     "text": [
      "Total population size: 100\n",
      "Population sorted.\n",
      "Initial soft constraints: 0.8260138164756583, Initial hard constraints: 0.0\n"
     ]
    },
    {
     "data": {
      "application/vnd.jupyter.widget-view+json": {
       "model_id": "a3a80c11f90941649bb6c933d33859f8",
       "version_major": 2,
       "version_minor": 0
      },
      "text/plain": [
       "  0%|          | 0/101 [00:00<?, ?it/s]"
      ]
     },
     "metadata": {},
     "output_type": "display_data"
    },
    {
     "name": "stdout",
     "output_type": "stream",
     "text": [
      "Generation 0: Best = 0.8260138164756583, Worst = 956143953.0177093\n",
      "Generation 10: Best = 0.8260138164756583, Worst = 151956760.57411465\n",
      "Generation 13: Best = 0.8260138164756583, Worst = 0.8260138164756583\n",
      "Genetic algorithm applied.\n",
      "Final soft constraints: 0.8260138164756583, Final hard constraints: 0.0\n",
      "Data written to CSV.\n",
      "Selected file: uta-s-92\n",
      "Created instance uta-s-92.\n",
      "number of courses = 622, number of students = 21266\n",
      "number of timeslots = 36, number of rooms = 29\n",
      "Trial number: 22\n"
     ]
    },
    {
     "data": {
      "application/vnd.jupyter.widget-view+json": {
       "model_id": "ee69531ea62a4331b1b8a1581e891c22",
       "version_major": 2,
       "version_minor": 0
      },
      "text/plain": [
       "  0%|          | 0/18 [00:00<?, ?it/s]"
      ]
     },
     "metadata": {},
     "output_type": "display_data"
    },
    {
     "data": {
      "application/vnd.jupyter.widget-view+json": {
       "model_id": "48d9397a750b4250ad3fe4a8781661be",
       "version_major": 2,
       "version_minor": 0
      },
      "text/plain": [
       "  0%|          | 0/82 [00:00<?, ?it/s]"
      ]
     },
     "metadata": {},
     "output_type": "display_data"
    },
    {
     "name": "stdout",
     "output_type": "stream",
     "text": [
      "Total population size: 100\n",
      "Population sorted.\n",
      "Initial soft constraints: 0.6042456013699773, Initial hard constraints: 0.0\n"
     ]
    },
    {
     "data": {
      "application/vnd.jupyter.widget-view+json": {
       "model_id": "aa08abe6e69543c1988d658a335ece59",
       "version_major": 2,
       "version_minor": 0
      },
      "text/plain": [
       "  0%|          | 0/101 [00:00<?, ?it/s]"
      ]
     },
     "metadata": {},
     "output_type": "display_data"
    },
    {
     "name": "stdout",
     "output_type": "stream",
     "text": [
      "Generation 0: Best = 0.6042456013699773, Worst = 1003702062.0365374\n",
      "Generation 10: Best = 0.6042456013699773, Worst = 11494253.47569869\n",
      "Generation 16: Best = 0.6042456013699773, Worst = 0.6042456013699773\n",
      "Genetic algorithm applied.\n",
      "Final soft constraints: 0.6042456013699773, Final hard constraints: 0.0\n",
      "Data written to CSV.\n",
      "Selected file: yor-f-83\n",
      "Created instance yor-f-83.\n",
      "number of courses = 181, number of students = 941\n",
      "number of timeslots = 22, number of rooms = 18\n",
      "Trial number: 23\n"
     ]
    },
    {
     "data": {
      "application/vnd.jupyter.widget-view+json": {
       "model_id": "f744d4527caf4a979ea08706d45f3ccd",
       "version_major": 2,
       "version_minor": 0
      },
      "text/plain": [
       "  0%|          | 0/31 [00:00<?, ?it/s]"
      ]
     },
     "metadata": {},
     "output_type": "display_data"
    },
    {
     "data": {
      "application/vnd.jupyter.widget-view+json": {
       "model_id": "c163179f5bf542f8be59025e845fe6b6",
       "version_major": 2,
       "version_minor": 0
      },
      "text/plain": [
       "  0%|          | 0/69 [00:00<?, ?it/s]"
      ]
     },
     "metadata": {},
     "output_type": "display_data"
    },
    {
     "name": "stdout",
     "output_type": "stream",
     "text": [
      "Total population size: 100\n",
      "Population sorted.\n",
      "Initial soft constraints: 0.8546005099872503, Initial hard constraints: 0.0\n"
     ]
    },
    {
     "data": {
      "application/vnd.jupyter.widget-view+json": {
       "model_id": "3925ea768b0e4716bd9930367101a7d9",
       "version_major": 2,
       "version_minor": 0
      },
      "text/plain": [
       "  0%|          | 0/101 [00:00<?, ?it/s]"
      ]
     },
     "metadata": {},
     "output_type": "display_data"
    },
    {
     "name": "stdout",
     "output_type": "stream",
     "text": [
      "Generation 0: Best = 0.8546005099872503, Worst = 1094536526.762726\n",
      "Generation 10: Best = 0.8546005099872503, Worst = 94550477.98079215\n",
      "Generation 20: Best = 0.8546005099872503, Worst = 20202021.06144169\n",
      "Generation 30: Best = 0.8546005099872503, Worst = 5050505.919249739\n",
      "Generation 40: Best = 0.8539099022524437, Worst = 5050505.918213828\n",
      "Generation 50: Best = 0.8497662558436039, Worst = 2525253.373292262\n",
      "Generation 60: Best = 0.8490756481087973, Worst = 2525253.3567176764\n",
      "Generation 70: Best = 0.8325010624734381, Worst = 2525253.3567176764\n",
      "Generation 80: Best = 0.8325010624734381, Worst = 0.8473491287717807\n",
      "Generation 81: Best = 0.8325010624734381, Worst = 0.8325010624734381\n",
      "Genetic algorithm applied.\n",
      "Final soft constraints: 0.8325010624734381, Final hard constraints: 0.0\n",
      "Data written to CSV.\n",
      "Selected file: car-s-91\n",
      "Created instance car-s-91.\n",
      "number of courses = 682, number of students = 16925\n",
      "number of timeslots = 36, number of rooms = 25\n",
      "Trial number: 24\n"
     ]
    },
    {
     "data": {
      "application/vnd.jupyter.widget-view+json": {
       "model_id": "e7510ad3178640c3bc375765c943daba",
       "version_major": 2,
       "version_minor": 0
      },
      "text/plain": [
       "  0%|          | 0/22 [00:00<?, ?it/s]"
      ]
     },
     "metadata": {},
     "output_type": "display_data"
    },
    {
     "data": {
      "application/vnd.jupyter.widget-view+json": {
       "model_id": "d1c8c13c73be4f8ebc0bc1121702b098",
       "version_major": 2,
       "version_minor": 0
      },
      "text/plain": [
       "  0%|          | 0/78 [00:00<?, ?it/s]"
      ]
     },
     "metadata": {},
     "output_type": "display_data"
    },
    {
     "name": "stdout",
     "output_type": "stream",
     "text": [
      "Total population size: 100\n",
      "Population sorted.\n",
      "Initial soft constraints: 0.5946415060766783, Initial hard constraints: 0.0\n"
     ]
    },
    {
     "data": {
      "application/vnd.jupyter.widget-view+json": {
       "model_id": "3d0d226b58444a35852d64ddc4198e4f",
       "version_major": 2,
       "version_minor": 0
      },
      "text/plain": [
       "  0%|          | 0/101 [00:00<?, ?it/s]"
      ]
     },
     "metadata": {},
     "output_type": "display_data"
    },
    {
     "name": "stdout",
     "output_type": "stream",
     "text": [
      "Generation 0: Best = 0.5946415060766783, Worst = 1141202347.000361\n",
      "Generation 10: Best = 0.5946415060766783, Worst = 285131965.3988288\n",
      "Generation 20: Best = 0.5946415060766783, Worst = 15555556.149461735\n",
      "Generation 30: Best = 0.5946415060766783, Worst = 14444445.037525844\n",
      "Generation 40: Best = 0.5946415060766783, Worst = 4444445.040733322\n",
      "Generation 50: Best = 0.5946415060766783, Worst = 1111111.708316411\n",
      "Generation 60: Best = 0.5946415060766783, Worst = 0.5978467955380052\n",
      "Generation 70: Best = 0.5946415060766783, Worst = 0.5946415060766783\n",
      "Genetic algorithm applied.\n",
      "Final soft constraints: 0.5946415060766783, Final hard constraints: 0.0\n",
      "Data written to CSV.\n",
      "Selected file: car-f-92\n",
      "Created instance car-f-92.\n",
      "number of courses = 543, number of students = 18419\n",
      "number of timeslots = 32, number of rooms = 22\n",
      "Trial number: 25\n"
     ]
    },
    {
     "data": {
      "application/vnd.jupyter.widget-view+json": {
       "model_id": "2a6c47bae5dd4e1d90d38310f62de5ce",
       "version_major": 2,
       "version_minor": 0
      },
      "text/plain": [
       "  0%|          | 0/84 [00:00<?, ?it/s]"
      ]
     },
     "metadata": {},
     "output_type": "display_data"
    },
    {
     "data": {
      "application/vnd.jupyter.widget-view+json": {
       "model_id": "ecbd9dddd3b7415ab73e9b736029563e",
       "version_major": 2,
       "version_minor": 0
      },
      "text/plain": [
       "  0%|          | 0/16 [00:00<?, ?it/s]"
      ]
     },
     "metadata": {},
     "output_type": "display_data"
    },
    {
     "name": "stdout",
     "output_type": "stream",
     "text": [
      "Total population size: 100\n",
      "Population sorted.\n",
      "Initial soft constraints: 0.6999227197303733, Initial hard constraints: 0.0\n"
     ]
    },
    {
     "data": {
      "application/vnd.jupyter.widget-view+json": {
       "model_id": "b83562604ca04c8caa36f8afcfeb59e9",
       "version_major": 2,
       "version_minor": 0
      },
      "text/plain": [
       "  0%|          | 0/101 [00:00<?, ?it/s]"
      ]
     },
     "metadata": {},
     "output_type": "display_data"
    },
    {
     "name": "stdout",
     "output_type": "stream",
     "text": [
      "Generation 0: Best = 0.6999227197303733, Worst = 415570589.23351014\n",
      "Generation 10: Best = 0.6999227197303733, Worst = 16888498.930988796\n",
      "Generation 20: Best = 0.6999227197303733, Worst = 0.7101394684106057\n",
      "Generation 21: Best = 0.6999227197303733, Worst = 0.6999227197303733\n",
      "Genetic algorithm applied.\n",
      "Final soft constraints: 0.6999227197303733, Final hard constraints: 0.0\n",
      "Data written to CSV.\n",
      "Selected file: ear-f-83\n",
      "Created instance ear-f-83.\n",
      "number of courses = 190, number of students = 1125\n",
      "number of timeslots = 24, number of rooms = 18\n",
      "Trial number: 26\n"
     ]
    },
    {
     "data": {
      "application/vnd.jupyter.widget-view+json": {
       "model_id": "5a44360dd90245729b1d757635d96dc1",
       "version_major": 2,
       "version_minor": 0
      },
      "text/plain": [
       "  0%|          | 0/31 [00:00<?, ?it/s]"
      ]
     },
     "metadata": {},
     "output_type": "display_data"
    },
    {
     "data": {
      "application/vnd.jupyter.widget-view+json": {
       "model_id": "bfd8a1749f20483bbfb65298dbaa8c43",
       "version_major": 2,
       "version_minor": 0
      },
      "text/plain": [
       "  0%|          | 0/69 [00:00<?, ?it/s]"
      ]
     },
     "metadata": {},
     "output_type": "display_data"
    },
    {
     "name": "stdout",
     "output_type": "stream",
     "text": [
      "Total population size: 100\n",
      "Population sorted.\n",
      "Initial soft constraints: 1.0247316536176663, Initial hard constraints: 0.0\n"
     ]
    },
    {
     "data": {
      "application/vnd.jupyter.widget-view+json": {
       "model_id": "3ea943c69e9b4f359d4efb7cf3fae2bd",
       "version_major": 2,
       "version_minor": 0
      },
      "text/plain": [
       "  0%|          | 0/101 [00:00<?, ?it/s]"
      ]
     },
     "metadata": {},
     "output_type": "display_data"
    },
    {
     "name": "stdout",
     "output_type": "stream",
     "text": [
      "Generation 0: Best = 1.0247316536176663, Worst = 1057431775.5300884\n",
      "Generation 10: Best = 1.0247316536176663, Worst = 13888889.908028437\n",
      "Generation 20: Best = 1.0096000746702978, Worst = 2314815.8207964683\n",
      "Generation 25: Best = 1.0096000746702978, Worst = 1.0096000746702978\n",
      "Genetic algorithm applied.\n",
      "Final soft constraints: 1.0096000746702978, Final hard constraints: 0.0\n",
      "Data written to CSV.\n",
      "Selected file: kfu-s-93\n",
      "Created instance kfu-s-93.\n",
      "number of courses = 461, number of students = 5349\n",
      "number of timeslots = 20, number of rooms = 15\n",
      "Trial number: 27\n"
     ]
    },
    {
     "data": {
      "application/vnd.jupyter.widget-view+json": {
       "model_id": "a262a073bbff466c9eb1a838a8f8c8cc",
       "version_major": 2,
       "version_minor": 0
      },
      "text/plain": [
       "  0%|          | 0/83 [00:00<?, ?it/s]"
      ]
     },
     "metadata": {},
     "output_type": "display_data"
    },
    {
     "data": {
      "application/vnd.jupyter.widget-view+json": {
       "model_id": "96d9585d793f4a7abd5d185a30410edd",
       "version_major": 2,
       "version_minor": 0
      },
      "text/plain": [
       "  0%|          | 0/17 [00:00<?, ?it/s]"
      ]
     },
     "metadata": {},
     "output_type": "display_data"
    },
    {
     "name": "stdout",
     "output_type": "stream",
     "text": [
      "Total population size: 100\n",
      "Population sorted.\n",
      "Initial soft constraints: 1.7091533007469062, Initial hard constraints: 0.0\n"
     ]
    },
    {
     "data": {
      "application/vnd.jupyter.widget-view+json": {
       "model_id": "27e8511df56f4a16a8c73d159289de7c",
       "version_major": 2,
       "version_minor": 0
      },
      "text/plain": [
       "  0%|          | 0/101 [00:00<?, ?it/s]"
      ]
     },
     "metadata": {},
     "output_type": "display_data"
    },
    {
     "name": "stdout",
     "output_type": "stream",
     "text": [
      "Generation 0: Best = 1.7091533007469062, Worst = 220730298.42240503\n",
      "Generation 10: Best = 1.7091533007469062, Worst = 23015186.099597953\n",
      "Generation 20: Best = 1.7091533007469062, Worst = 1.9150268085264588\n",
      "Generation 30: Best = 1.7091533007469062, Worst = 1.7124293207169212\n",
      "Generation 36: Best = 1.7091533007469062, Worst = 1.7091533007469062\n",
      "Genetic algorithm applied.\n",
      "Final soft constraints: 1.7091533007469062, Final hard constraints: 0.0\n",
      "Data written to CSV.\n",
      "Selected file: sta-f-83\n",
      "Created instance sta-f-83.\n",
      "number of courses = 139, number of students = 611\n",
      "number of timeslots = 14, number of rooms = 10\n",
      "Trial number: 28\n"
     ]
    },
    {
     "data": {
      "application/vnd.jupyter.widget-view+json": {
       "model_id": "2081786fede041329ef3b65919afcb4d",
       "version_major": 2,
       "version_minor": 0
      },
      "text/plain": [
       "  0%|          | 0/93 [00:00<?, ?it/s]"
      ]
     },
     "metadata": {},
     "output_type": "display_data"
    },
    {
     "data": {
      "application/vnd.jupyter.widget-view+json": {
       "model_id": "7dfe5defa4104c0285098e0ec501a6a8",
       "version_major": 2,
       "version_minor": 0
      },
      "text/plain": [
       "  0%|          | 0/7 [00:00<?, ?it/s]"
      ]
     },
     "metadata": {},
     "output_type": "display_data"
    },
    {
     "name": "stdout",
     "output_type": "stream",
     "text": [
      "Total population size: 100\n",
      "Population sorted.\n",
      "Initial soft constraints: 4.2701110653837535, Initial hard constraints: 0.0\n"
     ]
    },
    {
     "data": {
      "application/vnd.jupyter.widget-view+json": {
       "model_id": "c5ae2133b4034231b70b4cc7b48d9ab5",
       "version_major": 2,
       "version_minor": 0
      },
      "text/plain": [
       "  0%|          | 0/101 [00:00<?, ?it/s]"
      ]
     },
     "metadata": {},
     "output_type": "display_data"
    },
    {
     "name": "stdout",
     "output_type": "stream",
     "text": [
      "Generation 0: Best = 4.2701110653837535, Worst = 5.384899249318865\n",
      "Generation 10: Best = 4.2701110653837535, Worst = 4.679077302965738\n",
      "Generation 20: Best = 4.2701110653837535, Worst = 4.338427085992322\n",
      "Generation 30: Best = 4.2701110653837535, Worst = 4.290440927489724\n",
      "Generation 40: Best = 4.2701110653837535, Worst = 4.290440927489724\n",
      "Generation 50: Best = 4.2701110653837535, Worst = 4.290440927489724\n",
      "Generation 60: Best = 4.2701110653837535, Worst = 4.290440927489724\n",
      "Generation 63: Best = 4.2701110653837535, Worst = 4.2701110653837535\n",
      "Genetic algorithm applied.\n",
      "Final soft constraints: 4.2701110653837535, Final hard constraints: 0.0\n",
      "Data written to CSV.\n",
      "Selected file: tre-s-92\n",
      "Created instance tre-s-92.\n",
      "number of courses = 261, number of students = 4360\n",
      "number of timeslots = 24, number of rooms = 21\n",
      "Trial number: 29\n"
     ]
    },
    {
     "data": {
      "application/vnd.jupyter.widget-view+json": {
       "model_id": "2992e11d73894c61aa28fd1282983c07",
       "version_major": 2,
       "version_minor": 0
      },
      "text/plain": [
       "  0%|          | 0/54 [00:00<?, ?it/s]"
      ]
     },
     "metadata": {},
     "output_type": "display_data"
    },
    {
     "data": {
      "application/vnd.jupyter.widget-view+json": {
       "model_id": "5783f83cf3e74e6f85ce1e3b93af8619",
       "version_major": 2,
       "version_minor": 0
      },
      "text/plain": [
       "  0%|          | 0/46 [00:00<?, ?it/s]"
      ]
     },
     "metadata": {},
     "output_type": "display_data"
    },
    {
     "name": "stdout",
     "output_type": "stream",
     "text": [
      "Total population size: 100\n",
      "Population sorted.\n",
      "Initial soft constraints: 0.7937509100476131, Initial hard constraints: 0.0\n"
     ]
    },
    {
     "data": {
      "application/vnd.jupyter.widget-view+json": {
       "model_id": "8566c3780c8a4cb0892229d54a8291dc",
       "version_major": 2,
       "version_minor": 0
      },
      "text/plain": [
       "  0%|          | 0/101 [00:00<?, ?it/s]"
      ]
     },
     "metadata": {},
     "output_type": "display_data"
    },
    {
     "name": "stdout",
     "output_type": "stream",
     "text": [
      "Generation 0: Best = 0.7937509100476131, Worst = 826628353.6125695\n",
      "Generation 10: Best = 0.7937509100476131, Worst = 17857143.663118124\n",
      "Generation 20: Best = 0.7937509100476131, Worst = 3968254.762256059\n",
      "Generation 26: Best = 0.7937509100476131, Worst = 0.7937509100476131\n",
      "Genetic algorithm applied.\n",
      "Final soft constraints: 0.7937509100476131, Final hard constraints: 0.0\n",
      "Data written to CSV.\n",
      "Selected file: uta-s-92\n",
      "Created instance uta-s-92.\n",
      "number of courses = 622, number of students = 21266\n",
      "number of timeslots = 36, number of rooms = 29\n",
      "Trial number: 30\n"
     ]
    },
    {
     "data": {
      "application/vnd.jupyter.widget-view+json": {
       "model_id": "eefeb1a943d546e282071bf919acfcb8",
       "version_major": 2,
       "version_minor": 0
      },
      "text/plain": [
       "  0%|          | 0/75 [00:00<?, ?it/s]"
      ]
     },
     "metadata": {},
     "output_type": "display_data"
    },
    {
     "data": {
      "application/vnd.jupyter.widget-view+json": {
       "model_id": "1fd49b63256e496c9653a31a940ea47a",
       "version_major": 2,
       "version_minor": 0
      },
      "text/plain": [
       "  0%|          | 0/25 [00:00<?, ?it/s]"
      ]
     },
     "metadata": {},
     "output_type": "display_data"
    },
    {
     "name": "stdout",
     "output_type": "stream",
     "text": [
      "Total population size: 100\n",
      "Population sorted.\n",
      "Initial soft constraints: 0.5983559594859814, Initial hard constraints: 0.0\n"
     ]
    },
    {
     "data": {
      "application/vnd.jupyter.widget-view+json": {
       "model_id": "03598a37df9842e1878fb837d026dfed",
       "version_major": 2,
       "version_minor": 0
      },
      "text/plain": [
       "  0%|          | 0/101 [00:00<?, ?it/s]"
      ]
     },
     "metadata": {},
     "output_type": "display_data"
    },
    {
     "name": "stdout",
     "output_type": "stream",
     "text": [
      "Generation 0: Best = 0.5983559594859814, Worst = 795037637.4657674\n",
      "Generation 10: Best = 0.5983559594859814, Worst = 0.6561297933325456\n",
      "Generation 14: Best = 0.5983559594859814, Worst = 0.5983559594859814\n",
      "Genetic algorithm applied.\n",
      "Final soft constraints: 0.5983559594859814, Final hard constraints: 0.0\n",
      "Data written to CSV.\n",
      "Selected file: yor-f-83\n",
      "Created instance yor-f-83.\n",
      "number of courses = 181, number of students = 941\n",
      "number of timeslots = 22, number of rooms = 18\n",
      "Trial number: 31\n"
     ]
    },
    {
     "data": {
      "application/vnd.jupyter.widget-view+json": {
       "model_id": "9bce1869d4024914a5f3b318a37dbfea",
       "version_major": 2,
       "version_minor": 0
      },
      "text/plain": [
       "  0%|          | 0/38 [00:00<?, ?it/s]"
      ]
     },
     "metadata": {},
     "output_type": "display_data"
    },
    {
     "data": {
      "application/vnd.jupyter.widget-view+json": {
       "model_id": "92d6015442364398b06e325a79a48569",
       "version_major": 2,
       "version_minor": 0
      },
      "text/plain": [
       "  0%|          | 0/62 [00:00<?, ?it/s]"
      ]
     },
     "metadata": {},
     "output_type": "display_data"
    },
    {
     "name": "stdout",
     "output_type": "stream",
     "text": [
      "Total population size: 100\n",
      "Population sorted.\n",
      "Initial soft constraints: 0.8696610709732258, Initial hard constraints: 0.0\n"
     ]
    },
    {
     "data": {
      "application/vnd.jupyter.widget-view+json": {
       "model_id": "aa359094f6dc410c9afb40b3d0b45086",
       "version_major": 2,
       "version_minor": 0
      },
      "text/plain": [
       "  0%|          | 0/101 [00:00<?, ?it/s]"
      ]
     },
     "metadata": {},
     "output_type": "display_data"
    },
    {
     "name": "stdout",
     "output_type": "stream",
     "text": [
      "Generation 0: Best = 0.8696610709732258, Worst = 1069911826.7069937\n",
      "Generation 10: Best = 0.8696610709732258, Worst = 7575758.441275001\n",
      "Generation 20: Best = 0.8675892477688059, Worst = 2525253.3866263037\n",
      "Generation 30: Best = 0.8665533361665959, Worst = 0.8675892477688059\n",
      "Generation 31: Best = 0.8665533361665959, Worst = 0.8665533361665959\n",
      "Genetic algorithm applied.\n",
      "Final soft constraints: 0.8665533361665959, Final hard constraints: 0.0\n",
      "Data written to CSV.\n",
      "Selected file: car-s-91\n",
      "Created instance car-s-91.\n",
      "number of courses = 682, number of students = 16925\n",
      "number of timeslots = 36, number of rooms = 25\n",
      "Trial number: 32\n"
     ]
    },
    {
     "data": {
      "application/vnd.jupyter.widget-view+json": {
       "model_id": "75a27b2a5786451989a7a5c414748617",
       "version_major": 2,
       "version_minor": 0
      },
      "text/plain": [
       "  0%|          | 0/73 [00:00<?, ?it/s]"
      ]
     },
     "metadata": {},
     "output_type": "display_data"
    },
    {
     "data": {
      "application/vnd.jupyter.widget-view+json": {
       "model_id": "f27b5b31dc6a4156b8e2cefeea99e3a3",
       "version_major": 2,
       "version_minor": 0
      },
      "text/plain": [
       "  0%|          | 0/27 [00:00<?, ?it/s]"
      ]
     },
     "metadata": {},
     "output_type": "display_data"
    },
    {
     "name": "stdout",
     "output_type": "stream",
     "text": [
      "Total population size: 100\n",
      "Population sorted.\n",
      "Initial soft constraints: 0.5818255122128654, Initial hard constraints: 0.0\n"
     ]
    },
    {
     "data": {
      "application/vnd.jupyter.widget-view+json": {
       "model_id": "16564d063e4546f7b01c89aa9d73889b",
       "version_major": 2,
       "version_minor": 0
      },
      "text/plain": [
       "  0%|          | 0/101 [00:00<?, ?it/s]"
      ]
     },
     "metadata": {},
     "output_type": "display_data"
    },
    {
     "name": "stdout",
     "output_type": "stream",
     "text": [
      "Generation 0: Best = 0.5818255122128654, Worst = 498944282.1793275\n",
      "Generation 10: Best = 0.5818255122128654, Worst = 16666667.260597657\n",
      "Generation 20: Best = 0.5818255122128654, Worst = 0.5908151556266644\n",
      "Generation 30: Best = 0.5813253744575114, Worst = 0.5908151556266644\n",
      "Generation 33: Best = 0.5813253744575114, Worst = 0.5813253744575114\n",
      "Genetic algorithm applied.\n",
      "Final soft constraints: 0.5813253744575114, Final hard constraints: 0.0\n",
      "Data written to CSV.\n",
      "Selected file: car-f-92\n",
      "Created instance car-f-92.\n",
      "number of courses = 543, number of students = 18419\n",
      "number of timeslots = 32, number of rooms = 22\n",
      "Trial number: 33\n"
     ]
    },
    {
     "data": {
      "application/vnd.jupyter.widget-view+json": {
       "model_id": "20ca0dbce9854bcf99abfbdfccee1877",
       "version_major": 2,
       "version_minor": 0
      },
      "text/plain": [
       "  0%|          | 0/87 [00:00<?, ?it/s]"
      ]
     },
     "metadata": {},
     "output_type": "display_data"
    },
    {
     "data": {
      "application/vnd.jupyter.widget-view+json": {
       "model_id": "391b5075241f4cf6bcda77988bd6c2ca",
       "version_major": 2,
       "version_minor": 0
      },
      "text/plain": [
       "  0%|          | 0/13 [00:00<?, ?it/s]"
      ]
     },
     "metadata": {},
     "output_type": "display_data"
    },
    {
     "name": "stdout",
     "output_type": "stream",
     "text": [
      "Total population size: 100\n",
      "Population sorted.\n",
      "Initial soft constraints: 0.6911170601367814, Initial hard constraints: 0.0\n"
     ]
    },
    {
     "data": {
      "application/vnd.jupyter.widget-view+json": {
       "model_id": "b89701c890604fd999fe331711856aca",
       "version_major": 2,
       "version_minor": 0
      },
      "text/plain": [
       "  0%|          | 0/101 [00:00<?, ?it/s]"
      ]
     },
     "metadata": {},
     "output_type": "display_data"
    },
    {
     "name": "stdout",
     "output_type": "stream",
     "text": [
      "Generation 0: Best = 0.6911170601367814, Worst = 351270823.60316014\n",
      "Generation 10: Best = 0.6911170601367814, Worst = 0.7686109232909003\n",
      "Generation 20: Best = 0.6911170601367814, Worst = 0.6911170601367814\n",
      "Genetic algorithm applied.\n",
      "Final soft constraints: 0.6911170601367814, Final hard constraints: 0.0\n",
      "Data written to CSV.\n",
      "Selected file: ear-f-83\n",
      "Created instance ear-f-83.\n",
      "number of courses = 190, number of students = 1125\n",
      "number of timeslots = 24, number of rooms = 18\n",
      "Trial number: 34\n"
     ]
    },
    {
     "data": {
      "application/vnd.jupyter.widget-view+json": {
       "model_id": "7176e93299cd4435b5fa217505433edc",
       "version_major": 2,
       "version_minor": 0
      },
      "text/plain": [
       "  0%|          | 0/63 [00:00<?, ?it/s]"
      ]
     },
     "metadata": {},
     "output_type": "display_data"
    },
    {
     "data": {
      "application/vnd.jupyter.widget-view+json": {
       "model_id": "350ec3068992403789e9812889517fdf",
       "version_major": 2,
       "version_minor": 0
      },
      "text/plain": [
       "  0%|          | 0/37 [00:00<?, ?it/s]"
      ]
     },
     "metadata": {},
     "output_type": "display_data"
    },
    {
     "name": "stdout",
     "output_type": "stream",
     "text": [
      "Total population size: 100\n",
      "Population sorted.\n",
      "Initial soft constraints: 1.041964707303414, Initial hard constraints: 0.0\n"
     ]
    },
    {
     "data": {
      "application/vnd.jupyter.widget-view+json": {
       "model_id": "a42561a632aa430f9ebb15b5d96c971b",
       "version_major": 2,
       "version_minor": 0
      },
      "text/plain": [
       "  0%|          | 0/101 [00:00<?, ?it/s]"
      ]
     },
     "metadata": {},
     "output_type": "display_data"
    },
    {
     "name": "stdout",
     "output_type": "stream",
     "text": [
      "Generation 0: Best = 1.041964707303414, Worst = 865448344.4826485\n",
      "Generation 10: Best = 1.041964707303414, Worst = 39156921.15044133\n",
      "Generation 20: Best = 1.040415641780228, Worst = 4629630.675780609\n",
      "Generation 26: Best = 1.040415641780228, Worst = 1.040415641780228\n",
      "Genetic algorithm applied.\n",
      "Final soft constraints: 1.040415641780228, Final hard constraints: 0.0\n",
      "Data written to CSV.\n",
      "Selected file: kfu-s-93\n",
      "Created instance kfu-s-93.\n",
      "number of courses = 461, number of students = 5349\n",
      "number of timeslots = 20, number of rooms = 15\n",
      "Trial number: 35\n"
     ]
    },
    {
     "data": {
      "application/vnd.jupyter.widget-view+json": {
       "model_id": "dfebf2ffc1334934b9844aaba8c125d2",
       "version_major": 2,
       "version_minor": 0
      },
      "text/plain": [
       "  0%|          | 0/35 [00:00<?, ?it/s]"
      ]
     },
     "metadata": {},
     "output_type": "display_data"
    },
    {
     "data": {
      "application/vnd.jupyter.widget-view+json": {
       "model_id": "5ab7f2de59a2468abf69e357dd025d4d",
       "version_major": 2,
       "version_minor": 0
      },
      "text/plain": [
       "  0%|          | 0/65 [00:00<?, ?it/s]"
      ]
     },
     "metadata": {},
     "output_type": "display_data"
    },
    {
     "name": "stdout",
     "output_type": "stream",
     "text": [
      "Total population size: 100\n",
      "Population sorted.\n",
      "Initial soft constraints: 1.6794384160331406, Initial hard constraints: 0.0\n"
     ]
    },
    {
     "data": {
      "application/vnd.jupyter.widget-view+json": {
       "model_id": "3b0e80cbb49f474ba2c925c0aaa6caaf",
       "version_major": 2,
       "version_minor": 0
      },
      "text/plain": [
       "  0%|          | 0/101 [00:00<?, ?it/s]"
      ]
     },
     "metadata": {},
     "output_type": "display_data"
    },
    {
     "name": "stdout",
     "output_type": "stream",
     "text": [
      "Generation 0: Best = 1.6794384160331406, Worst = 760441072.5955696\n",
      "Generation 10: Best = 1.6784893921719692, Worst = 3333335.009653528\n",
      "Generation 20: Best = 1.6755067457511448, Worst = 3333335.007891055\n",
      "Generation 26: Best = 1.6755067457511448, Worst = 1.6755067457511448\n",
      "Genetic algorithm applied.\n",
      "Final soft constraints: 1.6755067457511448, Final hard constraints: 0.0\n",
      "Data written to CSV.\n",
      "Selected file: sta-f-83\n",
      "Created instance sta-f-83.\n",
      "number of courses = 139, number of students = 611\n",
      "number of timeslots = 14, number of rooms = 10\n",
      "Trial number: 36\n"
     ]
    },
    {
     "data": {
      "application/vnd.jupyter.widget-view+json": {
       "model_id": "651799afacc4449b9476bf7797489513",
       "version_major": 2,
       "version_minor": 0
      },
      "text/plain": [
       "  0%|          | 0/83 [00:00<?, ?it/s]"
      ]
     },
     "metadata": {},
     "output_type": "display_data"
    },
    {
     "data": {
      "application/vnd.jupyter.widget-view+json": {
       "model_id": "60f48d86ee0b405489fb45cb9ec05f1d",
       "version_major": 2,
       "version_minor": 0
      },
      "text/plain": [
       "  0%|          | 0/17 [00:00<?, ?it/s]"
      ]
     },
     "metadata": {},
     "output_type": "display_data"
    },
    {
     "name": "stdout",
     "output_type": "stream",
     "text": [
      "Total population size: 100\n",
      "Population sorted.\n",
      "Initial soft constraints: 4.281633057059059, Initial hard constraints: 0.0\n"
     ]
    },
    {
     "data": {
      "application/vnd.jupyter.widget-view+json": {
       "model_id": "62426cf64b0144ad9b2fd1497e7de321",
       "version_major": 2,
       "version_minor": 0
      },
      "text/plain": [
       "  0%|          | 0/101 [00:00<?, ?it/s]"
      ]
     },
     "metadata": {},
     "output_type": "display_data"
    },
    {
     "name": "stdout",
     "output_type": "stream",
     "text": [
      "Generation 0: Best = 4.281633057059059, Worst = 430935256.3125078\n",
      "Generation 10: Best = 4.281633057059059, Worst = 4.862742499700456\n",
      "Generation 20: Best = 4.281633057059059, Worst = 4.370256474038727\n",
      "Generation 27: Best = 4.281633057059059, Worst = 4.281633057059059\n",
      "Genetic algorithm applied.\n",
      "Final soft constraints: 4.281633057059059, Final hard constraints: 0.0\n",
      "Data written to CSV.\n",
      "Selected file: tre-s-92\n",
      "Created instance tre-s-92.\n",
      "number of courses = 261, number of students = 4360\n",
      "number of timeslots = 24, number of rooms = 21\n",
      "Trial number: 37\n"
     ]
    },
    {
     "data": {
      "application/vnd.jupyter.widget-view+json": {
       "model_id": "a8b8621ecbd04a4aa09dcd0f1a2a0c28",
       "version_major": 2,
       "version_minor": 0
      },
      "text/plain": [
       "  0%|          | 0/34 [00:00<?, ?it/s]"
      ]
     },
     "metadata": {},
     "output_type": "display_data"
    },
    {
     "data": {
      "application/vnd.jupyter.widget-view+json": {
       "model_id": "a7371cfa5c14493281b2e579b166dd3b",
       "version_major": 2,
       "version_minor": 0
      },
      "text/plain": [
       "  0%|          | 0/66 [00:00<?, ?it/s]"
      ]
     },
     "metadata": {},
     "output_type": "display_data"
    },
    {
     "name": "stdout",
     "output_type": "stream",
     "text": [
      "Total population size: 100\n",
      "Population sorted.\n",
      "Initial soft constraints: 0.8074065455311271, Initial hard constraints: 0.0\n"
     ]
    },
    {
     "data": {
      "application/vnd.jupyter.widget-view+json": {
       "model_id": "fd602be1153246358c2fa5931742d3ec",
       "version_major": 2,
       "version_minor": 0
      },
      "text/plain": [
       "  0%|          | 0/101 [00:00<?, ?it/s]"
      ]
     },
     "metadata": {},
     "output_type": "display_data"
    },
    {
     "name": "stdout",
     "output_type": "stream",
     "text": [
      "Generation 0: Best = 0.8074065455311271, Worst = 936439519.4971566\n",
      "Generation 10: Best = 0.8074065455311271, Worst = 23809524.603815865\n",
      "Generation 20: Best = 0.8074065455311271, Worst = 7936508.753549034\n",
      "Generation 30: Best = 0.8074065455311271, Worst = 5952381.750983354\n",
      "Generation 40: Best = 0.8074065455311271, Worst = 0.8607426004145755\n",
      "Generation 42: Best = 0.8074065455311271, Worst = 0.8074065455311271\n",
      "Genetic algorithm applied.\n",
      "Final soft constraints: 0.8074065455311271, Final hard constraints: 0.0\n",
      "Data written to CSV.\n",
      "Selected file: uta-s-92\n",
      "Created instance uta-s-92.\n",
      "number of courses = 622, number of students = 21266\n",
      "number of timeslots = 36, number of rooms = 29\n",
      "Trial number: 38\n"
     ]
    },
    {
     "data": {
      "application/vnd.jupyter.widget-view+json": {
       "model_id": "d1e6d8bbb8904a42a5803ccea7155e73",
       "version_major": 2,
       "version_minor": 0
      },
      "text/plain": [
       "  0%|          | 0/20 [00:00<?, ?it/s]"
      ]
     },
     "metadata": {},
     "output_type": "display_data"
    },
    {
     "data": {
      "application/vnd.jupyter.widget-view+json": {
       "model_id": "ce466f205f1e4f178f15fff72e8eb02f",
       "version_major": 2,
       "version_minor": 0
      },
      "text/plain": [
       "  0%|          | 0/80 [00:00<?, ?it/s]"
      ]
     },
     "metadata": {},
     "output_type": "display_data"
    },
    {
     "name": "stdout",
     "output_type": "stream",
     "text": [
      "Total population size: 100\n",
      "Population sorted.\n",
      "Initial soft constraints: 0.5977502229680569, Initial hard constraints: 0.0\n"
     ]
    },
    {
     "data": {
      "application/vnd.jupyter.widget-view+json": {
       "model_id": "33f1d42e33144d4fbbf50a02430c43df",
       "version_major": 2,
       "version_minor": 0
      },
      "text/plain": [
       "  0%|          | 0/101 [00:00<?, ?it/s]"
      ]
     },
     "metadata": {},
     "output_type": "display_data"
    },
    {
     "name": "stdout",
     "output_type": "stream",
     "text": [
      "Generation 0: Best = 0.5977502229680569, Worst = 1004043932.9048152\n",
      "Generation 10: Best = 0.5977502229680569, Worst = 246528933.38315505\n",
      "Generation 17: Best = 0.5977502229680569, Worst = 0.5977502229680569\n",
      "Genetic algorithm applied.\n",
      "Final soft constraints: 0.5977502229680569, Final hard constraints: 0.0\n",
      "Data written to CSV.\n",
      "Selected file: yor-f-83\n",
      "Created instance yor-f-83.\n",
      "number of courses = 181, number of students = 941\n",
      "number of timeslots = 22, number of rooms = 18\n",
      "Trial number: 39\n"
     ]
    },
    {
     "data": {
      "application/vnd.jupyter.widget-view+json": {
       "model_id": "890a85c76b684761bc64596e538001fc",
       "version_major": 2,
       "version_minor": 0
      },
      "text/plain": [
       "  0%|          | 0/79 [00:00<?, ?it/s]"
      ]
     },
     "metadata": {},
     "output_type": "display_data"
    },
    {
     "data": {
      "application/vnd.jupyter.widget-view+json": {
       "model_id": "3b2f680df2484056950c382d33d98876",
       "version_major": 2,
       "version_minor": 0
      },
      "text/plain": [
       "  0%|          | 0/21 [00:00<?, ?it/s]"
      ]
     },
     "metadata": {},
     "output_type": "display_data"
    },
    {
     "name": "stdout",
     "output_type": "stream",
     "text": [
      "Total population size: 100\n",
      "Population sorted.\n",
      "Initial soft constraints: 0.8574426264343392, Initial hard constraints: 0.0\n"
     ]
    },
    {
     "data": {
      "application/vnd.jupyter.widget-view+json": {
       "model_id": "edf8ef8072df40a59bc034d7fc66e805",
       "version_major": 2,
       "version_minor": 0
      },
      "text/plain": [
       "  0%|          | 0/101 [00:00<?, ?it/s]"
      ]
     },
     "metadata": {},
     "output_type": "display_data"
    },
    {
     "name": "stdout",
     "output_type": "stream",
     "text": [
      "Generation 0: Best = 0.8574426264343392, Worst = 632512976.0033597\n",
      "Generation 8: Best = 0.8574426264343392, Worst = 0.8574426264343392\n",
      "Genetic algorithm applied.\n",
      "Final soft constraints: 0.8574426264343392, Final hard constraints: 0.0\n",
      "Data written to CSV.\n",
      "Selected file: car-s-91\n",
      "Created instance car-s-91.\n",
      "number of courses = 682, number of students = 16925\n",
      "number of timeslots = 36, number of rooms = 25\n",
      "Trial number: 40\n"
     ]
    },
    {
     "data": {
      "application/vnd.jupyter.widget-view+json": {
       "model_id": "01381a7f84d141ef925d1992e4b39002",
       "version_major": 2,
       "version_minor": 0
      },
      "text/plain": [
       "  0%|          | 0/66 [00:00<?, ?it/s]"
      ]
     },
     "metadata": {},
     "output_type": "display_data"
    },
    {
     "data": {
      "application/vnd.jupyter.widget-view+json": {
       "model_id": "7f4c4b14d04440c08f4ae871bd825dae",
       "version_major": 2,
       "version_minor": 0
      },
      "text/plain": [
       "  0%|          | 0/34 [00:00<?, ?it/s]"
      ]
     },
     "metadata": {},
     "output_type": "display_data"
    },
    {
     "name": "stdout",
     "output_type": "stream",
     "text": [
      "Total population size: 100\n",
      "Population sorted.\n",
      "Initial soft constraints: 0.589326226071831, Initial hard constraints: 0.0\n"
     ]
    },
    {
     "data": {
      "application/vnd.jupyter.widget-view+json": {
       "model_id": "ead5f9de90fa4476bc8e9cd7c171e3d0",
       "version_major": 2,
       "version_minor": 0
      },
      "text/plain": [
       "  0%|          | 0/101 [00:00<?, ?it/s]"
      ]
     },
     "metadata": {},
     "output_type": "display_data"
    },
    {
     "name": "stdout",
     "output_type": "stream",
     "text": [
      "Generation 0: Best = 0.589326226071831, Worst = 925913979.2925758\n",
      "Generation 10: Best = 0.589326226071831, Worst = 89488433.31516406\n",
      "Generation 20: Best = 0.589326226071831, Worst = 20218312.734322447\n",
      "Generation 30: Best = 0.589326226071831, Worst = 6666667.245728963\n"
     ]
    },
    {
     "ename": "KeyboardInterrupt",
     "evalue": "",
     "output_type": "error",
     "traceback": [
      "\u001b[1;31m---------------------------------------------------------------------------\u001b[0m",
      "\u001b[1;31mKeyboardInterrupt\u001b[0m                         Traceback (most recent call last)",
      "Cell \u001b[1;32mIn[21], line 47\u001b[0m\n\u001b[0;32m     44\u001b[0m \u001b[38;5;28mprint\u001b[39m(\u001b[38;5;124mf\u001b[39m\u001b[38;5;124m\"\u001b[39m\u001b[38;5;124mInitial soft constraints: \u001b[39m\u001b[38;5;132;01m{\u001b[39;00minitial_soft_constraints\u001b[38;5;132;01m}\u001b[39;00m\u001b[38;5;124m, Initial hard constraints: \u001b[39m\u001b[38;5;132;01m{\u001b[39;00minitial_hard_constraints\u001b[38;5;132;01m}\u001b[39;00m\u001b[38;5;124m\"\u001b[39m)\n\u001b[0;32m     46\u001b[0m \u001b[38;5;66;03m# Step 6: Apply genetic algorithm\u001b[39;00m\n\u001b[1;32m---> 47\u001b[0m improved_population \u001b[38;5;241m=\u001b[39m \u001b[43mgenetic_algorithm\u001b[49m\u001b[43m(\u001b[49m\u001b[43minstance1\u001b[49m\u001b[43m,\u001b[49m\u001b[43m \u001b[49m\u001b[43mtotal_population\u001b[49m\u001b[43m,\u001b[49m\u001b[43m \u001b[49m\u001b[38;5;241;43m100\u001b[39;49m\u001b[43m,\u001b[49m\u001b[43m \u001b[49m\u001b[38;5;241;43m100\u001b[39;49m\u001b[43m,\u001b[49m\u001b[43m \u001b[49m\u001b[38;5;241;43m50\u001b[39;49m\u001b[43m)\u001b[49m\n\u001b[0;32m     48\u001b[0m \u001b[38;5;28mprint\u001b[39m(\u001b[38;5;124m\"\u001b[39m\u001b[38;5;124mGenetic algorithm applied.\u001b[39m\u001b[38;5;124m\"\u001b[39m)\n\u001b[0;32m     50\u001b[0m \u001b[38;5;66;03m# Step 7: Record final constraints\u001b[39;00m\n",
      "Cell \u001b[1;32mIn[15], line 23\u001b[0m, in \u001b[0;36mgenetic_algorithm\u001b[1;34m(instance, initial_population, generations, pop_size, pool_size)\u001b[0m\n\u001b[0;32m     20\u001b[0m child1, child2 \u001b[38;5;241m=\u001b[39m crossover(parent1, parent2, crossover_rate)\n\u001b[0;32m     22\u001b[0m \u001b[38;5;28;01mif\u001b[39;00m np\u001b[38;5;241m.\u001b[39mrandom\u001b[38;5;241m.\u001b[39mrand() \u001b[38;5;241m<\u001b[39m mutation_rate:\n\u001b[1;32m---> 23\u001b[0m     child1 \u001b[38;5;241m=\u001b[39m \u001b[43mmutation\u001b[49m\u001b[43m(\u001b[49m\u001b[43mchild1\u001b[49m\u001b[43m,\u001b[49m\u001b[43m \u001b[49m\u001b[43mmutation_rate\u001b[49m\u001b[43m)\u001b[49m\n\u001b[0;32m     24\u001b[0m \u001b[38;5;28;01mif\u001b[39;00m np\u001b[38;5;241m.\u001b[39mrandom\u001b[38;5;241m.\u001b[39mrand() \u001b[38;5;241m<\u001b[39m mutation_rate:\n\u001b[0;32m     25\u001b[0m     child2 \u001b[38;5;241m=\u001b[39m mutation(child2, mutation_rate)\n",
      "Cell \u001b[1;32mIn[11], line 14\u001b[0m, in \u001b[0;36mmutation\u001b[1;34m(parent, mutation_rate)\u001b[0m\n\u001b[0;32m     11\u001b[0m mutate_mask \u001b[38;5;241m=\u001b[39m random_numbers \u001b[38;5;241m<\u001b[39m mutation_rate\n\u001b[0;32m     12\u001b[0m mutated_datetime[mutate_mask] \u001b[38;5;241m=\u001b[39m np\u001b[38;5;241m.\u001b[39mrandom\u001b[38;5;241m.\u001b[39mrandint(instance\u001b[38;5;241m.\u001b[39mnumDateTime, size \u001b[38;5;241m=\u001b[39m mutate_mask\u001b[38;5;241m.\u001b[39msum())\n\u001b[1;32m---> 14\u001b[0m \u001b[38;5;28;01mreturn\u001b[39;00m \u001b[43mTimetable\u001b[49m\u001b[43m(\u001b[49m\u001b[43minstance\u001b[49m\u001b[43m,\u001b[49m\u001b[43m \u001b[49m\u001b[43mmutated_room\u001b[49m\u001b[43m,\u001b[49m\u001b[43m \u001b[49m\u001b[43mmutated_datetime\u001b[49m\u001b[43m)\u001b[49m\n",
      "Cell \u001b[1;32mIn[5], line 8\u001b[0m, in \u001b[0;36mTimetable.__init__\u001b[1;34m(self, instance, r_a, d_a)\u001b[0m\n\u001b[0;32m      6\u001b[0m \u001b[38;5;28mself\u001b[39m\u001b[38;5;241m.\u001b[39md_a \u001b[38;5;241m=\u001b[39m d_a\n\u001b[0;32m      7\u001b[0m \u001b[38;5;28mself\u001b[39m\u001b[38;5;241m.\u001b[39mget_instance_values()\n\u001b[1;32m----> 8\u001b[0m \u001b[38;5;28;43mself\u001b[39;49m\u001b[38;5;241;43m.\u001b[39;49m\u001b[43mcreate_matrices\u001b[49m\u001b[43m(\u001b[49m\u001b[43m)\u001b[49m\n\u001b[0;32m      9\u001b[0m \u001b[38;5;28mself\u001b[39m\u001b[38;5;241m.\u001b[39mpenalty_dict \u001b[38;5;241m=\u001b[39m {\u001b[38;5;124m\"\u001b[39m\u001b[38;5;124moverlap violation\u001b[39m\u001b[38;5;124m\"\u001b[39m : \u001b[38;5;28mself\u001b[39m\u001b[38;5;241m.\u001b[39mcreate_overlap_check()\u001b[38;5;241m.\u001b[39msum(),\n\u001b[0;32m     10\u001b[0m                     \u001b[38;5;124m\"\u001b[39m\u001b[38;5;124mcapacity violation\u001b[39m\u001b[38;5;124m\"\u001b[39m : \u001b[38;5;28mself\u001b[39m\u001b[38;5;241m.\u001b[39mcreate_capacity_check()\u001b[38;5;241m.\u001b[39msum(),\n\u001b[0;32m     11\u001b[0m                     \u001b[38;5;124m\"\u001b[39m\u001b[38;5;124mfacility violation\u001b[39m\u001b[38;5;124m\"\u001b[39m : \u001b[38;5;28mself\u001b[39m\u001b[38;5;241m.\u001b[39mcreate_facility_check()\u001b[38;5;241m.\u001b[39msum(),\n\u001b[1;32m   (...)\u001b[0m\n\u001b[0;32m     14\u001b[0m                     \u001b[38;5;124m\"\u001b[39m\u001b[38;5;124mroom penalty\u001b[39m\u001b[38;5;124m\"\u001b[39m : \u001b[38;5;28mself\u001b[39m\u001b[38;5;241m.\u001b[39mcreate_room_penalty_matrix()\u001b[38;5;241m.\u001b[39msum()\n\u001b[0;32m     15\u001b[0m                     }\n\u001b[0;32m     16\u001b[0m \u001b[38;5;28mself\u001b[39m\u001b[38;5;241m.\u001b[39mnormalized_penalty \u001b[38;5;241m=\u001b[39m {name : \u001b[38;5;28mself\u001b[39m\u001b[38;5;241m.\u001b[39mpenalty_dict[name]\u001b[38;5;241m/\u001b[39m instance\u001b[38;5;241m.\u001b[39mmax_violation_dict[name] \u001b[38;5;28;01mfor\u001b[39;00m name \u001b[38;5;129;01min\u001b[39;00m \u001b[38;5;28mself\u001b[39m\u001b[38;5;241m.\u001b[39mpenalty_dict}\n",
      "Cell \u001b[1;32mIn[5], line 30\u001b[0m, in \u001b[0;36mTimetable.create_matrices\u001b[1;34m(self)\u001b[0m\n\u001b[0;32m     27\u001b[0m \u001b[38;5;28mself\u001b[39m\u001b[38;5;241m.\u001b[39mc_r_matrix \u001b[38;5;241m=\u001b[39m np\u001b[38;5;241m.\u001b[39meye(\u001b[38;5;28mself\u001b[39m\u001b[38;5;241m.\u001b[39mnumRooms, dtype\u001b[38;5;241m=\u001b[39m\u001b[38;5;28mint\u001b[39m)[\u001b[38;5;28mself\u001b[39m\u001b[38;5;241m.\u001b[39mr_a]\n\u001b[0;32m     28\u001b[0m \u001b[38;5;66;03m#self.s_d_matrix =  (csr_matrix(self.instance.s_c_matrix).dot(csr_matrix(self.c_d_matrix))).toarray()  #np.dot(self.instance.s_c_matrix, self.c_d_matrix) #self.s_c_sparse.T.dot(self.s_c_sparse).toarray()\u001b[39;00m\n\u001b[1;32m---> 30\u001b[0m \u001b[38;5;28mself\u001b[39m\u001b[38;5;241m.\u001b[39moverlap_check \u001b[38;5;241m=\u001b[39m \u001b[38;5;28;43mself\u001b[39;49m\u001b[38;5;241;43m.\u001b[39;49m\u001b[43mcreate_overlap_check\u001b[49m\u001b[43m(\u001b[49m\u001b[43m)\u001b[49m\n\u001b[0;32m     31\u001b[0m \u001b[38;5;28mself\u001b[39m\u001b[38;5;241m.\u001b[39mcapacity_check \u001b[38;5;241m=\u001b[39m \u001b[38;5;28mself\u001b[39m\u001b[38;5;241m.\u001b[39mcreate_capacity_check()\n\u001b[0;32m     32\u001b[0m \u001b[38;5;28mself\u001b[39m\u001b[38;5;241m.\u001b[39mfacility_check \u001b[38;5;241m=\u001b[39m \u001b[38;5;28mself\u001b[39m\u001b[38;5;241m.\u001b[39mcreate_facility_check()\n",
      "Cell \u001b[1;32mIn[5], line 36\u001b[0m, in \u001b[0;36mTimetable.create_overlap_check\u001b[1;34m(self)\u001b[0m\n\u001b[0;32m     35\u001b[0m \u001b[38;5;28;01mdef\u001b[39;00m \u001b[38;5;21mcreate_overlap_check\u001b[39m(\u001b[38;5;28mself\u001b[39m):\n\u001b[1;32m---> 36\u001b[0m     \u001b[38;5;28;01mreturn\u001b[39;00m ((\u001b[43mnp\u001b[49m\u001b[38;5;241;43m.\u001b[39;49m\u001b[43mdot\u001b[49m\u001b[43m(\u001b[49m\u001b[38;5;28;43mself\u001b[39;49m\u001b[38;5;241;43m.\u001b[39;49m\u001b[43minstance\u001b[49m\u001b[38;5;241;43m.\u001b[39;49m\u001b[43mconflict_boolean\u001b[49m\u001b[43m,\u001b[49m\u001b[43m \u001b[49m\u001b[38;5;28;43mself\u001b[39;49m\u001b[38;5;241;43m.\u001b[39;49m\u001b[43mc_d_matrix\u001b[49m\u001b[43m)\u001b[49m\u001b[38;5;241m-\u001b[39m\u001b[38;5;241m1\u001b[39m) \u001b[38;5;241m*\u001b[39m \u001b[38;5;28mself\u001b[39m\u001b[38;5;241m.\u001b[39mc_d_matrix)\u001b[38;5;241m.\u001b[39msum(axis\u001b[38;5;241m=\u001b[39m\u001b[38;5;241m1\u001b[39m)\u001b[38;5;241m.\u001b[39mastype(\u001b[38;5;28mbool\u001b[39m)\n",
      "File \u001b[1;32m<__array_function__ internals>:200\u001b[0m, in \u001b[0;36mdot\u001b[1;34m(*args, **kwargs)\u001b[0m\n",
      "\u001b[1;31mKeyboardInterrupt\u001b[0m: "
     ]
    }
   ],
   "source": [
    "import csv\n",
    "import time\n",
    "import numpy as np\n",
    "\n",
    "instance_list = ['car-s-91','car-f-92','ear-f-83', 'kfu-s-93', 'sta-f-83', 'tre-s-92', 'uta-s-92', 'yor-f-83']\n",
    "\n",
    "#instance_list = ['hec-s-92', 'lse-f-91', 'pur-s-93', 'rye-s-93',   'ute-s-92']\n",
    "# Initialize CSV file\n",
    "csv_file = \"observations.csv\"\n",
    "\n",
    "# Write headers only if the file does not exist\n",
    "header_written = False\n",
    "\n",
    "try:\n",
    "    with open(csv_file, mode='r'):\n",
    "        header_written = True  # The file exists and we assume the header is already written\n",
    "except FileNotFoundError:\n",
    "    header_written = False  # The file doesn't exist, we need to write the header\n",
    "\n",
    "for i in range(100):\n",
    "    # Step 1: Select a random file name\n",
    "    file_name = instance_list[i%len(instance_list)] #np.random.choice(instance_list)\n",
    "    print(f\"Selected file: {file_name}\")\n",
    "    instance1 = Instance(file_name)\n",
    "\n",
    "    # Step 2: Initialize trial parameters\n",
    "    trial_number = 1\n",
    "    print(f\"Trial number: {i}\")\n",
    "\n",
    "    # Step 3: Create populations\n",
    "    r = np.random.randint(1,100)\n",
    "    feasible_solutions = create_population(instance1, size=r)\n",
    "    infeasible_solutions = create_random_population(instance1, size=100-r)\n",
    "    total_population = feasible_solutions + infeasible_solutions\n",
    "    print(f\"Total population size: {len(total_population)}\")\n",
    "\n",
    "    # Step 4: Sort population based on criteria\n",
    "    sorted_population = sorted(total_population, key=criteria)\n",
    "    print(\"Population sorted.\")\n",
    "\n",
    "    # Step 5: Record initial constraints\n",
    "    initial_soft_constraints = sorted_population[0].soft_penalty\n",
    "    initial_hard_constraints = sorted_population[0].hard_penalty\n",
    "    print(f\"Initial soft constraints: {initial_soft_constraints}, Initial hard constraints: {initial_hard_constraints}\")\n",
    "\n",
    "    # Step 6: Apply genetic algorithm\n",
    "    improved_population = genetic_algorithm(instance1, total_population, 100, 100, 50)\n",
    "    print(\"Genetic algorithm applied.\")\n",
    "\n",
    "    # Step 7: Record final constraints\n",
    "    final_soft_constraints = improved_population[0].soft_penalty\n",
    "    final_hard_constraints = improved_population[0].hard_penalty\n",
    "    print(f\"Final soft constraints: {final_soft_constraints}, Final hard constraints: {final_hard_constraints}\")\n",
    "\n",
    "    # Step 8: Define the data structure for CSV\n",
    "    data = {\n",
    "        \"File Name\": file_name,\n",
    "        \"Trial Number\": i,\n",
    "        \"Initial Soft Constraints\": initial_soft_constraints,\n",
    "        \"Initial Hard Constraints\": initial_hard_constraints,\n",
    "        \"Final Soft Constraints\": final_soft_constraints,\n",
    "        \"Final Hard Constraints\": final_hard_constraints,\n",
    "        \"Timestamp\": time.strftime('%Y-%m-%d %H:%M:%S', time.localtime()),\n",
    "        \"feasible : infeasible\" : f\"{r}:{100-r}\"\n",
    "        \n",
    "    }\n",
    "\n",
    "    # Step 9: Write data to CSV\n",
    "    with open(csv_file, mode='a', newline='') as file:\n",
    "        writer = csv.DictWriter(file, fieldnames=data.keys())\n",
    "        if not header_written:\n",
    "            writer.writeheader()  # Write header only if it's not already written\n",
    "        writer.writerow(data)\n",
    "        print(\"Data written to CSV.\")\n",
    "\n",
    "print(f\"Data saved to {csv_file}\")\n"
   ]
  },
  {
   "cell_type": "code",
   "execution_count": null,
   "id": "ccb904dd",
   "metadata": {},
   "outputs": [],
   "source": [
    "np.random.randint(100)"
   ]
  },
  {
   "cell_type": "code",
   "execution_count": null,
   "id": "104edd11",
   "metadata": {},
   "outputs": [],
   "source": []
  }
 ],
 "metadata": {
  "kernelspec": {
   "display_name": "Python 3 (ipykernel)",
   "language": "python",
   "name": "python3"
  },
  "language_info": {
   "codemirror_mode": {
    "name": "ipython",
    "version": 3
   },
   "file_extension": ".py",
   "mimetype": "text/x-python",
   "name": "python",
   "nbconvert_exporter": "python",
   "pygments_lexer": "ipython3",
   "version": "3.11.2"
  }
 },
 "nbformat": 4,
 "nbformat_minor": 5
}
