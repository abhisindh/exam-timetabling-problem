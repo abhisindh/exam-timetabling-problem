{
 "cells": [
  {
   "cell_type": "code",
   "execution_count": 1,
   "id": "34e0e1d9",
   "metadata": {},
   "outputs": [],
   "source": [
    "import pandas as pd\n",
    "import numpy as np"
   ]
  },
  {
   "cell_type": "code",
   "execution_count": 2,
   "id": "6980d43a",
   "metadata": {},
   "outputs": [],
   "source": [
    "# To print big matrices as whole\n",
    "np.set_printoptions(linewidth=np.inf, threshold=np.inf)\n"
   ]
  },
  {
   "cell_type": "code",
   "execution_count": 3,
   "id": "ed688233",
   "metadata": {},
   "outputs": [],
   "source": [
    "instance_list = ['car-s-91','car-f-92','ear-f-83', 'hec-s-92', 'kfu-s-93', 'lse-f-91', 'pur-s-93', 'rye-s-93', 'sta-f-83', 'tre-s-92', 'uta-s-92', 'ute-s-92', 'yor-f-83']"
   ]
  },
  {
   "cell_type": "code",
   "execution_count": 4,
   "id": "f23b1d0e",
   "metadata": {},
   "outputs": [],
   "source": [
    "\n",
    "data_folder = '../data'\n",
    "class Instance():\n",
    "    def __init__(self, file_name):\n",
    "        self.file_name = file_name\n",
    "        self.get_room_data()\n",
    "        self.get_room_preference()\n",
    "        self.get_course_data()\n",
    "        self.get_dates()\n",
    "        self.get_times()\n",
    "        self.get_datetime_preference()\n",
    "        self.get_student_data()\n",
    "        \n",
    "    def get_room_data(self):\n",
    "        self.room_df = pd.read_csv(f\"{data_folder}/{self.file_name}/room_data.csv\")\n",
    "        self.capacityList = self.room_df['Capacity'].to_numpy(int)\n",
    "        self.roomList = self.room_df['RoomId'].to_numpy()\n",
    "        self.numRooms = len(self.roomList)\n",
    "        self.r_f_matrix = self.room_df.drop(['RoomId', 'Capacity'], axis=1).to_numpy(int)\n",
    "        self.roomIndex = {room: idx for idx, room in enumerate(self.roomList)}\n",
    "        \n",
    "    def get_room_preference(self):\n",
    "        self.room_preference_df = pd.read_csv(f\"{data_folder}/{self.file_name}/room_preference.csv\")\n",
    "        self.r_pref_matrix = self.room_preference_df.drop(['courseId'], axis=1).to_numpy(int)\n",
    "        \n",
    "    def get_course_data(self):\n",
    "        self.course_df = pd.read_csv(f\"{data_folder}/{self.file_name}/course_data.csv\")\n",
    "        self.courseList = self.course_df['courseId'].to_numpy()\n",
    "        self.numCourses = len(self.courseList)\n",
    "        self.courseIndex = {course: idx for idx, course in enumerate(self.courseList)}\n",
    "        self.numStudentsList = self.course_df['numStudents'].to_numpy(int)\n",
    "        self.c_f_matrix = self.course_df.drop(['courseId', 'numStudents'], axis=1).to_numpy(int)\n",
    "        self.c_r_feasible = self.create_c_r_feasibility().astype(int)\n",
    "        \n",
    "    def get_dates(self):\n",
    "        self.date_df = pd.read_csv(f\"{data_folder}/{self.file_name}/dates.csv\")\n",
    "        self.dateList = self.date_df['Date'].to_numpy()\n",
    "        self.tDayList = self.date_df['T-Day'].to_numpy()\n",
    "        self.numDays = len(self.dateList)\n",
    "        \n",
    "    def get_times(self):\n",
    "        self.time_df = pd.read_csv(f\"{data_folder}/{self.file_name}/times.csv\")\n",
    "        self.timeList = self.time_df['Time'].to_numpy()\n",
    "        self.dateTimeList = np.array([date + 'T' + time for date in self.dateList for time in self.timeList])\n",
    "        self.numDateTime = len(self.dateTimeList)\n",
    "        \n",
    "    def get_datetime_preference(self):\n",
    "        self.datetime_preference_df = pd.read_csv(f\"{data_folder}/{self.file_name}/datetime_preference.csv\")\n",
    "        self.d_pref_matrix = self.datetime_preference_df.drop(['courseId'], axis=1).to_numpy(int)               \n",
    "      \n",
    "    def get_student_data(self):\n",
    "        self.student_df = pd.read_csv(f\"{data_folder}/{self.file_name}/student_data.csv\")\n",
    "        self.studentList = self.student_df['rollNum'].to_numpy()\n",
    "        self.student_df.set_index('rollNum', inplace=True)\n",
    "        self.numStudents = len(self.studentList)\n",
    "        self.studentIndex = {student: idx for idx, student in enumerate(self.studentList)}\n",
    "        self.s_c_matrix =  self.create_s_c_matrix().astype(int)\n",
    "        self.conflict_matrix = np.dot(self.s_c_matrix.T, self.s_c_matrix)\n",
    "        self.conflict_boolean = self.conflict_matrix.astype(bool)\n",
    "        \n",
    "    def create_s_c_matrix(self):\n",
    "        s_c_matrix = np.zeros((self.numStudents, self.numCourses), dtype=int) # Student- Course boolean matrix from dataset\n",
    "        for student in self.studentList:\n",
    "            courses = self.student_df.at[student, 'coursesEnrolled'].split()\n",
    "            s_id = self.studentIndex[student]\n",
    "            for course in courses:\n",
    "                c_id = self.courseIndex[course]\n",
    "                s_c_matrix[s_id, c_id] = 1\n",
    "        return s_c_matrix\n",
    "    \n",
    "    def create_c_r_feasibility(self):\n",
    "        total_facilities_required = self.c_f_matrix.sum(axis=1)[:,np.newaxis]\n",
    "        total_facilities_available = np.dot(self.c_f_matrix, self.r_f_matrix.T)\n",
    "        self.c_r_facility = (total_facilities_available >= total_facilities_required).astype(int)\n",
    "        \n",
    "        capacity_required = self.numStudentsList[:,np.newaxis]\n",
    "        capacity_available = self.capacityList\n",
    "        self.c_r_capacity = (capacity_available >= capacity_required).astype(int)\n",
    "        \n",
    "        return self.c_r_facility & self.c_r_capacity\n",
    "    \n",
    "    \n",
    "    \n",
    "        \n",
    "        "
   ]
  },
  {
   "cell_type": "code",
   "execution_count": 8,
   "id": "721134d8",
   "metadata": {},
   "outputs": [],
   "source": [
    "instance = Instance(instance_list[1])"
   ]
  },
  {
   "cell_type": "code",
   "execution_count": null,
   "id": "e025a6b9",
   "metadata": {},
   "outputs": [],
   "source": []
  },
  {
   "cell_type": "code",
   "execution_count": null,
   "id": "193d5fdd",
   "metadata": {},
   "outputs": [],
   "source": [
    "class Timetable():\n",
    "    \n",
    "    def __init__(self, instance, r_a, d_a):\n",
    "        self.instance = instance\n",
    "        self.r_a = r_a\n",
    "        self.d_a = d_a\n",
    "        self.get_instance_values()\n",
    "        self.create_matrices()\n",
    "        \n",
    "    def get_instance_values(self):\n",
    "        self.numCourses = self.instance.numCourses\n",
    "        self.numRooms = self.instance.numRooms\n",
    "        self.numDateTime = self.instance.numDateTime\n",
    "        \n",
    "    def create_matrices(self):\n",
    "        self.c_d_matrix = np.eye(self.numDateTime, dtype=int)[d_a]\n",
    "        self.c_r_matrix = np.eye(self.numRooms, dtype=int)[r_a]\n",
    "        self.s_d_matrix = np.dot(self.instance.s_c_matrix, self.c_d_matrix)\n",
    "        \n",
    "        self.overlap_check = self.create_overlap_check()\n",
    "        self.capacity_check = self.create_capacity_check()\n",
    "        self.facility_check = self.create_facility_check()\n",
    "        \n",
    "    def create_overlap_check(self):\n",
    "        return np.where(self.s_d_matrix > 1 , self.s_d_matrix-1, 0)\n",
    "    \n",
    "    def create_capacity_check(self):\n",
    "        c_r_student = self.c_r_matrix * self.instance.numStudentsList[:,None] # in course-room binary matrix, change 1 to number of students writng that exma\n",
    "        r_d_student = np.dot(c_r_student.T, self.c_d_matrix)\n",
    "        return (r_d_student > self.instance.capacityList[:,np.newaxis] ).astype(int)\n",
    "    def create_facility_check(self):\n",
    "        required_facility = self.instance.c_f_matrix\n",
    "        available_facility = self.instance.r_f_matrix[self.r_a, :]\n",
    "        return (required_facility > available_facility).astype(int)\n"
   ]
  },
  {
   "cell_type": "code",
   "execution_count": null,
   "id": "b9f04af2",
   "metadata": {},
   "outputs": [],
   "source": [
    "r_a = np.random.randint(low=0, high=instance.numRooms, size=instance.numCourses)\n",
    "d_a = np.random.randint(low=0, high=instance.numDateTime, size=instance.numCourses)\n",
    "timetable = Timetable(instance, r_a, d_a)"
   ]
  },
  {
   "cell_type": "code",
   "execution_count": null,
   "id": "96a7216c",
   "metadata": {},
   "outputs": [],
   "source": [
    "def overlap_check(timetable):\n",
    "    return np.where(timetable.s_d_matrix > 1 , timetable.s_d_matrix-1, 0)"
   ]
  },
  {
   "cell_type": "code",
   "execution_count": null,
   "id": "9a8bbff6",
   "metadata": {},
   "outputs": [],
   "source": [
    "def capacity_check(timetable):\n",
    "    c_r_student = timetable.c_r_matrix * timetable.instance.numStudentsList[:,None] # in course-room binary matrix, change 1 to number of students writng that exma\n",
    "    r_d_student = np.dot(c_r_student.T, timetable.c_d_matrix)\n",
    "    return (r_d_student > timetable.instance.capacityList[:,np.newaxis] ).astype(int)"
   ]
  },
  {
   "cell_type": "code",
   "execution_count": null,
   "id": "0ceaee6c",
   "metadata": {},
   "outputs": [],
   "source": [
    "def create_facility_check(self):\n",
    "    required_facility = self.instance.c_f_matrix\n",
    "    available_facility = self.instance.r_f_matrix[self.r_a, :]\n",
    "    return (required_facility > available_facility).astype(int)"
   ]
  },
  {
   "cell_type": "code",
   "execution_count": null,
   "id": "9c3ad2e5",
   "metadata": {},
   "outputs": [],
   "source": [
    "proximity = lambda d_i, d_j: 2 ** (5 - abs(d_i - d_j))"
   ]
  },
  {
   "cell_type": "code",
   "execution_count": null,
   "id": "7a22a4d0",
   "metadata": {},
   "outputs": [],
   "source": [
    "def proximity_penalty(timetable):\n",
    "    proximity = lambda di, dj: 2 ** (5 - abs(di - dj))\n",
    "    "
   ]
  }
 ],
 "metadata": {
  "kernelspec": {
   "display_name": "Python 3 (ipykernel)",
   "language": "python",
   "name": "python3"
  },
  "language_info": {
   "codemirror_mode": {
    "name": "ipython",
    "version": 3
   },
   "file_extension": ".py",
   "mimetype": "text/x-python",
   "name": "python",
   "nbconvert_exporter": "python",
   "pygments_lexer": "ipython3",
   "version": "3.11.2"
  }
 },
 "nbformat": 4,
 "nbformat_minor": 5
}
