{
 "cells": [
  {
   "cell_type": "code",
   "execution_count": 1,
   "id": "34e0e1d9",
   "metadata": {},
   "outputs": [],
   "source": [
    "import pandas as pd\n",
    "import numpy as np\n",
    "from tqdm.notebook import tqdm\n",
    "from scipy.sparse import csr_matrix"
   ]
  },
  {
   "cell_type": "code",
   "execution_count": 2,
   "id": "6980d43a",
   "metadata": {},
   "outputs": [],
   "source": [
    "# To print big matrices as whole\n",
    "np.set_printoptions(linewidth=np.inf, threshold=np.inf)"
   ]
  },
  {
   "cell_type": "code",
   "execution_count": 3,
   "id": "ed688233",
   "metadata": {},
   "outputs": [],
   "source": [
    "instance_list = ['car-s-91','car-f-92','ear-f-83', 'hec-s-92', 'kfu-s-93', 'lse-f-91', 'pur-s-93', 'rye-s-93', 'sta-f-83', 'tre-s-92', 'uta-s-92', 'ute-s-92', 'yor-f-83']"
   ]
  },
  {
   "cell_type": "code",
   "execution_count": 4,
   "id": "f23b1d0e",
   "metadata": {},
   "outputs": [],
   "source": [
    "data_folder = '../data'\n",
    "class Instance():\n",
    "    def __init__(self, file_name):\n",
    "        self.file_name = file_name\n",
    "        self.get_room_data()\n",
    "        self.get_room_preference()\n",
    "        self.get_course_data()\n",
    "        self.get_dates()\n",
    "        self.get_times()\n",
    "        self.get_datetime_preference()\n",
    "        self.get_student_data()\n",
    "        self.max_violation_dict = {\"overlap violation\" : self.numCourses,\n",
    "                                    \"capacity violation\" : self.numRooms * self.numDateTime,\n",
    "                                    \"facility violation\" : self.numCourses,\n",
    "                                    \"proximity penalty\" : np.triu(self.conflict_boolean, k=1).sum() * (2**5),\n",
    "                                    \"date time penalty\" : 2**5 * self.numCourses,\n",
    "                                    \"room penalty\" : 2**5 *self.numCourses\n",
    "                                    }\n",
    "        print(f\"Created instance {file_name}.\")\n",
    "        print(f\"number of courses = {self.numCourses}, number of students = {self.numStudents}\")\n",
    "        print(f\"number of timeslots = {self.numDateTime}, number of rooms = {self.numRooms}\")\n",
    "        \n",
    "    def get_room_data(self):\n",
    "        self.room_df = pd.read_csv(f\"{data_folder}/{self.file_name}/room_data.csv\")\n",
    "        self.capacityList = self.room_df['Capacity'].to_numpy(int)\n",
    "        self.roomList = self.room_df['RoomId'].to_numpy()\n",
    "        self.numRooms = len(self.roomList)\n",
    "        self.r_f_matrix = self.room_df.drop(['RoomId', 'Capacity'], axis=1).to_numpy(int)\n",
    "        self.roomIndex = {room: idx for idx, room in enumerate(self.roomList)}\n",
    "        \n",
    "    def get_room_preference(self):\n",
    "        self.room_preference_df = pd.read_csv(f\"{data_folder}/{self.file_name}/room_preference.csv\")\n",
    "        self.r_pref_matrix = self.room_preference_df.drop(['courseId'], axis=1).to_numpy(int)\n",
    "        \n",
    "    def get_course_data(self):\n",
    "        self.course_df = pd.read_csv(f\"{data_folder}/{self.file_name}/course_data.csv\")\n",
    "        self.courseList = self.course_df['courseId'].to_numpy()\n",
    "        self.numCourses = len(self.courseList)\n",
    "        self.courseIndex = {course: idx for idx, course in enumerate(self.courseList)}\n",
    "        self.numStudentsList = self.course_df['numStudents'].to_numpy(int)\n",
    "        self.c_f_matrix = self.course_df.drop(['courseId', 'numStudents'], axis=1).to_numpy(int)\n",
    "        self.c_r_feasible = self.create_c_r_feasibility().astype(int)\n",
    "        \n",
    "    def get_dates(self):\n",
    "        self.date_df = pd.read_csv(f\"{data_folder}/{self.file_name}/dates.csv\")\n",
    "        self.dateList = self.date_df['Date'].to_numpy()\n",
    "        self.tDayList = self.date_df['T-Day'].to_numpy()\n",
    "        self.numDays = len(self.dateList)\n",
    "        \n",
    "    def get_times(self):\n",
    "        self.time_df = pd.read_csv(f\"{data_folder}/{self.file_name}/times.csv\")\n",
    "        self.timeList = self.time_df['Time'].to_numpy()\n",
    "        self.numTime = len(self.timeList)\n",
    "        self.dateTimeList = np.array([date + 'T' + time for date in self.dateList for time in self.timeList])\n",
    "        self.numDateTime = len(self.dateTimeList)\n",
    "        self.datetime_tday = {self.dateTimeList[i]:self.tDayList[i//self.numTime] for i in range(self.numDateTime)}\n",
    "        \n",
    "    def get_datetime_preference(self):\n",
    "        self.datetime_preference_df = pd.read_csv(f\"{data_folder}/{self.file_name}/datetime_preference.csv\")\n",
    "        self.d_pref_matrix = self.datetime_preference_df.drop(['courseId'], axis=1).to_numpy(int)              \n",
    "        \n",
    "    def get_student_data(self):\n",
    "        self.student_df = pd.read_csv(f\"{data_folder}/{self.file_name}/student_data.csv\")\n",
    "        self.studentList = self.student_df['rollNum'].to_numpy()\n",
    "        self.student_df.set_index('rollNum', inplace=True)\n",
    "        self.numStudents = len(self.studentList)\n",
    "        self.studentIndex = {student: idx for idx, student in enumerate(self.studentList)}\n",
    "        self.s_c_matrix =  self.create_s_c_matrix().astype(int)\n",
    "        self.s_c_sparse = csr_matrix(self.s_c_matrix) # converting to sparse matrix due to large size\n",
    "        self.conflict_matrix = self.s_c_sparse.T.dot(self.s_c_sparse).toarray()\n",
    "        self.conflict_boolean = self.conflict_matrix.astype(bool)\n",
    "        \n",
    "    def create_s_c_matrix(self):\n",
    "        s_c_matrix = np.zeros((self.numStudents, self.numCourses), dtype=int) # Student- Course boolean matrix from dataset\n",
    "        for student in self.studentList:\n",
    "            courses = self.student_df.at[student, 'coursesEnrolled'].split()\n",
    "            s_id = self.studentIndex[student]\n",
    "            for course in courses:\n",
    "                c_id = self.courseIndex[course]\n",
    "                s_c_matrix[s_id, c_id] = 1\n",
    "        return s_c_matrix\n",
    "    \n",
    "    def create_c_r_feasibility(self):\n",
    "        total_facilities_required = self.c_f_matrix.sum(axis=1)[:,np.newaxis]\n",
    "        total_facilities_available = np.dot(self.c_f_matrix, self.r_f_matrix.T)\n",
    "        self.c_r_facility = (total_facilities_available >= total_facilities_required).astype(int)\n",
    "        \n",
    "        capacity_required = self.numStudentsList[:,np.newaxis]\n",
    "        capacity_available = self.capacityList\n",
    "        self.c_r_capacity = (capacity_available >= capacity_required).astype(int)\n",
    "        \n",
    "        return self.c_r_facility & self.c_r_capacity"
   ]
  },
  {
   "cell_type": "code",
   "execution_count": 5,
   "id": "193d5fdd",
   "metadata": {},
   "outputs": [],
   "source": [
    "class Timetable():\n",
    "    \n",
    "    def __init__(self, instance, r_a, d_a):\n",
    "        self.instance = instance\n",
    "        self.r_a = r_a\n",
    "        self.d_a = d_a\n",
    "        self.get_instance_values()\n",
    "        self.create_matrices()\n",
    "        self.penalty_dict = {\"overlap violation\" : self.create_overlap_check().sum(),\n",
    "                            \"capacity violation\" : self.create_capacity_check().sum(),\n",
    "                            \"facility violation\" : self.create_facility_check().sum(),\n",
    "                            \"proximity penalty\" : self.create_proximity_matrix().sum(),\n",
    "                            \"date time penalty\" : self.create_date_penalty_matrix().sum(),\n",
    "                            \"room penalty\" : self.create_room_penalty_matrix().sum()\n",
    "                            }\n",
    "        self.normalized_penalty = {name : self.penalty_dict[name]/ instance.max_violation_dict[name] for name in self.penalty_dict}\n",
    "        self.soft_penalty = sum(list(self.normalized_penalty.values())[3:])\n",
    "        self.hard_penalty = sum(list(self.normalized_penalty.values())[:3])\n",
    "        \n",
    "    def get_instance_values(self):\n",
    "        self.numCourses = self.instance.numCourses\n",
    "        self.numRooms = self.instance.numRooms\n",
    "        self.numDateTime = self.instance.numDateTime\n",
    "        \n",
    "    def create_matrices(self):\n",
    "        self.c_d_matrix = np.eye(self.numDateTime, dtype=int)[self.d_a]\n",
    "        self.c_r_matrix = np.eye(self.numRooms, dtype=int)[self.r_a]\n",
    "        #self.s_d_matrix =  (csr_matrix(self.instance.s_c_matrix).dot(csr_matrix(self.c_d_matrix))).toarray()  #np.dot(self.instance.s_c_matrix, self.c_d_matrix) #self.s_c_sparse.T.dot(self.s_c_sparse).toarray()\n",
    "        \n",
    "        self.overlap_check = self.create_overlap_check()\n",
    "        self.capacity_check = self.create_capacity_check()\n",
    "        self.facility_check = self.create_facility_check()\n",
    "        self.proximity_matrix = self.create_proximity_matrix()\n",
    "        \n",
    "    def create_overlap_check(self):\n",
    "        return ((np.dot(self.instance.conflict_boolean, self.c_d_matrix)-1) * self.c_d_matrix).sum(axis=1).astype(bool)\n",
    "    \n",
    "    def create_capacity_check(self):\n",
    "        c_r_student = self.c_r_matrix * self.instance.numStudentsList[:,None] # in course-room binary matrix, change 1 to number of students writng that exma\n",
    "        r_d_student = (csr_matrix(c_r_student).T.dot(csr_matrix(self.c_d_matrix))).toarray()                            #np.dot(c_r_student.T, self.c_d_matrix)\n",
    "        return (r_d_student > self.instance.capacityList[:,np.newaxis] ).astype(int)\n",
    "    \n",
    "    def create_facility_check(self):\n",
    "        required_facility = self.instance.c_f_matrix\n",
    "        available_facility = self.instance.r_f_matrix[self.r_a, :]\n",
    "        return (required_facility > available_facility).sum(axis=1).astype(bool)\n",
    "\n",
    "    def create_proximity_matrix(timetable):\n",
    "        # upper triangular matrix of size (numCourse x numCourse) that shows proximity of two courses if they have conflict\n",
    "        tdayAssigned = timetable.instance.tDayList[timetable.d_a // timetable.instance.numTime]  # Calculate tday assignments\n",
    "        diff_matrix = np.abs(tdayAssigned[:, None] - tdayAssigned)  # Calculate absolute differences\n",
    "        proximity_matrix = np.triu(np.where(diff_matrix < 5, np.power(2, abs(5 - diff_matrix)), 0), k=1)  # Calculate proximity penalty\n",
    "        return proximity_matrix*timetable.instance.conflict_matrix\n",
    "    \n",
    "    def create_date_penalty_matrix(timetable):\n",
    "        c_d_preference = timetable.c_d_matrix* timetable.instance.d_pref_matrix\n",
    "        return np.where((c_d_preference==5) | (c_d_preference==0), 0 , 2**(5-c_d_preference))\n",
    "    \n",
    "    def create_room_penalty_matrix(timetable):\n",
    "        return timetable.c_r_matrix*np.where(timetable.instance.r_pref_matrix==5, 0, 2**(5-timetable.instance.r_pref_matrix))\n",
    "    \n",
    "    def display(self):\n",
    "        data = {\"courses\" : self.instance.courseList,\n",
    "                \"room\" : [self.instance.roomList[room] for room in self.r_a],\n",
    "                \"datetime\" : [self.instance.dateTimeList[datetime] for datetime in self.d_a]\n",
    "                }\n",
    "        return pd.DataFrame(data)"
   ]
  },
  {
   "cell_type": "code",
   "execution_count": 6,
   "id": "7a71f080",
   "metadata": {},
   "outputs": [],
   "source": [
    "def create_timetable(instance, heuristic='random'):\n",
    "    numCourses = instance.numCourses\n",
    "    numDateTime = instance.numDateTime\n",
    "    numRooms = instance.numRooms\n",
    "    shuffledDatetimeList = np.random.permutation(np.arange(numDateTime))\n",
    "    \n",
    "    # Initialize assignments\n",
    "    d_a = np.full(numCourses, -1)\n",
    "    r_a = np.full(numCourses, -1)\n",
    "    r_d_capacity = np.tile(instance.capacityList, (numDateTime, 1))\n",
    "    \n",
    "    # Initialize course order based on heuristic\n",
    "    \n",
    "    if heuristic == 'conflict_count':\n",
    "        conflict_count = instance.conflict_boolean.sum(axis=1)\n",
    "        sorted_courses = np.argsort(conflict_count)[::-1]\n",
    "    elif heuristic == 'conflict_degree':\n",
    "        conflict_degree = instance.conflict_matrix.sum(axis=1)\n",
    "        sorted_courses = np.argsort(conflict_degree)[::-1]\n",
    "    else:\n",
    "        raise ValueError(f\"Unknown heuristic: {heuristic}\")\n",
    "\n",
    "    datetime_course = {dt: [] for dt in range(numDateTime)}\n",
    "    \n",
    "    # Assign courses to datetimes and rooms\n",
    "    for course in sorted_courses:\n",
    "        required_capacity = instance.numStudentsList[course]\n",
    "        \n",
    "        # Find available datetimes with no conflicts\n",
    "        available_datetimes = []\n",
    "        for dt in shuffledDatetimeList:\n",
    "            if all(not instance.conflict_boolean[course, other_course] for other_course in datetime_course[dt]):\n",
    "                available_datetimes.append(dt)\n",
    "        \n",
    "        if not available_datetimes:\n",
    "            return None, None\n",
    "\n",
    "        # Find available rooms for the selected datetime\n",
    "        room_assigned = False\n",
    "        for chosen_dt in available_datetimes:\n",
    "            available_rooms = [room for room in range(numRooms) \n",
    "                               if instance.c_r_facility[course, room] and r_d_capacity[chosen_dt, room] >= required_capacity]\n",
    "            if available_rooms:\n",
    "                chosen_room = np.random.choice(available_rooms)\n",
    "                d_a[course] = chosen_dt\n",
    "                r_a[course] = chosen_room\n",
    "                r_d_capacity[chosen_dt, chosen_room] -= required_capacity\n",
    "                datetime_course[chosen_dt].append(course)\n",
    "                room_assigned = True\n",
    "                break\n",
    "        \n",
    "        if not room_assigned:\n",
    "            return None, None\n",
    "    \n",
    "    return r_a, d_a\n"
   ]
  },
  {
   "cell_type": "code",
   "execution_count": 7,
   "id": "5a542226",
   "metadata": {},
   "outputs": [],
   "source": [
    "def create_population(instance, heuristic='conflict_count', size=100):\n",
    "    population = []\n",
    "    for _ in tqdm(range(size)):\n",
    "        r_a = d_a = None\n",
    "        while r_a is None:\n",
    "            r_a, d_a = create_timetable(instance, heuristic )\n",
    "        timetable = Timetable(instance, r_a, d_a)\n",
    "        population.append(timetable)\n",
    "    return population"
   ]
  },
  {
   "cell_type": "code",
   "execution_count": 8,
   "id": "974699e5",
   "metadata": {},
   "outputs": [],
   "source": [
    "def create_random_population(instance, size=100):\n",
    "    population = []\n",
    "    for _ in tqdm(range(size)):\n",
    "        d_a = np.random.randint(low=0, high=instance.numDateTime, size=instance.numCourses)\n",
    "        r_a = np.random.randint(low=0, high=instance.numRooms, size=instance.numCourses)\n",
    "        population.append(Timetable(instance, r_a, d_a))\n",
    "    return population"
   ]
  },
  {
   "cell_type": "code",
   "execution_count": 9,
   "id": "32035fe8",
   "metadata": {},
   "outputs": [],
   "source": [
    "def tournmanet_selection(population, pool_size, k=3):\n",
    "    population = np.array(population)\n",
    "    selected = []\n",
    "    for i in range(pool_size):\n",
    "        tournament_indices = np.random.choice(len(population), size=k, replace=False)\n",
    "        tournament = population[tournament_indices]\n",
    "        winner = min(tournament, key=lambda x: x.soft_penalty)\n",
    "        selected.append(winner)\n",
    "    return selected"
   ]
  },
  {
   "cell_type": "code",
   "execution_count": 10,
   "id": "a275e184",
   "metadata": {},
   "outputs": [],
   "source": [
    "def crossover(parent1, parent2, crossover_prob = 0.8):\n",
    "    # if np.random.random() > crossover_prob:\n",
    "    #     return parent1, parent2\n",
    "    \n",
    "    instance = parent1.instance\n",
    "    numCourses = instance.numCourses\n",
    "    ra_1 = parent1.r_a\n",
    "    ra_2 = parent2.r_a\n",
    "    da_1 = parent1.d_a\n",
    "    da_2 = parent2.d_a\n",
    "\n",
    "    r_crossover = np.random.randint(1, numCourses)\n",
    "    ra_3 = np.concatenate((ra_1[:r_crossover], ra_2[r_crossover:]))\n",
    "    ra_4 = np.concatenate((ra_2[:r_crossover], ra_1[r_crossover:]))\n",
    "\n",
    "    d_crossover = np.random.randint(1, numCourses)\n",
    "    da_3 = np.concatenate((da_1[:d_crossover], da_2[d_crossover:]))\n",
    "    da_4 = np.concatenate((da_2[:d_crossover], da_1[d_crossover:]))\n",
    "\n",
    "    return Timetable(instance, ra_3, da_3), Timetable(instance, ra_4, da_4)"
   ]
  },
  {
   "cell_type": "code",
   "execution_count": 11,
   "id": "82caa8f4",
   "metadata": {},
   "outputs": [],
   "source": [
    "def mutation(parent, mutation_rate = 0.5):\n",
    "    # room\n",
    "    instance = parent.instance\n",
    "    mutated_room = parent.r_a.copy()\n",
    "    random_numbers = np.random.rand(instance.numCourses)\n",
    "    mutate_mask = random_numbers < mutation_rate\n",
    "    mutated_room[mutate_mask] = np.random.randint(instance.numRooms, size = mutate_mask.sum())\n",
    "    #datetime\n",
    "    mutated_datetime = parent.d_a.copy()\n",
    "    random_numbers = np.random.rand(instance.numCourses)\n",
    "    mutate_mask = random_numbers < mutation_rate\n",
    "    mutated_datetime[mutate_mask] = np.random.randint(instance.numDateTime, size = mutate_mask.sum())\n",
    "\n",
    "    return Timetable(instance, mutated_room, mutated_datetime)"
   ]
  },
  {
   "cell_type": "code",
   "execution_count": 12,
   "id": "c109e708",
   "metadata": {},
   "outputs": [],
   "source": [
    "def weighted_penalty(timetable, weight= 100):\n",
    "    return timetable.soft_penalty + timetable.hard_penalty*weight"
   ]
  },
  {
   "cell_type": "code",
   "execution_count": 13,
   "id": "5e8504f5",
   "metadata": {},
   "outputs": [],
   "source": [
    "def euclidean_distance(sol1, sol2):\n",
    "    room_distance = np.sum((sol1.r_a - sol2.r_a)**2)\n",
    "    datetime_distance = np.sum((sol1.d_a - sol2.d_a)**2)\n",
    "    return np.sqrt(room_distance + datetime_distance)"
   ]
  },
  {
   "cell_type": "code",
   "execution_count": 14,
   "id": "2106c39e",
   "metadata": {},
   "outputs": [],
   "source": [
    "def repair(input_solution, feasible_solutions, curr_depth=0, verbose=False):\n",
    "    instance = input_solution.instance\n",
    "    \n",
    "    print(verbose * f\"Repairing: depth={curr_depth}, hard_penalty={input_solution.hard_penalty}\\n\", end='')\n",
    "    \n",
    "    if input_solution.hard_penalty == 0 or curr_depth > 10:\n",
    "        print(verbose * f\"Returning solution: depth={curr_depth}, hard_penalty={input_solution.hard_penalty}\\n\", end='')\n",
    "        return input_solution\n",
    "\n",
    "    best_donor = min(feasible_solutions, key=lambda sol: euclidean_distance(input_solution, sol))\n",
    "    print(verbose * f\"Best donor selected: {best_donor}\\n\", end='')\n",
    "        \n",
    "    for i in range(instance.numRooms):\n",
    "        if input_solution.overlap_check[i] or input_solution.facility_check[i] or input_solution.capacity_check[input_solution.r_a[i], input_solution.d_a[i]]:\n",
    "            r_a_copy = input_solution.r_a[:]\n",
    "            d_a_copy = input_solution.d_a[:]\n",
    "            d_a_copy[i] = best_donor.d_a[i]  # exchange date with best donor\n",
    "            solution_copy = Timetable(instance, r_a_copy, d_a_copy)\n",
    "            \n",
    "            print(verbose * f\"Trying date exchange: index={i}, donor date={best_donor.d_a[i]}\\n\", end='')\n",
    "            \n",
    "            if solution_copy.hard_penalty < input_solution.hard_penalty:  # check for reduction in hard penalty\n",
    "                print(verbose * f\"Date exchange improved solution: index={i}, new hard_penalty={solution_copy.hard_penalty}\\n\", end='')\n",
    "                return repair(solution_copy, feasible_solutions, curr_depth+1, verbose)\n",
    "            else:\n",
    "                r_a_copy[i] = best_donor.r_a[i]  # exchange room with best donor\n",
    "                solution_copy = Timetable(instance, r_a_copy, d_a_copy)\n",
    "                \n",
    "                print(verbose * f\"Trying room exchange: index={i}, donor room={best_donor.r_a[i]}\\n\", end='')\n",
    "                \n",
    "                if solution_copy.hard_penalty < input_solution.hard_penalty:  # check for reduction in hard penalty\n",
    "                    print(verbose * f\"Room exchange improved solution: index={i}, new hard_penalty={solution_copy.hard_penalty}\\n\", end='')\n",
    "                    return repair(solution_copy, feasible_solutions, curr_depth+1, verbose)\n",
    "                else:\n",
    "                    d_a_copy[i] = input_solution.d_a[i]  # revert date back to original\n",
    "                    solution_copy = Timetable(instance, r_a_copy, d_a_copy)\n",
    "                    \n",
    "                    print(verbose * f\"Reverting date: index={i}, original date={input_solution.d_a[i]}\\n\", end='')\n",
    "                    \n",
    "                    if solution_copy.hard_penalty < input_solution.hard_penalty:  # check for reduction in hard penalty\n",
    "                        print(verbose * f\"Reversion improved solution: index={i}, new hard_penalty={solution_copy.hard_penalty}\\n\", end='')\n",
    "                        return repair(solution_copy, feasible_solutions, curr_depth+1, verbose)\n",
    "                \n",
    "    print(verbose * f\"No improvement found at depth {curr_depth}\\n\", end='')\n",
    "    return input_solution\n"
   ]
  },
  {
   "cell_type": "code",
   "execution_count": 15,
   "id": "4bc51d34",
   "metadata": {},
   "outputs": [],
   "source": [
    "criteria = lambda sol : sol.soft_penalty+ 10*sol.hard_penalty \n",
    "def genetic_algorithm(instance, initial_population, generations, pop_size, pool_size):\n",
    "    population = initial_population\n",
    "    \n",
    "    # Parameters\n",
    "    crossover_rate = 0.8\n",
    "    mutation_rate = 0.5\n",
    "    tournament_size = 5\n",
    "    elitism_count = 2\n",
    "\n",
    "    for generation in tqdm(range(generations+1)):\n",
    "        # Selection\n",
    "        mating_pool = tournmanet_selection(population, pool_size, tournament_size)\n",
    "        \n",
    "        # Crossover and Mutation\n",
    "        offsprings = []\n",
    "        for i in range(0, pool_size-1, 2):\n",
    "            parent1 = mating_pool[i]\n",
    "            parent2 = mating_pool[(i+1) % pool_size]\n",
    "            child1, child2 = crossover(parent1, parent2, crossover_rate)\n",
    "            \n",
    "            if np.random.rand() < mutation_rate:\n",
    "                child1 = mutation(child1, mutation_rate)\n",
    "            if np.random.rand() < mutation_rate:\n",
    "                child2 = mutation(child2, mutation_rate)\n",
    "            \n",
    "            offsprings.extend([child1, child2])\n",
    "        \n",
    "        top_offspring = repair(sorted(offsprings, key= lambda sol: sol.soft_penalty)[0], population, verbose=False)\n",
    "        offsprings.append(top_offspring)\n",
    "        \n",
    "        # Combine and Select Next Generation\n",
    "        combined_population = population + offsprings\n",
    "        combined_population = sorted(combined_population, key=criteria)\n",
    "        population = combined_population[:pop_size] #combined_population[:pop_size - elitism_count]\n",
    "        \n",
    "        # Add Elitism\n",
    "        # elites = combined_population[:elitism_count]\n",
    "        # population.extend(elites)\n",
    "        \n",
    "            \n",
    "        if criteria(population[0]) == criteria(population[-1]):\n",
    "            print(f\"Generation {generation}: Best = {criteria(population[0])}, Worst = {criteria(population[-1])}\")\n",
    "            break\n",
    "        \n",
    "        if generation % (generations//10) == 0 or generation==generations :\n",
    "            print(f\"Generation {generation}: Best = {criteria(population[0])}, Worst = {criteria(population[-1])}\")\n",
    "            \n",
    "    \n",
    "    return population\n"
   ]
  },
  {
   "cell_type": "markdown",
   "id": "ef5ab262",
   "metadata": {},
   "source": [
    "# Initialization"
   ]
  },
  {
   "cell_type": "code",
   "execution_count": 16,
   "id": "ea18e728",
   "metadata": {},
   "outputs": [
    {
     "name": "stdout",
     "output_type": "stream",
     "text": [
      "Created instance kfu-s-93.\n",
      "number of courses = 461, number of students = 5349\n",
      "number of timeslots = 20, number of rooms = 15\n"
     ]
    }
   ],
   "source": [
    "instance1 = Instance(instance_list[4])"
   ]
  },
  {
   "cell_type": "code",
   "execution_count": 27,
   "id": "ce0727d3",
   "metadata": {},
   "outputs": [
    {
     "data": {
      "application/vnd.jupyter.widget-view+json": {
       "model_id": "d33b7c69f6e6428db99342723b311c18",
       "version_major": 2,
       "version_minor": 0
      },
      "text/plain": [
       "  0%|          | 0/40 [00:00<?, ?it/s]"
      ]
     },
     "metadata": {},
     "output_type": "display_data"
    },
    {
     "data": {
      "application/vnd.jupyter.widget-view+json": {
       "model_id": "2c004b8ed7514619b62bfb943baa81f0",
       "version_major": 2,
       "version_minor": 0
      },
      "text/plain": [
       "  0%|          | 0/60 [00:00<?, ?it/s]"
      ]
     },
     "metadata": {},
     "output_type": "display_data"
    }
   ],
   "source": [
    "feasible_solutions = create_population(instance1, size=40)\n",
    "infeasible_solutions = create_random_population(instance1, size=60)\n",
    "total_population = feasible_solutions + infeasible_solutions"
   ]
  },
  {
   "cell_type": "code",
   "execution_count": 28,
   "id": "e1cb2200",
   "metadata": {},
   "outputs": [
    {
     "name": "stdout",
     "output_type": "stream",
     "text": [
      "1.7147462631682209 2.7113207956938505\n"
     ]
    }
   ],
   "source": [
    "sorted_population = sorted(total_population,key=criteria)\n",
    "print(sorted_population[0].soft_penalty, sorted_population[-1].soft_penalty)"
   ]
  },
  {
   "cell_type": "code",
   "execution_count": 29,
   "id": "bb640da7",
   "metadata": {},
   "outputs": [
    {
     "data": {
      "application/vnd.jupyter.widget-view+json": {
       "model_id": "82b4231b62134ee7851a7ce500bd5fac",
       "version_major": 2,
       "version_minor": 0
      },
      "text/plain": [
       "  0%|          | 0/101 [00:00<?, ?it/s]"
      ]
     },
     "metadata": {},
     "output_type": "display_data"
    },
    {
     "name": "stdout",
     "output_type": "stream",
     "text": [
      "Generation 0: Best = 1.7147462631682209, Worst = 9.880586516117324\n",
      "Generation 10: Best = 1.7147462631682209, Worst = 2.260693751143402\n",
      "Generation 20: Best = 1.7132549399578085, Worst = 1.8116280419100863\n",
      "Generation 30: Best = 1.7095944193504333, Worst = 1.713526089632429\n",
      "Generation 36: Best = 1.7095944193504333, Worst = 1.7095944193504333\n"
     ]
    }
   ],
   "source": [
    "improved_population = genetic_algorithm(instance1, total_population, 100, 100, 50)"
   ]
  },
  {
   "cell_type": "code",
   "execution_count": 30,
   "id": "ac59d87a",
   "metadata": {},
   "outputs": [
    {
     "data": {
      "text/plain": [
       "0.0"
      ]
     },
     "execution_count": 30,
     "metadata": {},
     "output_type": "execute_result"
    }
   ],
   "source": [
    "improved_population[0].hard_penalty"
   ]
  },
  {
   "cell_type": "code",
   "execution_count": 31,
   "id": "694bbbd6",
   "metadata": {},
   "outputs": [
    {
     "data": {
      "text/plain": [
       "1.7095944193504333"
      ]
     },
     "execution_count": 31,
     "metadata": {},
     "output_type": "execute_result"
    }
   ],
   "source": [
    "improved_population[0].soft_penalty"
   ]
  },
  {
   "cell_type": "code",
   "execution_count": null,
   "id": "c81d2f46",
   "metadata": {},
   "outputs": [],
   "source": []
  }
 ],
 "metadata": {
  "kernelspec": {
   "display_name": "Python 3 (ipykernel)",
   "language": "python",
   "name": "python3"
  },
  "language_info": {
   "codemirror_mode": {
    "name": "ipython",
    "version": 3
   },
   "file_extension": ".py",
   "mimetype": "text/x-python",
   "name": "python",
   "nbconvert_exporter": "python",
   "pygments_lexer": "ipython3",
   "version": "3.11.2"
  }
 },
 "nbformat": 4,
 "nbformat_minor": 5
}
