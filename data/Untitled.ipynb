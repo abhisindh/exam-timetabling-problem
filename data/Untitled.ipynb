{
 "cells": [
  {
   "cell_type": "code",
   "execution_count": 2,
   "id": "878d1ebc",
   "metadata": {},
   "outputs": [],
   "source": [
    "import pandas as pd\n",
    "import numpy as np\n",
    "import os"
   ]
  },
  {
   "cell_type": "code",
   "execution_count": 3,
   "id": "b2d3d203",
   "metadata": {},
   "outputs": [],
   "source": [
    "directory = 'car-f-92'\n",
    "files = ['data/'+f for f in os.listdir(directory) if os.path.isfile(os.path.join(directory, f))]"
   ]
  },
  {
   "cell_type": "code",
   "execution_count": 4,
   "id": "048885f9",
   "metadata": {},
   "outputs": [
    {
     "data": {
      "text/plain": [
       "['data/course_data.csv',\n",
       " 'data/dates.csv',\n",
       " 'data/datetime_preference.csv',\n",
       " 'data/room_data.csv',\n",
       " 'data/room_preference.csv',\n",
       " 'data/student_data.csv',\n",
       " 'data/times.csv']"
      ]
     },
     "execution_count": 4,
     "metadata": {},
     "output_type": "execute_result"
    }
   ],
   "source": [
    "files"
   ]
  },
  {
   "cell_type": "code",
   "execution_count": null,
   "id": "cd39e7d0",
   "metadata": {},
   "outputs": [],
   "source": []
  }
 ],
 "metadata": {
  "kernelspec": {
   "display_name": "Python 3 (ipykernel)",
   "language": "python",
   "name": "python3"
  },
  "language_info": {
   "codemirror_mode": {
    "name": "ipython",
    "version": 3
   },
   "file_extension": ".py",
   "mimetype": "text/x-python",
   "name": "python",
   "nbconvert_exporter": "python",
   "pygments_lexer": "ipython3",
   "version": "3.11.2"
  }
 },
 "nbformat": 4,
 "nbformat_minor": 5
}
